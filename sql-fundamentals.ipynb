{
 "cells": [
  {
   "cell_type": "markdown",
   "id": "2c521130",
   "metadata": {
    "papermill": {
     "duration": 0.013494,
     "end_time": "2024-05-26T20:37:56.911769",
     "exception": false,
     "start_time": "2024-05-26T20:37:56.898275",
     "status": "completed"
    },
    "tags": []
   },
   "source": [
    "# SQL FUNDAMENTALS"
   ]
  },
  {
   "cell_type": "markdown",
   "id": "c415da6d",
   "metadata": {
    "papermill": {
     "duration": 0.012286,
     "end_time": "2024-05-26T20:37:56.937086",
     "exception": false,
     "start_time": "2024-05-26T20:37:56.924800",
     "status": "completed"
    },
    "tags": []
   },
   "source": [
    "THIS NOTEBOOK WILL INVOLVE APPLYING BASIC SQL PRINCIPLES AND TECHNIQUES THAT I HAVE LEARNT SO FAR INCLUDING:\n",
    "* USING PLOTS FOR DATA ANALYSIS \n",
    "* ORDER BY, GROUP BY, AND LIKE STRING PATTERNS\n",
    "* SUB QUERIES AND NESTED SELECTS\n",
    "* WORKING WITH MULTIPLE DATASETS\n",
    "\n",
    "TO STRUCTURE THE NOTEBOOK I AM GOING TO PROPOSE BASIC QUESTIONS DESIGNED TO TEST THESE TECHNIQUES."
   ]
  },
  {
   "cell_type": "markdown",
   "id": "d4f487a7",
   "metadata": {
    "papermill": {
     "duration": 0.013299,
     "end_time": "2024-05-26T20:37:56.962835",
     "exception": false,
     "start_time": "2024-05-26T20:37:56.949536",
     "status": "completed"
    },
    "tags": []
   },
   "source": [
    "# DATASETS \n",
    "\n",
    "CHICAGO CENSUS DATA \n",
    "\n",
    "https://cf-courses-data.s3.us.cloud-object-storage.appdomain.cloud/IBMDeveloperSkillsNetwork-DB0201EN-SkillsNetwork/labs/FinalModule_Coursera_V5/data/ChicagoCensusData.csv?utm_medium=Exinfluencer&utm_source=Exinfluencer&utm_content=000026UJ&utm_term=10006555&utm_id=NA-SkillsNetwork-Channel-SkillsNetworkCoursesIBMDeveloperSkillsNetworkDB0201ENSkillsNetwork20127838-2021-01-01\n",
    "\n",
    "CHICAGO PUBLIC SCHOOLS \n",
    "\n",
    "https://cf-courses-data.s3.us.cloud-object-storage.appdomain.cloud/IBMDeveloperSkillsNetwork-DB0201EN-SkillsNetwork/labs/FinalModule_Coursera_V5/data/ChicagoPublicSchools.csv?utm_medium=Exinfluencer&utm_source=Exinfluencer&utm_content=000026UJ&utm_term=10006555&utm_id=NA-SkillsNetwork-Channel-SkillsNetworkCoursesIBMDeveloperSkillsNetworkDB0201ENSkillsNetwork20127838-2021-01-01\n",
    "\n",
    "CHICAGO CRIME DATA \n",
    "\n",
    "https://cf-courses-data.s3.us.cloud-object-storage.appdomain.cloud/IBMDeveloperSkillsNetwork-DB0201EN-SkillsNetwork/labs/FinalModule_Coursera_V5/data/ChicagoCrimeData.csv?utm_medium=Exinfluencer&utm_source=Exinfluencer&utm_content=000026UJ&utm_term=10006555&utm_id=NA-SkillsNetwork-Channel-SkillsNetworkCoursesIBMDeveloperSkillsNetworkDB0201ENSkillsNetwork20127838-2021-01-01\n",
    "\n"
   ]
  },
  {
   "cell_type": "markdown",
   "id": "7bebd138",
   "metadata": {
    "papermill": {
     "duration": 0.012342,
     "end_time": "2024-05-26T20:37:56.987717",
     "exception": false,
     "start_time": "2024-05-26T20:37:56.975375",
     "status": "completed"
    },
    "tags": []
   },
   "source": [
    "LOAD ```pandas``` and `sqlite3` libraries"
   ]
  },
  {
   "cell_type": "code",
   "execution_count": 1,
   "id": "652a3168",
   "metadata": {
    "execution": {
     "iopub.execute_input": "2024-05-26T20:37:57.014398Z",
     "iopub.status.busy": "2024-05-26T20:37:57.014021Z",
     "iopub.status.idle": "2024-05-26T20:37:57.786449Z",
     "shell.execute_reply": "2024-05-26T20:37:57.785503Z"
    },
    "papermill": {
     "duration": 0.788656,
     "end_time": "2024-05-26T20:37:57.788870",
     "exception": false,
     "start_time": "2024-05-26T20:37:57.000214",
     "status": "completed"
    },
    "tags": []
   },
   "outputs": [],
   "source": [
    "import pandas as pd \n",
    "import csv, sqlite3"
   ]
  },
  {
   "cell_type": "markdown",
   "id": "4cf13740",
   "metadata": {
    "papermill": {
     "duration": 0.014867,
     "end_time": "2024-05-26T20:37:57.816869",
     "exception": false,
     "start_time": "2024-05-26T20:37:57.802002",
     "status": "completed"
    },
    "tags": []
   },
   "source": [
    "ESTABLISH A CONNECTION TO DATABASE"
   ]
  },
  {
   "cell_type": "code",
   "execution_count": 2,
   "id": "d019f1df",
   "metadata": {
    "execution": {
     "iopub.execute_input": "2024-05-26T20:37:57.843537Z",
     "iopub.status.busy": "2024-05-26T20:37:57.843045Z",
     "iopub.status.idle": "2024-05-26T20:37:57.848145Z",
     "shell.execute_reply": "2024-05-26T20:37:57.847214Z"
    },
    "papermill": {
     "duration": 0.020886,
     "end_time": "2024-05-26T20:37:57.850220",
     "exception": false,
     "start_time": "2024-05-26T20:37:57.829334",
     "status": "completed"
    },
    "tags": []
   },
   "outputs": [],
   "source": [
    "con = sqlite3.connect(\"FinalDB.db\")\n",
    "cur = con.cursor()"
   ]
  },
  {
   "cell_type": "markdown",
   "id": "d2383d75",
   "metadata": {
    "papermill": {
     "duration": 0.012021,
     "end_time": "2024-05-26T20:37:57.874743",
     "exception": false,
     "start_time": "2024-05-26T20:37:57.862722",
     "status": "completed"
    },
    "tags": []
   },
   "source": [
    "SQL MAGIC MODULE "
   ]
  },
  {
   "cell_type": "code",
   "execution_count": 3,
   "id": "83a72db6",
   "metadata": {
    "execution": {
     "iopub.execute_input": "2024-05-26T20:37:57.900761Z",
     "iopub.status.busy": "2024-05-26T20:37:57.900364Z",
     "iopub.status.idle": "2024-05-26T20:37:58.623415Z",
     "shell.execute_reply": "2024-05-26T20:37:58.622003Z"
    },
    "papermill": {
     "duration": 0.739155,
     "end_time": "2024-05-26T20:37:58.626059",
     "exception": false,
     "start_time": "2024-05-26T20:37:57.886904",
     "status": "completed"
    },
    "tags": []
   },
   "outputs": [],
   "source": [
    "%load_ext sql"
   ]
  },
  {
   "cell_type": "markdown",
   "id": "517ac1b1",
   "metadata": {
    "papermill": {
     "duration": 0.01201,
     "end_time": "2024-05-26T20:37:58.650694",
     "exception": false,
     "start_time": "2024-05-26T20:37:58.638684",
     "status": "completed"
    },
    "tags": []
   },
   "source": [
    "LOAD THE DATA TO DATAFRAMES AND LOAD DATA TO DATABASE"
   ]
  },
  {
   "cell_type": "code",
   "execution_count": 4,
   "id": "8febc169",
   "metadata": {
    "execution": {
     "iopub.execute_input": "2024-05-26T20:37:58.676790Z",
     "iopub.status.busy": "2024-05-26T20:37:58.676396Z",
     "iopub.status.idle": "2024-05-26T20:38:03.763323Z",
     "shell.execute_reply": "2024-05-26T20:38:03.762295Z"
    },
    "papermill": {
     "duration": 5.103335,
     "end_time": "2024-05-26T20:38:03.766290",
     "exception": false,
     "start_time": "2024-05-26T20:37:58.662955",
     "status": "completed"
    },
    "tags": []
   },
   "outputs": [
    {
     "data": {
      "text/plain": [
       "533"
      ]
     },
     "execution_count": 4,
     "metadata": {},
     "output_type": "execute_result"
    }
   ],
   "source": [
    "df = pd.read_csv(\"https://cf-courses-data.s3.us.cloud-object-storage.appdomain.cloud/IBMDeveloperSkillsNetwork-DB0201EN-SkillsNetwork/labs/FinalModule_Coursera_V5/data/ChicagoCensusData.csv?utm_medium=Exinfluencer&utm_source=Exinfluencer&utm_content=000026UJ&utm_term=10006555&utm_id=NA-SkillsNetwork-Channel-SkillsNetworkCoursesIBMDeveloperSkillsNetworkDB0201ENSkillsNetwork20127838-2021-01-01\")\n",
    "df.to_sql(\"CENSUS_DATA\", con, if_exists='replace', index=False,method=\"multi\")\n",
    "\n",
    "df = pd.read_csv(\"https://cf-courses-data.s3.us.cloud-object-storage.appdomain.cloud/IBMDeveloperSkillsNetwork-DB0201EN-SkillsNetwork/labs/FinalModule_Coursera_V5/data/ChicagoPublicSchools.csv?utm_medium=Exinfluencer&utm_source=Exinfluencer&utm_content=000026UJ&utm_term=10006555&utm_id=NA-SkillsNetwork-Channel-SkillsNetworkCoursesIBMDeveloperSkillsNetworkDB0201ENSkillsNetwork20127838-2021-01-01\")\n",
    "df.to_sql(\"CHICAGO_PUBLIC_SCHOOLS_DATA\", con, if_exists='replace', index=False,method=\"multi\")\n",
    "\n",
    "df = pd.read_csv(\"https://cf-courses-data.s3.us.cloud-object-storage.appdomain.cloud/IBMDeveloperSkillsNetwork-DB0201EN-SkillsNetwork/labs/FinalModule_Coursera_V5/data/ChicagoCrimeData.csv?utm_medium=Exinfluencer&utm_source=Exinfluencer&utm_content=000026UJ&utm_term=10006555&utm_id=NA-SkillsNetwork-Channel-SkillsNetworkCoursesIBMDeveloperSkillsNetworkDB0201ENSkillsNetwork20127838-2021-01-01\")\n",
    "df.to_sql(\"CHICAGO_CRIME_DATA\", con, if_exists='replace', index=False,method=\"multi\")"
   ]
  },
  {
   "cell_type": "code",
   "execution_count": 5,
   "id": "54fdaf9c",
   "metadata": {
    "execution": {
     "iopub.execute_input": "2024-05-26T20:38:03.806043Z",
     "iopub.status.busy": "2024-05-26T20:38:03.805658Z",
     "iopub.status.idle": "2024-05-26T20:38:03.851812Z",
     "shell.execute_reply": "2024-05-26T20:38:03.850775Z"
    },
    "papermill": {
     "duration": 0.067557,
     "end_time": "2024-05-26T20:38:03.854674",
     "exception": false,
     "start_time": "2024-05-26T20:38:03.787117",
     "status": "completed"
    },
    "tags": []
   },
   "outputs": [],
   "source": [
    "%sql sqlite:///FinalDB.db"
   ]
  },
  {
   "cell_type": "markdown",
   "id": "49b9c29e",
   "metadata": {
    "papermill": {
     "duration": 0.01214,
     "end_time": "2024-05-26T20:38:03.879512",
     "exception": false,
     "start_time": "2024-05-26T20:38:03.867372",
     "status": "completed"
    },
    "tags": []
   },
   "source": [
    "QUERY DATABASE TO CHECK IT WORKED "
   ]
  },
  {
   "cell_type": "code",
   "execution_count": 6,
   "id": "be472d91",
   "metadata": {
    "execution": {
     "iopub.execute_input": "2024-05-26T20:38:03.913722Z",
     "iopub.status.busy": "2024-05-26T20:38:03.913010Z",
     "iopub.status.idle": "2024-05-26T20:38:03.934473Z",
     "shell.execute_reply": "2024-05-26T20:38:03.933418Z"
    },
    "papermill": {
     "duration": 0.044934,
     "end_time": "2024-05-26T20:38:03.936908",
     "exception": false,
     "start_time": "2024-05-26T20:38:03.891974",
     "status": "completed"
    },
    "tags": []
   },
   "outputs": [
    {
     "name": "stdout",
     "output_type": "stream",
     "text": [
      " * sqlite:///FinalDB.db\n",
      "Done.\n"
     ]
    },
    {
     "data": {
      "text/html": [
       "<table>\n",
       "    <thead>\n",
       "        <tr>\n",
       "            <th>name</th>\n",
       "        </tr>\n",
       "    </thead>\n",
       "    <tbody>\n",
       "        <tr>\n",
       "            <td>CENSUS_DATA</td>\n",
       "        </tr>\n",
       "        <tr>\n",
       "            <td>CHICAGO_PUBLIC_SCHOOLS_DATA</td>\n",
       "        </tr>\n",
       "        <tr>\n",
       "            <td>CHICAGO_CRIME_DATA</td>\n",
       "        </tr>\n",
       "    </tbody>\n",
       "</table>"
      ],
      "text/plain": [
       "[('CENSUS_DATA',), ('CHICAGO_PUBLIC_SCHOOLS_DATA',), ('CHICAGO_CRIME_DATA',)]"
      ]
     },
     "execution_count": 6,
     "metadata": {},
     "output_type": "execute_result"
    }
   ],
   "source": [
    "%sql SELECT name FROM sqlite_master WHERE type='table'"
   ]
  },
  {
   "cell_type": "markdown",
   "id": "ded319fd",
   "metadata": {
    "papermill": {
     "duration": 0.012837,
     "end_time": "2024-05-26T20:38:03.968038",
     "exception": false,
     "start_time": "2024-05-26T20:38:03.955201",
     "status": "completed"
    },
    "tags": []
   },
   "source": [
    "### Q1: HOW MANY ROWS ARE IN THE DATASETS? ###"
   ]
  },
  {
   "cell_type": "code",
   "execution_count": 7,
   "id": "866f3c41",
   "metadata": {
    "execution": {
     "iopub.execute_input": "2024-05-26T20:38:03.996292Z",
     "iopub.status.busy": "2024-05-26T20:38:03.995010Z",
     "iopub.status.idle": "2024-05-26T20:38:04.005823Z",
     "shell.execute_reply": "2024-05-26T20:38:04.004598Z"
    },
    "papermill": {
     "duration": 0.027289,
     "end_time": "2024-05-26T20:38:04.008108",
     "exception": false,
     "start_time": "2024-05-26T20:38:03.980819",
     "status": "completed"
    },
    "tags": []
   },
   "outputs": [
    {
     "name": "stdout",
     "output_type": "stream",
     "text": [
      " * sqlite:///FinalDB.db\n",
      "Done.\n"
     ]
    },
    {
     "data": {
      "text/html": [
       "<table>\n",
       "    <thead>\n",
       "        <tr>\n",
       "            <th>COUNT(0)</th>\n",
       "        </tr>\n",
       "    </thead>\n",
       "    <tbody>\n",
       "        <tr>\n",
       "            <td>78</td>\n",
       "        </tr>\n",
       "    </tbody>\n",
       "</table>"
      ],
      "text/plain": [
       "[(78,)]"
      ]
     },
     "execution_count": 7,
     "metadata": {},
     "output_type": "execute_result"
    }
   ],
   "source": [
    "%sql SELECT COUNT(0) from CENSUS_DATA;"
   ]
  },
  {
   "cell_type": "code",
   "execution_count": 8,
   "id": "875c5633",
   "metadata": {
    "execution": {
     "iopub.execute_input": "2024-05-26T20:38:04.036700Z",
     "iopub.status.busy": "2024-05-26T20:38:04.036232Z",
     "iopub.status.idle": "2024-05-26T20:38:04.048226Z",
     "shell.execute_reply": "2024-05-26T20:38:04.047221Z"
    },
    "papermill": {
     "duration": 0.028876,
     "end_time": "2024-05-26T20:38:04.050380",
     "exception": false,
     "start_time": "2024-05-26T20:38:04.021504",
     "status": "completed"
    },
    "tags": []
   },
   "outputs": [
    {
     "name": "stdout",
     "output_type": "stream",
     "text": [
      " * sqlite:///FinalDB.db\n",
      "Done.\n"
     ]
    },
    {
     "data": {
      "text/html": [
       "<table>\n",
       "    <thead>\n",
       "        <tr>\n",
       "            <th>COUNT(*)</th>\n",
       "        </tr>\n",
       "    </thead>\n",
       "    <tbody>\n",
       "        <tr>\n",
       "            <td>566</td>\n",
       "        </tr>\n",
       "    </tbody>\n",
       "</table>"
      ],
      "text/plain": [
       "[(566,)]"
      ]
     },
     "execution_count": 8,
     "metadata": {},
     "output_type": "execute_result"
    }
   ],
   "source": [
    "%sql SELECT COUNT(*) from CHICAGO_PUBLIC_SCHOOLS_DATA;"
   ]
  },
  {
   "cell_type": "code",
   "execution_count": 9,
   "id": "4048a911",
   "metadata": {
    "execution": {
     "iopub.execute_input": "2024-05-26T20:38:04.087837Z",
     "iopub.status.busy": "2024-05-26T20:38:04.086990Z",
     "iopub.status.idle": "2024-05-26T20:38:04.095546Z",
     "shell.execute_reply": "2024-05-26T20:38:04.094867Z"
    },
    "papermill": {
     "duration": 0.03471,
     "end_time": "2024-05-26T20:38:04.099505",
     "exception": false,
     "start_time": "2024-05-26T20:38:04.064795",
     "status": "completed"
    },
    "tags": []
   },
   "outputs": [
    {
     "name": "stdout",
     "output_type": "stream",
     "text": [
      " * sqlite:///FinalDB.db\n",
      "Done.\n"
     ]
    },
    {
     "data": {
      "text/html": [
       "<table>\n",
       "    <thead>\n",
       "        <tr>\n",
       "            <th>COUNT(*)</th>\n",
       "        </tr>\n",
       "    </thead>\n",
       "    <tbody>\n",
       "        <tr>\n",
       "            <td>533</td>\n",
       "        </tr>\n",
       "    </tbody>\n",
       "</table>"
      ],
      "text/plain": [
       "[(533,)]"
      ]
     },
     "execution_count": 9,
     "metadata": {},
     "output_type": "execute_result"
    }
   ],
   "source": [
    "%sql SELECT COUNT(*) from CHICAGO_CRIME_DATA; "
   ]
  },
  {
   "cell_type": "markdown",
   "id": "c0f8925c",
   "metadata": {
    "papermill": {
     "duration": 0.013825,
     "end_time": "2024-05-26T20:38:04.129192",
     "exception": false,
     "start_time": "2024-05-26T20:38:04.115367",
     "status": "completed"
    },
    "tags": []
   },
   "source": [
    "### Q2 WHAT ARE THE COLUMNS, THEIR DATATYPE AND LENGTH?"
   ]
  },
  {
   "cell_type": "code",
   "execution_count": 10,
   "id": "7bf55f60",
   "metadata": {
    "execution": {
     "iopub.execute_input": "2024-05-26T20:38:04.167066Z",
     "iopub.status.busy": "2024-05-26T20:38:04.166296Z",
     "iopub.status.idle": "2024-05-26T20:38:04.180769Z",
     "shell.execute_reply": "2024-05-26T20:38:04.179535Z"
    },
    "papermill": {
     "duration": 0.035843,
     "end_time": "2024-05-26T20:38:04.183354",
     "exception": false,
     "start_time": "2024-05-26T20:38:04.147511",
     "status": "completed"
    },
    "tags": []
   },
   "outputs": [
    {
     "name": "stdout",
     "output_type": "stream",
     "text": [
      " * sqlite:///FinalDB.db\n",
      "Done.\n"
     ]
    },
    {
     "data": {
      "text/html": [
       "<table>\n",
       "    <thead>\n",
       "        <tr>\n",
       "            <th>name</th>\n",
       "            <th>type</th>\n",
       "            <th>length(type)</th>\n",
       "        </tr>\n",
       "    </thead>\n",
       "    <tbody>\n",
       "        <tr>\n",
       "            <td>COMMUNITY_AREA_NUMBER</td>\n",
       "            <td>REAL</td>\n",
       "            <td>4</td>\n",
       "        </tr>\n",
       "        <tr>\n",
       "            <td>COMMUNITY_AREA_NAME</td>\n",
       "            <td>TEXT</td>\n",
       "            <td>4</td>\n",
       "        </tr>\n",
       "        <tr>\n",
       "            <td>PERCENT_OF_HOUSING_CROWDED</td>\n",
       "            <td>REAL</td>\n",
       "            <td>4</td>\n",
       "        </tr>\n",
       "        <tr>\n",
       "            <td>PERCENT_HOUSEHOLDS_BELOW_POVERTY</td>\n",
       "            <td>REAL</td>\n",
       "            <td>4</td>\n",
       "        </tr>\n",
       "        <tr>\n",
       "            <td>PERCENT_AGED_16__UNEMPLOYED</td>\n",
       "            <td>REAL</td>\n",
       "            <td>4</td>\n",
       "        </tr>\n",
       "        <tr>\n",
       "            <td>PERCENT_AGED_25__WITHOUT_HIGH_SCHOOL_DIPLOMA</td>\n",
       "            <td>REAL</td>\n",
       "            <td>4</td>\n",
       "        </tr>\n",
       "        <tr>\n",
       "            <td>PERCENT_AGED_UNDER_18_OR_OVER_64</td>\n",
       "            <td>REAL</td>\n",
       "            <td>4</td>\n",
       "        </tr>\n",
       "        <tr>\n",
       "            <td>PER_CAPITA_INCOME</td>\n",
       "            <td>INTEGER</td>\n",
       "            <td>7</td>\n",
       "        </tr>\n",
       "        <tr>\n",
       "            <td>HARDSHIP_INDEX</td>\n",
       "            <td>REAL</td>\n",
       "            <td>4</td>\n",
       "        </tr>\n",
       "    </tbody>\n",
       "</table>"
      ],
      "text/plain": [
       "[('COMMUNITY_AREA_NUMBER', 'REAL', 4),\n",
       " ('COMMUNITY_AREA_NAME', 'TEXT', 4),\n",
       " ('PERCENT_OF_HOUSING_CROWDED', 'REAL', 4),\n",
       " ('PERCENT_HOUSEHOLDS_BELOW_POVERTY', 'REAL', 4),\n",
       " ('PERCENT_AGED_16__UNEMPLOYED', 'REAL', 4),\n",
       " ('PERCENT_AGED_25__WITHOUT_HIGH_SCHOOL_DIPLOMA', 'REAL', 4),\n",
       " ('PERCENT_AGED_UNDER_18_OR_OVER_64', 'REAL', 4),\n",
       " ('PER_CAPITA_INCOME', 'INTEGER', 7),\n",
       " ('HARDSHIP_INDEX', 'REAL', 4)]"
      ]
     },
     "execution_count": 10,
     "metadata": {},
     "output_type": "execute_result"
    }
   ],
   "source": [
    "%sql SELECT name,type,length(type) FROM PRAGMA_TABLE_INFO('CENSUS_DATA');"
   ]
  },
  {
   "cell_type": "code",
   "execution_count": 11,
   "id": "17c91d4e",
   "metadata": {
    "execution": {
     "iopub.execute_input": "2024-05-26T20:38:04.217971Z",
     "iopub.status.busy": "2024-05-26T20:38:04.217500Z",
     "iopub.status.idle": "2024-05-26T20:38:04.237564Z",
     "shell.execute_reply": "2024-05-26T20:38:04.235686Z"
    },
    "papermill": {
     "duration": 0.039973,
     "end_time": "2024-05-26T20:38:04.241642",
     "exception": false,
     "start_time": "2024-05-26T20:38:04.201669",
     "status": "completed"
    },
    "tags": []
   },
   "outputs": [
    {
     "name": "stdout",
     "output_type": "stream",
     "text": [
      " * sqlite:///FinalDB.db\n",
      "Done.\n"
     ]
    },
    {
     "data": {
      "text/html": [
       "<table>\n",
       "    <thead>\n",
       "        <tr>\n",
       "            <th>name</th>\n",
       "            <th>type</th>\n",
       "            <th>length(type)</th>\n",
       "        </tr>\n",
       "    </thead>\n",
       "    <tbody>\n",
       "        <tr>\n",
       "            <td>School_ID</td>\n",
       "            <td>INTEGER</td>\n",
       "            <td>7</td>\n",
       "        </tr>\n",
       "        <tr>\n",
       "            <td>NAME_OF_SCHOOL</td>\n",
       "            <td>TEXT</td>\n",
       "            <td>4</td>\n",
       "        </tr>\n",
       "        <tr>\n",
       "            <td>Elementary, Middle, or High School</td>\n",
       "            <td>TEXT</td>\n",
       "            <td>4</td>\n",
       "        </tr>\n",
       "        <tr>\n",
       "            <td>Street_Address</td>\n",
       "            <td>TEXT</td>\n",
       "            <td>4</td>\n",
       "        </tr>\n",
       "        <tr>\n",
       "            <td>City</td>\n",
       "            <td>TEXT</td>\n",
       "            <td>4</td>\n",
       "        </tr>\n",
       "        <tr>\n",
       "            <td>State</td>\n",
       "            <td>TEXT</td>\n",
       "            <td>4</td>\n",
       "        </tr>\n",
       "        <tr>\n",
       "            <td>ZIP_Code</td>\n",
       "            <td>INTEGER</td>\n",
       "            <td>7</td>\n",
       "        </tr>\n",
       "        <tr>\n",
       "            <td>Phone_Number</td>\n",
       "            <td>TEXT</td>\n",
       "            <td>4</td>\n",
       "        </tr>\n",
       "        <tr>\n",
       "            <td>Link</td>\n",
       "            <td>TEXT</td>\n",
       "            <td>4</td>\n",
       "        </tr>\n",
       "        <tr>\n",
       "            <td>Network_Manager</td>\n",
       "            <td>TEXT</td>\n",
       "            <td>4</td>\n",
       "        </tr>\n",
       "        <tr>\n",
       "            <td>Collaborative_Name</td>\n",
       "            <td>TEXT</td>\n",
       "            <td>4</td>\n",
       "        </tr>\n",
       "        <tr>\n",
       "            <td>Adequate_Yearly_Progress_Made_</td>\n",
       "            <td>TEXT</td>\n",
       "            <td>4</td>\n",
       "        </tr>\n",
       "        <tr>\n",
       "            <td>Track_Schedule</td>\n",
       "            <td>TEXT</td>\n",
       "            <td>4</td>\n",
       "        </tr>\n",
       "        <tr>\n",
       "            <td>CPS_Performance_Policy_Status</td>\n",
       "            <td>TEXT</td>\n",
       "            <td>4</td>\n",
       "        </tr>\n",
       "        <tr>\n",
       "            <td>CPS_Performance_Policy_Level</td>\n",
       "            <td>TEXT</td>\n",
       "            <td>4</td>\n",
       "        </tr>\n",
       "        <tr>\n",
       "            <td>HEALTHY_SCHOOL_CERTIFIED</td>\n",
       "            <td>TEXT</td>\n",
       "            <td>4</td>\n",
       "        </tr>\n",
       "        <tr>\n",
       "            <td>Safety_Icon</td>\n",
       "            <td>TEXT</td>\n",
       "            <td>4</td>\n",
       "        </tr>\n",
       "        <tr>\n",
       "            <td>SAFETY_SCORE</td>\n",
       "            <td>REAL</td>\n",
       "            <td>4</td>\n",
       "        </tr>\n",
       "        <tr>\n",
       "            <td>Family_Involvement_Icon</td>\n",
       "            <td>TEXT</td>\n",
       "            <td>4</td>\n",
       "        </tr>\n",
       "        <tr>\n",
       "            <td>Family_Involvement_Score</td>\n",
       "            <td>TEXT</td>\n",
       "            <td>4</td>\n",
       "        </tr>\n",
       "        <tr>\n",
       "            <td>Environment_Icon</td>\n",
       "            <td>TEXT</td>\n",
       "            <td>4</td>\n",
       "        </tr>\n",
       "        <tr>\n",
       "            <td>Environment_Score</td>\n",
       "            <td>REAL</td>\n",
       "            <td>4</td>\n",
       "        </tr>\n",
       "        <tr>\n",
       "            <td>Instruction_Icon</td>\n",
       "            <td>TEXT</td>\n",
       "            <td>4</td>\n",
       "        </tr>\n",
       "        <tr>\n",
       "            <td>Instruction_Score</td>\n",
       "            <td>REAL</td>\n",
       "            <td>4</td>\n",
       "        </tr>\n",
       "        <tr>\n",
       "            <td>Leaders_Icon</td>\n",
       "            <td>TEXT</td>\n",
       "            <td>4</td>\n",
       "        </tr>\n",
       "        <tr>\n",
       "            <td>Leaders_Score</td>\n",
       "            <td>TEXT</td>\n",
       "            <td>4</td>\n",
       "        </tr>\n",
       "        <tr>\n",
       "            <td>Teachers_Icon</td>\n",
       "            <td>TEXT</td>\n",
       "            <td>4</td>\n",
       "        </tr>\n",
       "        <tr>\n",
       "            <td>Teachers_Score</td>\n",
       "            <td>TEXT</td>\n",
       "            <td>4</td>\n",
       "        </tr>\n",
       "        <tr>\n",
       "            <td>Parent_Engagement_Icon</td>\n",
       "            <td>TEXT</td>\n",
       "            <td>4</td>\n",
       "        </tr>\n",
       "        <tr>\n",
       "            <td>Parent_Engagement_Score</td>\n",
       "            <td>TEXT</td>\n",
       "            <td>4</td>\n",
       "        </tr>\n",
       "        <tr>\n",
       "            <td>Parent_Environment_Icon</td>\n",
       "            <td>TEXT</td>\n",
       "            <td>4</td>\n",
       "        </tr>\n",
       "        <tr>\n",
       "            <td>Parent_Environment_Score</td>\n",
       "            <td>TEXT</td>\n",
       "            <td>4</td>\n",
       "        </tr>\n",
       "        <tr>\n",
       "            <td>AVERAGE_STUDENT_ATTENDANCE</td>\n",
       "            <td>TEXT</td>\n",
       "            <td>4</td>\n",
       "        </tr>\n",
       "        <tr>\n",
       "            <td>Rate_of_Misconducts__per_100_students_</td>\n",
       "            <td>REAL</td>\n",
       "            <td>4</td>\n",
       "        </tr>\n",
       "        <tr>\n",
       "            <td>Average_Teacher_Attendance</td>\n",
       "            <td>TEXT</td>\n",
       "            <td>4</td>\n",
       "        </tr>\n",
       "        <tr>\n",
       "            <td>Individualized_Education_Program_Compliance_Rate</td>\n",
       "            <td>TEXT</td>\n",
       "            <td>4</td>\n",
       "        </tr>\n",
       "        <tr>\n",
       "            <td>Pk_2_Literacy__</td>\n",
       "            <td>TEXT</td>\n",
       "            <td>4</td>\n",
       "        </tr>\n",
       "        <tr>\n",
       "            <td>Pk_2_Math__</td>\n",
       "            <td>TEXT</td>\n",
       "            <td>4</td>\n",
       "        </tr>\n",
       "        <tr>\n",
       "            <td>Gr3_5_Grade_Level_Math__</td>\n",
       "            <td>TEXT</td>\n",
       "            <td>4</td>\n",
       "        </tr>\n",
       "        <tr>\n",
       "            <td>Gr3_5_Grade_Level_Read__</td>\n",
       "            <td>TEXT</td>\n",
       "            <td>4</td>\n",
       "        </tr>\n",
       "        <tr>\n",
       "            <td>Gr3_5_Keep_Pace_Read__</td>\n",
       "            <td>TEXT</td>\n",
       "            <td>4</td>\n",
       "        </tr>\n",
       "        <tr>\n",
       "            <td>Gr3_5_Keep_Pace_Math__</td>\n",
       "            <td>TEXT</td>\n",
       "            <td>4</td>\n",
       "        </tr>\n",
       "        <tr>\n",
       "            <td>Gr6_8_Grade_Level_Math__</td>\n",
       "            <td>TEXT</td>\n",
       "            <td>4</td>\n",
       "        </tr>\n",
       "        <tr>\n",
       "            <td>Gr6_8_Grade_Level_Read__</td>\n",
       "            <td>TEXT</td>\n",
       "            <td>4</td>\n",
       "        </tr>\n",
       "        <tr>\n",
       "            <td>Gr6_8_Keep_Pace_Math_</td>\n",
       "            <td>TEXT</td>\n",
       "            <td>4</td>\n",
       "        </tr>\n",
       "        <tr>\n",
       "            <td>Gr6_8_Keep_Pace_Read__</td>\n",
       "            <td>TEXT</td>\n",
       "            <td>4</td>\n",
       "        </tr>\n",
       "        <tr>\n",
       "            <td>Gr_8_Explore_Math__</td>\n",
       "            <td>TEXT</td>\n",
       "            <td>4</td>\n",
       "        </tr>\n",
       "        <tr>\n",
       "            <td>Gr_8_Explore_Read__</td>\n",
       "            <td>TEXT</td>\n",
       "            <td>4</td>\n",
       "        </tr>\n",
       "        <tr>\n",
       "            <td>ISAT_Exceeding_Math__</td>\n",
       "            <td>REAL</td>\n",
       "            <td>4</td>\n",
       "        </tr>\n",
       "        <tr>\n",
       "            <td>ISAT_Exceeding_Reading__</td>\n",
       "            <td>REAL</td>\n",
       "            <td>4</td>\n",
       "        </tr>\n",
       "        <tr>\n",
       "            <td>ISAT_Value_Add_Math</td>\n",
       "            <td>REAL</td>\n",
       "            <td>4</td>\n",
       "        </tr>\n",
       "        <tr>\n",
       "            <td>ISAT_Value_Add_Read</td>\n",
       "            <td>REAL</td>\n",
       "            <td>4</td>\n",
       "        </tr>\n",
       "        <tr>\n",
       "            <td>ISAT_Value_Add_Color_Math</td>\n",
       "            <td>TEXT</td>\n",
       "            <td>4</td>\n",
       "        </tr>\n",
       "        <tr>\n",
       "            <td>ISAT_Value_Add_Color_Read</td>\n",
       "            <td>TEXT</td>\n",
       "            <td>4</td>\n",
       "        </tr>\n",
       "        <tr>\n",
       "            <td>Students_Taking__Algebra__</td>\n",
       "            <td>TEXT</td>\n",
       "            <td>4</td>\n",
       "        </tr>\n",
       "        <tr>\n",
       "            <td>Students_Passing__Algebra__</td>\n",
       "            <td>TEXT</td>\n",
       "            <td>4</td>\n",
       "        </tr>\n",
       "        <tr>\n",
       "            <td>9th Grade EXPLORE (2009)</td>\n",
       "            <td>TEXT</td>\n",
       "            <td>4</td>\n",
       "        </tr>\n",
       "        <tr>\n",
       "            <td>9th Grade EXPLORE (2010)</td>\n",
       "            <td>TEXT</td>\n",
       "            <td>4</td>\n",
       "        </tr>\n",
       "        <tr>\n",
       "            <td>10th Grade PLAN (2009)</td>\n",
       "            <td>TEXT</td>\n",
       "            <td>4</td>\n",
       "        </tr>\n",
       "        <tr>\n",
       "            <td>10th Grade PLAN (2010)</td>\n",
       "            <td>TEXT</td>\n",
       "            <td>4</td>\n",
       "        </tr>\n",
       "        <tr>\n",
       "            <td>Net_Change_EXPLORE_and_PLAN</td>\n",
       "            <td>TEXT</td>\n",
       "            <td>4</td>\n",
       "        </tr>\n",
       "        <tr>\n",
       "            <td>11th Grade Average ACT (2011)</td>\n",
       "            <td>TEXT</td>\n",
       "            <td>4</td>\n",
       "        </tr>\n",
       "        <tr>\n",
       "            <td>Net_Change_PLAN_and_ACT</td>\n",
       "            <td>TEXT</td>\n",
       "            <td>4</td>\n",
       "        </tr>\n",
       "        <tr>\n",
       "            <td>College_Eligibility__</td>\n",
       "            <td>TEXT</td>\n",
       "            <td>4</td>\n",
       "        </tr>\n",
       "        <tr>\n",
       "            <td>Graduation_Rate__</td>\n",
       "            <td>TEXT</td>\n",
       "            <td>4</td>\n",
       "        </tr>\n",
       "        <tr>\n",
       "            <td>College_Enrollment_Rate__</td>\n",
       "            <td>TEXT</td>\n",
       "            <td>4</td>\n",
       "        </tr>\n",
       "        <tr>\n",
       "            <td>COLLEGE_ENROLLMENT</td>\n",
       "            <td>INTEGER</td>\n",
       "            <td>7</td>\n",
       "        </tr>\n",
       "        <tr>\n",
       "            <td>General_Services_Route</td>\n",
       "            <td>INTEGER</td>\n",
       "            <td>7</td>\n",
       "        </tr>\n",
       "        <tr>\n",
       "            <td>Freshman_on_Track_Rate__</td>\n",
       "            <td>TEXT</td>\n",
       "            <td>4</td>\n",
       "        </tr>\n",
       "        <tr>\n",
       "            <td>X_COORDINATE</td>\n",
       "            <td>REAL</td>\n",
       "            <td>4</td>\n",
       "        </tr>\n",
       "        <tr>\n",
       "            <td>Y_COORDINATE</td>\n",
       "            <td>REAL</td>\n",
       "            <td>4</td>\n",
       "        </tr>\n",
       "        <tr>\n",
       "            <td>Latitude</td>\n",
       "            <td>REAL</td>\n",
       "            <td>4</td>\n",
       "        </tr>\n",
       "        <tr>\n",
       "            <td>Longitude</td>\n",
       "            <td>REAL</td>\n",
       "            <td>4</td>\n",
       "        </tr>\n",
       "        <tr>\n",
       "            <td>COMMUNITY_AREA_NUMBER</td>\n",
       "            <td>INTEGER</td>\n",
       "            <td>7</td>\n",
       "        </tr>\n",
       "        <tr>\n",
       "            <td>COMMUNITY_AREA_NAME</td>\n",
       "            <td>TEXT</td>\n",
       "            <td>4</td>\n",
       "        </tr>\n",
       "        <tr>\n",
       "            <td>Ward</td>\n",
       "            <td>INTEGER</td>\n",
       "            <td>7</td>\n",
       "        </tr>\n",
       "        <tr>\n",
       "            <td>Police_District</td>\n",
       "            <td>INTEGER</td>\n",
       "            <td>7</td>\n",
       "        </tr>\n",
       "        <tr>\n",
       "            <td>Location</td>\n",
       "            <td>TEXT</td>\n",
       "            <td>4</td>\n",
       "        </tr>\n",
       "    </tbody>\n",
       "</table>"
      ],
      "text/plain": [
       "[('School_ID', 'INTEGER', 7),\n",
       " ('NAME_OF_SCHOOL', 'TEXT', 4),\n",
       " ('Elementary, Middle, or High School', 'TEXT', 4),\n",
       " ('Street_Address', 'TEXT', 4),\n",
       " ('City', 'TEXT', 4),\n",
       " ('State', 'TEXT', 4),\n",
       " ('ZIP_Code', 'INTEGER', 7),\n",
       " ('Phone_Number', 'TEXT', 4),\n",
       " ('Link', 'TEXT', 4),\n",
       " ('Network_Manager', 'TEXT', 4),\n",
       " ('Collaborative_Name', 'TEXT', 4),\n",
       " ('Adequate_Yearly_Progress_Made_', 'TEXT', 4),\n",
       " ('Track_Schedule', 'TEXT', 4),\n",
       " ('CPS_Performance_Policy_Status', 'TEXT', 4),\n",
       " ('CPS_Performance_Policy_Level', 'TEXT', 4),\n",
       " ('HEALTHY_SCHOOL_CERTIFIED', 'TEXT', 4),\n",
       " ('Safety_Icon', 'TEXT', 4),\n",
       " ('SAFETY_SCORE', 'REAL', 4),\n",
       " ('Family_Involvement_Icon', 'TEXT', 4),\n",
       " ('Family_Involvement_Score', 'TEXT', 4),\n",
       " ('Environment_Icon', 'TEXT', 4),\n",
       " ('Environment_Score', 'REAL', 4),\n",
       " ('Instruction_Icon', 'TEXT', 4),\n",
       " ('Instruction_Score', 'REAL', 4),\n",
       " ('Leaders_Icon', 'TEXT', 4),\n",
       " ('Leaders_Score', 'TEXT', 4),\n",
       " ('Teachers_Icon', 'TEXT', 4),\n",
       " ('Teachers_Score', 'TEXT', 4),\n",
       " ('Parent_Engagement_Icon', 'TEXT', 4),\n",
       " ('Parent_Engagement_Score', 'TEXT', 4),\n",
       " ('Parent_Environment_Icon', 'TEXT', 4),\n",
       " ('Parent_Environment_Score', 'TEXT', 4),\n",
       " ('AVERAGE_STUDENT_ATTENDANCE', 'TEXT', 4),\n",
       " ('Rate_of_Misconducts__per_100_students_', 'REAL', 4),\n",
       " ('Average_Teacher_Attendance', 'TEXT', 4),\n",
       " ('Individualized_Education_Program_Compliance_Rate', 'TEXT', 4),\n",
       " ('Pk_2_Literacy__', 'TEXT', 4),\n",
       " ('Pk_2_Math__', 'TEXT', 4),\n",
       " ('Gr3_5_Grade_Level_Math__', 'TEXT', 4),\n",
       " ('Gr3_5_Grade_Level_Read__', 'TEXT', 4),\n",
       " ('Gr3_5_Keep_Pace_Read__', 'TEXT', 4),\n",
       " ('Gr3_5_Keep_Pace_Math__', 'TEXT', 4),\n",
       " ('Gr6_8_Grade_Level_Math__', 'TEXT', 4),\n",
       " ('Gr6_8_Grade_Level_Read__', 'TEXT', 4),\n",
       " ('Gr6_8_Keep_Pace_Math_', 'TEXT', 4),\n",
       " ('Gr6_8_Keep_Pace_Read__', 'TEXT', 4),\n",
       " ('Gr_8_Explore_Math__', 'TEXT', 4),\n",
       " ('Gr_8_Explore_Read__', 'TEXT', 4),\n",
       " ('ISAT_Exceeding_Math__', 'REAL', 4),\n",
       " ('ISAT_Exceeding_Reading__', 'REAL', 4),\n",
       " ('ISAT_Value_Add_Math', 'REAL', 4),\n",
       " ('ISAT_Value_Add_Read', 'REAL', 4),\n",
       " ('ISAT_Value_Add_Color_Math', 'TEXT', 4),\n",
       " ('ISAT_Value_Add_Color_Read', 'TEXT', 4),\n",
       " ('Students_Taking__Algebra__', 'TEXT', 4),\n",
       " ('Students_Passing__Algebra__', 'TEXT', 4),\n",
       " ('9th Grade EXPLORE (2009)', 'TEXT', 4),\n",
       " ('9th Grade EXPLORE (2010)', 'TEXT', 4),\n",
       " ('10th Grade PLAN (2009)', 'TEXT', 4),\n",
       " ('10th Grade PLAN (2010)', 'TEXT', 4),\n",
       " ('Net_Change_EXPLORE_and_PLAN', 'TEXT', 4),\n",
       " ('11th Grade Average ACT (2011)', 'TEXT', 4),\n",
       " ('Net_Change_PLAN_and_ACT', 'TEXT', 4),\n",
       " ('College_Eligibility__', 'TEXT', 4),\n",
       " ('Graduation_Rate__', 'TEXT', 4),\n",
       " ('College_Enrollment_Rate__', 'TEXT', 4),\n",
       " ('COLLEGE_ENROLLMENT', 'INTEGER', 7),\n",
       " ('General_Services_Route', 'INTEGER', 7),\n",
       " ('Freshman_on_Track_Rate__', 'TEXT', 4),\n",
       " ('X_COORDINATE', 'REAL', 4),\n",
       " ('Y_COORDINATE', 'REAL', 4),\n",
       " ('Latitude', 'REAL', 4),\n",
       " ('Longitude', 'REAL', 4),\n",
       " ('COMMUNITY_AREA_NUMBER', 'INTEGER', 7),\n",
       " ('COMMUNITY_AREA_NAME', 'TEXT', 4),\n",
       " ('Ward', 'INTEGER', 7),\n",
       " ('Police_District', 'INTEGER', 7),\n",
       " ('Location', 'TEXT', 4)]"
      ]
     },
     "execution_count": 11,
     "metadata": {},
     "output_type": "execute_result"
    }
   ],
   "source": [
    "%sql SELECT name,type,length(type) FROM PRAGMA_TABLE_INFO('CHICAGO_PUBLIC_SCHOOLS_DATA');"
   ]
  },
  {
   "cell_type": "code",
   "execution_count": 12,
   "id": "4eb6203a",
   "metadata": {
    "execution": {
     "iopub.execute_input": "2024-05-26T20:38:04.346634Z",
     "iopub.status.busy": "2024-05-26T20:38:04.345667Z",
     "iopub.status.idle": "2024-05-26T20:38:04.357876Z",
     "shell.execute_reply": "2024-05-26T20:38:04.356825Z"
    },
    "papermill": {
     "duration": 0.031092,
     "end_time": "2024-05-26T20:38:04.360535",
     "exception": false,
     "start_time": "2024-05-26T20:38:04.329443",
     "status": "completed"
    },
    "tags": []
   },
   "outputs": [
    {
     "name": "stdout",
     "output_type": "stream",
     "text": [
      " * sqlite:///FinalDB.db\n",
      "Done.\n"
     ]
    },
    {
     "data": {
      "text/html": [
       "<table>\n",
       "    <thead>\n",
       "        <tr>\n",
       "            <th>name</th>\n",
       "            <th>type</th>\n",
       "            <th>length(type)</th>\n",
       "        </tr>\n",
       "    </thead>\n",
       "    <tbody>\n",
       "        <tr>\n",
       "            <td>ID</td>\n",
       "            <td>INTEGER</td>\n",
       "            <td>7</td>\n",
       "        </tr>\n",
       "        <tr>\n",
       "            <td>CASE_NUMBER</td>\n",
       "            <td>TEXT</td>\n",
       "            <td>4</td>\n",
       "        </tr>\n",
       "        <tr>\n",
       "            <td>DATE</td>\n",
       "            <td>TEXT</td>\n",
       "            <td>4</td>\n",
       "        </tr>\n",
       "        <tr>\n",
       "            <td>BLOCK</td>\n",
       "            <td>TEXT</td>\n",
       "            <td>4</td>\n",
       "        </tr>\n",
       "        <tr>\n",
       "            <td>IUCR</td>\n",
       "            <td>TEXT</td>\n",
       "            <td>4</td>\n",
       "        </tr>\n",
       "        <tr>\n",
       "            <td>PRIMARY_TYPE</td>\n",
       "            <td>TEXT</td>\n",
       "            <td>4</td>\n",
       "        </tr>\n",
       "        <tr>\n",
       "            <td>DESCRIPTION</td>\n",
       "            <td>TEXT</td>\n",
       "            <td>4</td>\n",
       "        </tr>\n",
       "        <tr>\n",
       "            <td>LOCATION_DESCRIPTION</td>\n",
       "            <td>TEXT</td>\n",
       "            <td>4</td>\n",
       "        </tr>\n",
       "        <tr>\n",
       "            <td>ARREST</td>\n",
       "            <td>INTEGER</td>\n",
       "            <td>7</td>\n",
       "        </tr>\n",
       "        <tr>\n",
       "            <td>DOMESTIC</td>\n",
       "            <td>INTEGER</td>\n",
       "            <td>7</td>\n",
       "        </tr>\n",
       "        <tr>\n",
       "            <td>BEAT</td>\n",
       "            <td>INTEGER</td>\n",
       "            <td>7</td>\n",
       "        </tr>\n",
       "        <tr>\n",
       "            <td>DISTRICT</td>\n",
       "            <td>INTEGER</td>\n",
       "            <td>7</td>\n",
       "        </tr>\n",
       "        <tr>\n",
       "            <td>WARD</td>\n",
       "            <td>REAL</td>\n",
       "            <td>4</td>\n",
       "        </tr>\n",
       "        <tr>\n",
       "            <td>COMMUNITY_AREA_NUMBER</td>\n",
       "            <td>REAL</td>\n",
       "            <td>4</td>\n",
       "        </tr>\n",
       "        <tr>\n",
       "            <td>FBICODE</td>\n",
       "            <td>TEXT</td>\n",
       "            <td>4</td>\n",
       "        </tr>\n",
       "        <tr>\n",
       "            <td>X_COORDINATE</td>\n",
       "            <td>REAL</td>\n",
       "            <td>4</td>\n",
       "        </tr>\n",
       "        <tr>\n",
       "            <td>Y_COORDINATE</td>\n",
       "            <td>REAL</td>\n",
       "            <td>4</td>\n",
       "        </tr>\n",
       "        <tr>\n",
       "            <td>YEAR</td>\n",
       "            <td>INTEGER</td>\n",
       "            <td>7</td>\n",
       "        </tr>\n",
       "        <tr>\n",
       "            <td>LATITUDE</td>\n",
       "            <td>REAL</td>\n",
       "            <td>4</td>\n",
       "        </tr>\n",
       "        <tr>\n",
       "            <td>LONGITUDE</td>\n",
       "            <td>REAL</td>\n",
       "            <td>4</td>\n",
       "        </tr>\n",
       "        <tr>\n",
       "            <td>LOCATION</td>\n",
       "            <td>TEXT</td>\n",
       "            <td>4</td>\n",
       "        </tr>\n",
       "    </tbody>\n",
       "</table>"
      ],
      "text/plain": [
       "[('ID', 'INTEGER', 7),\n",
       " ('CASE_NUMBER', 'TEXT', 4),\n",
       " ('DATE', 'TEXT', 4),\n",
       " ('BLOCK', 'TEXT', 4),\n",
       " ('IUCR', 'TEXT', 4),\n",
       " ('PRIMARY_TYPE', 'TEXT', 4),\n",
       " ('DESCRIPTION', 'TEXT', 4),\n",
       " ('LOCATION_DESCRIPTION', 'TEXT', 4),\n",
       " ('ARREST', 'INTEGER', 7),\n",
       " ('DOMESTIC', 'INTEGER', 7),\n",
       " ('BEAT', 'INTEGER', 7),\n",
       " ('DISTRICT', 'INTEGER', 7),\n",
       " ('WARD', 'REAL', 4),\n",
       " ('COMMUNITY_AREA_NUMBER', 'REAL', 4),\n",
       " ('FBICODE', 'TEXT', 4),\n",
       " ('X_COORDINATE', 'REAL', 4),\n",
       " ('Y_COORDINATE', 'REAL', 4),\n",
       " ('YEAR', 'INTEGER', 7),\n",
       " ('LATITUDE', 'REAL', 4),\n",
       " ('LONGITUDE', 'REAL', 4),\n",
       " ('LOCATION', 'TEXT', 4)]"
      ]
     },
     "execution_count": 12,
     "metadata": {},
     "output_type": "execute_result"
    }
   ],
   "source": [
    "%sql SELECT name,type,length(type) FROM PRAGMA_TABLE_INFO('CHICAGO_CRIME_DATA');"
   ]
  },
  {
   "cell_type": "markdown",
   "id": "46b3d82c",
   "metadata": {
    "papermill": {
     "duration": 0.014401,
     "end_time": "2024-05-26T20:38:04.396826",
     "exception": false,
     "start_time": "2024-05-26T20:38:04.382425",
     "status": "completed"
    },
    "tags": []
   },
   "source": [
    "### Q3 HOW MANY COMMUNITY AREAS IN CHICAGO HAVE A HARDSHIP INDEX GREATER THAN 50?"
   ]
  },
  {
   "cell_type": "code",
   "execution_count": 13,
   "id": "a4132b07",
   "metadata": {
    "execution": {
     "iopub.execute_input": "2024-05-26T20:38:04.428325Z",
     "iopub.status.busy": "2024-05-26T20:38:04.427350Z",
     "iopub.status.idle": "2024-05-26T20:38:04.437930Z",
     "shell.execute_reply": "2024-05-26T20:38:04.436959Z"
    },
    "papermill": {
     "duration": 0.02866,
     "end_time": "2024-05-26T20:38:04.440074",
     "exception": false,
     "start_time": "2024-05-26T20:38:04.411414",
     "status": "completed"
    },
    "tags": []
   },
   "outputs": [
    {
     "name": "stdout",
     "output_type": "stream",
     "text": [
      " * sqlite:///FinalDB.db\n",
      "Done.\n"
     ]
    },
    {
     "data": {
      "text/html": [
       "<table>\n",
       "    <thead>\n",
       "        <tr>\n",
       "            <th>count(*)</th>\n",
       "        </tr>\n",
       "    </thead>\n",
       "    <tbody>\n",
       "        <tr>\n",
       "            <td>38</td>\n",
       "        </tr>\n",
       "    </tbody>\n",
       "</table>"
      ],
      "text/plain": [
       "[(38,)]"
      ]
     },
     "execution_count": 13,
     "metadata": {},
     "output_type": "execute_result"
    }
   ],
   "source": [
    "%sql select count(*) from census_data \\\n",
    "where hardship_index > 50;"
   ]
  },
  {
   "cell_type": "markdown",
   "id": "db4e5cb6",
   "metadata": {
    "papermill": {
     "duration": 0.014931,
     "end_time": "2024-05-26T20:38:04.469885",
     "exception": false,
     "start_time": "2024-05-26T20:38:04.454954",
     "status": "completed"
    },
    "tags": []
   },
   "source": [
    "### Q4 WHAT IS THE MAXIMUM VALUE OF HARDSHIP INDEX IN CENSUS DATA?"
   ]
  },
  {
   "cell_type": "code",
   "execution_count": 14,
   "id": "ecb42c4f",
   "metadata": {
    "execution": {
     "iopub.execute_input": "2024-05-26T20:38:04.503049Z",
     "iopub.status.busy": "2024-05-26T20:38:04.502059Z",
     "iopub.status.idle": "2024-05-26T20:38:04.512397Z",
     "shell.execute_reply": "2024-05-26T20:38:04.511380Z"
    },
    "papermill": {
     "duration": 0.028962,
     "end_time": "2024-05-26T20:38:04.514801",
     "exception": false,
     "start_time": "2024-05-26T20:38:04.485839",
     "status": "completed"
    },
    "tags": []
   },
   "outputs": [
    {
     "name": "stdout",
     "output_type": "stream",
     "text": [
      " * sqlite:///FinalDB.db\n",
      "Done.\n"
     ]
    },
    {
     "data": {
      "text/html": [
       "<table>\n",
       "    <thead>\n",
       "        <tr>\n",
       "            <th>Max Hardship</th>\n",
       "        </tr>\n",
       "    </thead>\n",
       "    <tbody>\n",
       "        <tr>\n",
       "            <td>98.0</td>\n",
       "        </tr>\n",
       "    </tbody>\n",
       "</table>"
      ],
      "text/plain": [
       "[(98.0,)]"
      ]
     },
     "execution_count": 14,
     "metadata": {},
     "output_type": "execute_result"
    }
   ],
   "source": [
    "%sql select max(hardship_index) as \"Max Hardship\" from census_data;"
   ]
  },
  {
   "cell_type": "markdown",
   "id": "757f8989",
   "metadata": {
    "papermill": {
     "duration": 0.014848,
     "end_time": "2024-05-26T20:38:04.548987",
     "exception": false,
     "start_time": "2024-05-26T20:38:04.534139",
     "status": "completed"
    },
    "tags": []
   },
   "source": [
    "### Q5 WHICH COMMUNITY AREA HAS THE HIGHEST HARDSHIP INDEX?"
   ]
  },
  {
   "cell_type": "code",
   "execution_count": 15,
   "id": "22980e5d",
   "metadata": {
    "execution": {
     "iopub.execute_input": "2024-05-26T20:38:04.587641Z",
     "iopub.status.busy": "2024-05-26T20:38:04.587201Z",
     "iopub.status.idle": "2024-05-26T20:38:04.597232Z",
     "shell.execute_reply": "2024-05-26T20:38:04.595785Z"
    },
    "papermill": {
     "duration": 0.036494,
     "end_time": "2024-05-26T20:38:04.600664",
     "exception": false,
     "start_time": "2024-05-26T20:38:04.564170",
     "status": "completed"
    },
    "tags": []
   },
   "outputs": [
    {
     "name": "stdout",
     "output_type": "stream",
     "text": [
      " * sqlite:///FinalDB.db\n",
      "Done.\n"
     ]
    },
    {
     "data": {
      "text/html": [
       "<table>\n",
       "    <thead>\n",
       "        <tr>\n",
       "            <th>COMMUNITY_AREA_NAME</th>\n",
       "        </tr>\n",
       "    </thead>\n",
       "    <tbody>\n",
       "        <tr>\n",
       "            <td>Riverdale</td>\n",
       "        </tr>\n",
       "    </tbody>\n",
       "</table>"
      ],
      "text/plain": [
       "[('Riverdale',)]"
      ]
     },
     "execution_count": 15,
     "metadata": {},
     "output_type": "execute_result"
    }
   ],
   "source": [
    "%sql SELECT community_area_name FROM census_data where hardship_index=98.0"
   ]
  },
  {
   "cell_type": "markdown",
   "id": "31f331ab",
   "metadata": {
    "papermill": {
     "duration": 0.015441,
     "end_time": "2024-05-26T20:38:04.634243",
     "exception": false,
     "start_time": "2024-05-26T20:38:04.618802",
     "status": "completed"
    },
    "tags": []
   },
   "source": [
    "### Q6 WHICH COMMUNITY AREAS HAVE PER CAPITA INCOMES GREATER THAN $60,000?"
   ]
  },
  {
   "cell_type": "code",
   "execution_count": 16,
   "id": "5fc5ffec",
   "metadata": {
    "execution": {
     "iopub.execute_input": "2024-05-26T20:38:04.668362Z",
     "iopub.status.busy": "2024-05-26T20:38:04.667549Z",
     "iopub.status.idle": "2024-05-26T20:38:04.677807Z",
     "shell.execute_reply": "2024-05-26T20:38:04.676617Z"
    },
    "papermill": {
     "duration": 0.030611,
     "end_time": "2024-05-26T20:38:04.680561",
     "exception": false,
     "start_time": "2024-05-26T20:38:04.649950",
     "status": "completed"
    },
    "tags": []
   },
   "outputs": [
    {
     "name": "stdout",
     "output_type": "stream",
     "text": [
      " * sqlite:///FinalDB.db\n",
      "Done.\n"
     ]
    },
    {
     "data": {
      "text/html": [
       "<table>\n",
       "    <thead>\n",
       "        <tr>\n",
       "            <th>COMMUNITY_AREA_NAME</th>\n",
       "        </tr>\n",
       "    </thead>\n",
       "    <tbody>\n",
       "        <tr>\n",
       "            <td>Lake View</td>\n",
       "        </tr>\n",
       "        <tr>\n",
       "            <td>Lincoln Park</td>\n",
       "        </tr>\n",
       "        <tr>\n",
       "            <td>Near North Side</td>\n",
       "        </tr>\n",
       "        <tr>\n",
       "            <td>Loop</td>\n",
       "        </tr>\n",
       "    </tbody>\n",
       "</table>"
      ],
      "text/plain": [
       "[('Lake View',), ('Lincoln Park',), ('Near North Side',), ('Loop',)]"
      ]
     },
     "execution_count": 16,
     "metadata": {},
     "output_type": "execute_result"
    }
   ],
   "source": [
    "%sql SELECT community_area_name FROM census_data WHERE per_capita_income > 60000;"
   ]
  },
  {
   "cell_type": "markdown",
   "id": "e35041c4",
   "metadata": {
    "papermill": {
     "duration": 0.015376,
     "end_time": "2024-05-26T20:38:04.715396",
     "exception": false,
     "start_time": "2024-05-26T20:38:04.700020",
     "status": "completed"
    },
    "tags": []
   },
   "source": [
    "### Q7 WHICH SCHOOLS HAVE THE HIGHEST SAFETY SCORE?"
   ]
  },
  {
   "cell_type": "code",
   "execution_count": 17,
   "id": "d9500891",
   "metadata": {
    "execution": {
     "iopub.execute_input": "2024-05-26T20:38:04.748339Z",
     "iopub.status.busy": "2024-05-26T20:38:04.747217Z",
     "iopub.status.idle": "2024-05-26T20:38:04.757735Z",
     "shell.execute_reply": "2024-05-26T20:38:04.756810Z"
    },
    "papermill": {
     "duration": 0.029482,
     "end_time": "2024-05-26T20:38:04.760214",
     "exception": false,
     "start_time": "2024-05-26T20:38:04.730732",
     "status": "completed"
    },
    "tags": []
   },
   "outputs": [
    {
     "name": "stdout",
     "output_type": "stream",
     "text": [
      " * sqlite:///FinalDB.db\n",
      "Done.\n"
     ]
    },
    {
     "data": {
      "text/html": [
       "<table>\n",
       "    <thead>\n",
       "        <tr>\n",
       "            <th>NAME_OF_SCHOOL</th>\n",
       "            <th>SAFETY_SCORE</th>\n",
       "        </tr>\n",
       "    </thead>\n",
       "    <tbody>\n",
       "        <tr>\n",
       "            <td>Abraham Lincoln Elementary School</td>\n",
       "            <td>99.0</td>\n",
       "        </tr>\n",
       "        <tr>\n",
       "            <td>Alexander Graham Bell Elementary School</td>\n",
       "            <td>99.0</td>\n",
       "        </tr>\n",
       "        <tr>\n",
       "            <td>Annie Keller Elementary Gifted Magnet School</td>\n",
       "            <td>99.0</td>\n",
       "        </tr>\n",
       "        <tr>\n",
       "            <td>Augustus H Burley Elementary School</td>\n",
       "            <td>99.0</td>\n",
       "        </tr>\n",
       "        <tr>\n",
       "            <td>Edgar Allan Poe Elementary Classical School</td>\n",
       "            <td>99.0</td>\n",
       "        </tr>\n",
       "        <tr>\n",
       "            <td>Edgebrook Elementary School</td>\n",
       "            <td>99.0</td>\n",
       "        </tr>\n",
       "        <tr>\n",
       "            <td>Ellen Mitchell Elementary School</td>\n",
       "            <td>99.0</td>\n",
       "        </tr>\n",
       "        <tr>\n",
       "            <td>James E McDade Elementary Classical School</td>\n",
       "            <td>99.0</td>\n",
       "        </tr>\n",
       "        <tr>\n",
       "            <td>James G Blaine Elementary School</td>\n",
       "            <td>99.0</td>\n",
       "        </tr>\n",
       "        <tr>\n",
       "            <td>LaSalle Elementary Language Academy</td>\n",
       "            <td>99.0</td>\n",
       "        </tr>\n",
       "        <tr>\n",
       "            <td>Mary E Courtenay Elementary Language Arts Center</td>\n",
       "            <td>99.0</td>\n",
       "        </tr>\n",
       "        <tr>\n",
       "            <td>Northside College Preparatory High School</td>\n",
       "            <td>99.0</td>\n",
       "        </tr>\n",
       "        <tr>\n",
       "            <td>Northside Learning Center High School</td>\n",
       "            <td>99.0</td>\n",
       "        </tr>\n",
       "        <tr>\n",
       "            <td>Norwood Park Elementary School</td>\n",
       "            <td>99.0</td>\n",
       "        </tr>\n",
       "        <tr>\n",
       "            <td>Oriole Park Elementary School</td>\n",
       "            <td>99.0</td>\n",
       "        </tr>\n",
       "        <tr>\n",
       "            <td>Sauganash Elementary School</td>\n",
       "            <td>99.0</td>\n",
       "        </tr>\n",
       "        <tr>\n",
       "            <td>Stephen Decatur Classical Elementary School</td>\n",
       "            <td>99.0</td>\n",
       "        </tr>\n",
       "        <tr>\n",
       "            <td>Talman Elementary School</td>\n",
       "            <td>99.0</td>\n",
       "        </tr>\n",
       "        <tr>\n",
       "            <td>Wildwood Elementary School</td>\n",
       "            <td>99.0</td>\n",
       "        </tr>\n",
       "    </tbody>\n",
       "</table>"
      ],
      "text/plain": [
       "[('Abraham Lincoln Elementary School', 99.0),\n",
       " ('Alexander Graham Bell Elementary School', 99.0),\n",
       " ('Annie Keller Elementary Gifted Magnet School', 99.0),\n",
       " ('Augustus H Burley Elementary School', 99.0),\n",
       " ('Edgar Allan Poe Elementary Classical School', 99.0),\n",
       " ('Edgebrook Elementary School', 99.0),\n",
       " ('Ellen Mitchell Elementary School', 99.0),\n",
       " ('James E McDade Elementary Classical School', 99.0),\n",
       " ('James G Blaine Elementary School', 99.0),\n",
       " ('LaSalle Elementary Language Academy', 99.0),\n",
       " ('Mary E Courtenay Elementary Language Arts Center', 99.0),\n",
       " ('Northside College Preparatory High School', 99.0),\n",
       " ('Northside Learning Center High School', 99.0),\n",
       " ('Norwood Park Elementary School', 99.0),\n",
       " ('Oriole Park Elementary School', 99.0),\n",
       " ('Sauganash Elementary School', 99.0),\n",
       " ('Stephen Decatur Classical Elementary School', 99.0),\n",
       " ('Talman Elementary School', 99.0),\n",
       " ('Wildwood Elementary School', 99.0)]"
      ]
     },
     "execution_count": 17,
     "metadata": {},
     "output_type": "execute_result"
    }
   ],
   "source": [
    "%sql select Name_of_School, Safety_Score from CHICAGO_PUBLIC_SCHOOLS_DATA where \\\n",
    "  Safety_Score= (select MAX(Safety_Score) from CHICAGO_PUBLIC_SCHOOLS_DATA)"
   ]
  },
  {
   "cell_type": "markdown",
   "id": "c31734ab",
   "metadata": {
    "papermill": {
     "duration": 0.015395,
     "end_time": "2024-05-26T20:38:04.795404",
     "exception": false,
     "start_time": "2024-05-26T20:38:04.780009",
     "status": "completed"
    },
    "tags": []
   },
   "source": [
    "### Q8 WHAT ARE THE TOP 10 SCHOOLS WITH THE HIGHEST AVERAGE ATTENDANCE?"
   ]
  },
  {
   "cell_type": "code",
   "execution_count": 18,
   "id": "2c34eff2",
   "metadata": {
    "execution": {
     "iopub.execute_input": "2024-05-26T20:38:04.828127Z",
     "iopub.status.busy": "2024-05-26T20:38:04.827708Z",
     "iopub.status.idle": "2024-05-26T20:38:04.839261Z",
     "shell.execute_reply": "2024-05-26T20:38:04.838323Z"
    },
    "papermill": {
     "duration": 0.030355,
     "end_time": "2024-05-26T20:38:04.841306",
     "exception": false,
     "start_time": "2024-05-26T20:38:04.810951",
     "status": "completed"
    },
    "tags": []
   },
   "outputs": [
    {
     "name": "stdout",
     "output_type": "stream",
     "text": [
      " * sqlite:///FinalDB.db\n",
      "Done.\n"
     ]
    },
    {
     "data": {
      "text/html": [
       "<table>\n",
       "    <thead>\n",
       "        <tr>\n",
       "            <th>School Name</th>\n",
       "            <th>Average Attendance</th>\n",
       "        </tr>\n",
       "    </thead>\n",
       "    <tbody>\n",
       "        <tr>\n",
       "            <td>John Charles Haines Elementary School</td>\n",
       "            <td>98.40%</td>\n",
       "        </tr>\n",
       "        <tr>\n",
       "            <td>James Ward Elementary School</td>\n",
       "            <td>97.80%</td>\n",
       "        </tr>\n",
       "        <tr>\n",
       "            <td>Edgar Allan Poe Elementary Classical School</td>\n",
       "            <td>97.60%</td>\n",
       "        </tr>\n",
       "        <tr>\n",
       "            <td>Orozco Fine Arts &amp; Sciences Elementary School</td>\n",
       "            <td>97.60%</td>\n",
       "        </tr>\n",
       "        <tr>\n",
       "            <td>Rachel Carson Elementary School</td>\n",
       "            <td>97.60%</td>\n",
       "        </tr>\n",
       "        <tr>\n",
       "            <td>Annie Keller Elementary Gifted Magnet School</td>\n",
       "            <td>97.50%</td>\n",
       "        </tr>\n",
       "        <tr>\n",
       "            <td>Andrew Jackson Elementary Language Academy</td>\n",
       "            <td>97.40%</td>\n",
       "        </tr>\n",
       "        <tr>\n",
       "            <td>Lenart Elementary Regional Gifted Center</td>\n",
       "            <td>97.40%</td>\n",
       "        </tr>\n",
       "        <tr>\n",
       "            <td>Disney II Magnet School</td>\n",
       "            <td>97.30%</td>\n",
       "        </tr>\n",
       "        <tr>\n",
       "            <td>John H Vanderpoel Elementary Magnet School</td>\n",
       "            <td>97.20%</td>\n",
       "        </tr>\n",
       "    </tbody>\n",
       "</table>"
      ],
      "text/plain": [
       "[('John Charles Haines Elementary School', '98.40%'),\n",
       " ('James Ward Elementary School', '97.80%'),\n",
       " ('Edgar Allan Poe Elementary Classical School', '97.60%'),\n",
       " ('Orozco Fine Arts & Sciences Elementary School', '97.60%'),\n",
       " ('Rachel Carson Elementary School', '97.60%'),\n",
       " ('Annie Keller Elementary Gifted Magnet School', '97.50%'),\n",
       " ('Andrew Jackson Elementary Language Academy', '97.40%'),\n",
       " ('Lenart Elementary Regional Gifted Center', '97.40%'),\n",
       " ('Disney II Magnet School', '97.30%'),\n",
       " ('John H Vanderpoel Elementary Magnet School', '97.20%')]"
      ]
     },
     "execution_count": 18,
     "metadata": {},
     "output_type": "execute_result"
    }
   ],
   "source": [
    "%sql select Name_of_School as \"School Name\", Average_Student_Attendance as \"Average Attendance\" from CHICAGO_PUBLIC_SCHOOLS_DATA order by Average_Student_Attendance desc nulls last Limit 10; "
   ]
  },
  {
   "cell_type": "markdown",
   "id": "fe1b9fad",
   "metadata": {
    "papermill": {
     "duration": 0.015549,
     "end_time": "2024-05-26T20:38:04.872869",
     "exception": false,
     "start_time": "2024-05-26T20:38:04.857320",
     "status": "completed"
    },
    "tags": []
   },
   "source": [
    "### Q9 In ascending order, what are the 5 schools with the lowest average attendance?"
   ]
  },
  {
   "cell_type": "code",
   "execution_count": 19,
   "id": "17c2d291",
   "metadata": {
    "execution": {
     "iopub.execute_input": "2024-05-26T20:38:04.908743Z",
     "iopub.status.busy": "2024-05-26T20:38:04.907873Z",
     "iopub.status.idle": "2024-05-26T20:38:04.917513Z",
     "shell.execute_reply": "2024-05-26T20:38:04.916559Z"
    },
    "papermill": {
     "duration": 0.030709,
     "end_time": "2024-05-26T20:38:04.919635",
     "exception": false,
     "start_time": "2024-05-26T20:38:04.888926",
     "status": "completed"
    },
    "tags": []
   },
   "outputs": [
    {
     "name": "stdout",
     "output_type": "stream",
     "text": [
      " * sqlite:///FinalDB.db\n",
      "Done.\n"
     ]
    },
    {
     "data": {
      "text/html": [
       "<table>\n",
       "    <thead>\n",
       "        <tr>\n",
       "            <th>School Name</th>\n",
       "            <th>Average Attendance</th>\n",
       "        </tr>\n",
       "    </thead>\n",
       "    <tbody>\n",
       "        <tr>\n",
       "            <td>Velma F Thomas Early Childhood Center</td>\n",
       "            <td>None</td>\n",
       "        </tr>\n",
       "        <tr>\n",
       "            <td>Richard T Crane Technical Preparatory High School</td>\n",
       "            <td>57.90%</td>\n",
       "        </tr>\n",
       "        <tr>\n",
       "            <td>Barbara Vick Early Childhood &amp; Family Center</td>\n",
       "            <td>60.90%</td>\n",
       "        </tr>\n",
       "        <tr>\n",
       "            <td>Dyett High School</td>\n",
       "            <td>62.50%</td>\n",
       "        </tr>\n",
       "        <tr>\n",
       "            <td>Wendell Phillips Academy High School</td>\n",
       "            <td>63.00%</td>\n",
       "        </tr>\n",
       "    </tbody>\n",
       "</table>"
      ],
      "text/plain": [
       "[('Velma F Thomas Early Childhood Center', None),\n",
       " ('Richard T Crane Technical Preparatory High School', '57.90%'),\n",
       " ('Barbara Vick Early Childhood & Family Center', '60.90%'),\n",
       " ('Dyett High School', '62.50%'),\n",
       " ('Wendell Phillips Academy High School', '63.00%')]"
      ]
     },
     "execution_count": 19,
     "metadata": {},
     "output_type": "execute_result"
    }
   ],
   "source": [
    "%sql select Name_of_School as \"School Name\", Average_Student_Attendance as \"Average Attendance\" from CHICAGO_PUBLIC_SCHOOLS_DATA order by \"Average Attendance\" Limit 5"
   ]
  },
  {
   "cell_type": "markdown",
   "id": "0e2082fb",
   "metadata": {
    "papermill": {
     "duration": 0.015828,
     "end_time": "2024-05-26T20:38:04.951595",
     "exception": false,
     "start_time": "2024-05-26T20:38:04.935767",
     "status": "completed"
    },
    "tags": []
   },
   "source": [
    "### Q10 Remove the % from the Average Attendance column."
   ]
  },
  {
   "cell_type": "code",
   "execution_count": 20,
   "id": "91326a21",
   "metadata": {
    "execution": {
     "iopub.execute_input": "2024-05-26T20:38:04.986286Z",
     "iopub.status.busy": "2024-05-26T20:38:04.985948Z",
     "iopub.status.idle": "2024-05-26T20:38:04.996977Z",
     "shell.execute_reply": "2024-05-26T20:38:04.995932Z"
    },
    "papermill": {
     "duration": 0.03142,
     "end_time": "2024-05-26T20:38:04.999140",
     "exception": false,
     "start_time": "2024-05-26T20:38:04.967720",
     "status": "completed"
    },
    "tags": []
   },
   "outputs": [
    {
     "name": "stdout",
     "output_type": "stream",
     "text": [
      " * sqlite:///FinalDB.db\n",
      "Done.\n"
     ]
    },
    {
     "data": {
      "text/html": [
       "<table>\n",
       "    <thead>\n",
       "        <tr>\n",
       "            <th>NAME_OF_SCHOOL</th>\n",
       "            <th>Average Attendance</th>\n",
       "        </tr>\n",
       "    </thead>\n",
       "    <tbody>\n",
       "        <tr>\n",
       "            <td>Velma F Thomas Early Childhood Center</td>\n",
       "            <td>None</td>\n",
       "        </tr>\n",
       "        <tr>\n",
       "            <td>Richard T Crane Technical Preparatory High School</td>\n",
       "            <td>57.90</td>\n",
       "        </tr>\n",
       "        <tr>\n",
       "            <td>Barbara Vick Early Childhood &amp; Family Center</td>\n",
       "            <td>60.90</td>\n",
       "        </tr>\n",
       "        <tr>\n",
       "            <td>Dyett High School</td>\n",
       "            <td>62.50</td>\n",
       "        </tr>\n",
       "        <tr>\n",
       "            <td>Wendell Phillips Academy High School</td>\n",
       "            <td>63.00</td>\n",
       "        </tr>\n",
       "    </tbody>\n",
       "</table>"
      ],
      "text/plain": [
       "[('Velma F Thomas Early Childhood Center', None),\n",
       " ('Richard T Crane Technical Preparatory High School', '57.90'),\n",
       " ('Barbara Vick Early Childhood & Family Center', '60.90'),\n",
       " ('Dyett High School', '62.50'),\n",
       " ('Wendell Phillips Academy High School', '63.00')]"
      ]
     },
     "execution_count": 20,
     "metadata": {},
     "output_type": "execute_result"
    }
   ],
   "source": [
    "%sql SELECT Name_of_School, REPLACE(AVERAGE_STUDENT_ATTENDANCE, '%', '' ) as \"Average Attendance\" from CHICAGO_PUBLIC_SCHOOLS_DATA order by \"Average Attendance\" Limit 5;"
   ]
  },
  {
   "cell_type": "markdown",
   "id": "eac4ef43",
   "metadata": {
    "papermill": {
     "duration": 0.022252,
     "end_time": "2024-05-26T20:38:05.037817",
     "exception": false,
     "start_time": "2024-05-26T20:38:05.015565",
     "status": "completed"
    },
    "tags": []
   },
   "source": [
    "### Q11 Which schools have Average Attendance lower than 70%?"
   ]
  },
  {
   "cell_type": "code",
   "execution_count": 21,
   "id": "ef3fabad",
   "metadata": {
    "execution": {
     "iopub.execute_input": "2024-05-26T20:38:05.080923Z",
     "iopub.status.busy": "2024-05-26T20:38:05.080107Z",
     "iopub.status.idle": "2024-05-26T20:38:05.092223Z",
     "shell.execute_reply": "2024-05-26T20:38:05.090950Z"
    },
    "papermill": {
     "duration": 0.032522,
     "end_time": "2024-05-26T20:38:05.094541",
     "exception": false,
     "start_time": "2024-05-26T20:38:05.062019",
     "status": "completed"
    },
    "tags": []
   },
   "outputs": [
    {
     "name": "stdout",
     "output_type": "stream",
     "text": [
      " * sqlite:///FinalDB.db\n",
      "Done.\n"
     ]
    },
    {
     "data": {
      "text/html": [
       "<table>\n",
       "    <thead>\n",
       "        <tr>\n",
       "            <th>NAME_OF_SCHOOL</th>\n",
       "            <th>AVERAGE_STUDENT_ATTENDANCE</th>\n",
       "        </tr>\n",
       "    </thead>\n",
       "    <tbody>\n",
       "        <tr>\n",
       "            <td>Richard T Crane Technical Preparatory High School</td>\n",
       "            <td>57.90%</td>\n",
       "        </tr>\n",
       "        <tr>\n",
       "            <td>Barbara Vick Early Childhood &amp; Family Center</td>\n",
       "            <td>60.90%</td>\n",
       "        </tr>\n",
       "        <tr>\n",
       "            <td>Dyett High School</td>\n",
       "            <td>62.50%</td>\n",
       "        </tr>\n",
       "        <tr>\n",
       "            <td>Wendell Phillips Academy High School</td>\n",
       "            <td>63.00%</td>\n",
       "        </tr>\n",
       "        <tr>\n",
       "            <td>Orr Academy High School</td>\n",
       "            <td>66.30%</td>\n",
       "        </tr>\n",
       "        <tr>\n",
       "            <td>Manley Career Academy High School</td>\n",
       "            <td>66.80%</td>\n",
       "        </tr>\n",
       "        <tr>\n",
       "            <td>Chicago Vocational Career Academy High School</td>\n",
       "            <td>68.80%</td>\n",
       "        </tr>\n",
       "        <tr>\n",
       "            <td>Roberto Clemente Community Academy High School</td>\n",
       "            <td>69.60%</td>\n",
       "        </tr>\n",
       "    </tbody>\n",
       "</table>"
      ],
      "text/plain": [
       "[('Richard T Crane Technical Preparatory High School', '57.90%'),\n",
       " ('Barbara Vick Early Childhood & Family Center', '60.90%'),\n",
       " ('Dyett High School', '62.50%'),\n",
       " ('Wendell Phillips Academy High School', '63.00%'),\n",
       " ('Orr Academy High School', '66.30%'),\n",
       " ('Manley Career Academy High School', '66.80%'),\n",
       " ('Chicago Vocational Career Academy High School', '68.80%'),\n",
       " ('Roberto Clemente Community Academy High School', '69.60%')]"
      ]
     },
     "execution_count": 21,
     "metadata": {},
     "output_type": "execute_result"
    }
   ],
   "source": [
    "%sql SELECT Name_of_School, Average_Student_Attendance  \\\n",
    "     from CHICAGO_PUBLIC_SCHOOLS_DATA \\\n",
    "     where CAST (Average_Student_Attendance AS DOUBLE ) < 70 \\\n",
    "     order by Average_Student_Attendance "
   ]
  },
  {
   "cell_type": "markdown",
   "id": "819aea11",
   "metadata": {
    "papermill": {
     "duration": 0.016265,
     "end_time": "2024-05-26T20:38:05.127562",
     "exception": false,
     "start_time": "2024-05-26T20:38:05.111297",
     "status": "completed"
    },
    "tags": []
   },
   "source": [
    "### Q12 What is the College Enrollment for each Community Area? "
   ]
  },
  {
   "cell_type": "code",
   "execution_count": 22,
   "id": "6a728658",
   "metadata": {
    "execution": {
     "iopub.execute_input": "2024-05-26T20:38:05.161887Z",
     "iopub.status.busy": "2024-05-26T20:38:05.161493Z",
     "iopub.status.idle": "2024-05-26T20:38:05.174712Z",
     "shell.execute_reply": "2024-05-26T20:38:05.173594Z"
    },
    "papermill": {
     "duration": 0.033557,
     "end_time": "2024-05-26T20:38:05.177553",
     "exception": false,
     "start_time": "2024-05-26T20:38:05.143996",
     "status": "completed"
    },
    "tags": []
   },
   "outputs": [
    {
     "name": "stdout",
     "output_type": "stream",
     "text": [
      " * sqlite:///FinalDB.db\n",
      "Done.\n"
     ]
    },
    {
     "data": {
      "text/html": [
       "<table>\n",
       "    <thead>\n",
       "        <tr>\n",
       "            <th>total enrollment</th>\n",
       "            <th>Community Name</th>\n",
       "        </tr>\n",
       "    </thead>\n",
       "    <tbody>\n",
       "        <tr>\n",
       "            <td>6864</td>\n",
       "            <td>ALBANY PARK</td>\n",
       "        </tr>\n",
       "        <tr>\n",
       "            <td>4823</td>\n",
       "            <td>ARCHER HEIGHTS</td>\n",
       "        </tr>\n",
       "        <tr>\n",
       "            <td>1458</td>\n",
       "            <td>ARMOUR SQUARE</td>\n",
       "        </tr>\n",
       "        <tr>\n",
       "            <td>6483</td>\n",
       "            <td>ASHBURN</td>\n",
       "        </tr>\n",
       "        <tr>\n",
       "            <td>4175</td>\n",
       "            <td>AUBURN GRESHAM</td>\n",
       "        </tr>\n",
       "        <tr>\n",
       "            <td>10933</td>\n",
       "            <td>AUSTIN</td>\n",
       "        </tr>\n",
       "        <tr>\n",
       "            <td>1522</td>\n",
       "            <td>AVALON PARK</td>\n",
       "        </tr>\n",
       "        <tr>\n",
       "            <td>3640</td>\n",
       "            <td>AVONDALE</td>\n",
       "        </tr>\n",
       "        <tr>\n",
       "            <td>14386</td>\n",
       "            <td>BELMONT CRAGIN</td>\n",
       "        </tr>\n",
       "        <tr>\n",
       "            <td>1636</td>\n",
       "            <td>BEVERLY</td>\n",
       "        </tr>\n",
       "        <tr>\n",
       "            <td>3167</td>\n",
       "            <td>BRIDGEPORT</td>\n",
       "        </tr>\n",
       "        <tr>\n",
       "            <td>9647</td>\n",
       "            <td>BRIGHTON PARK</td>\n",
       "        </tr>\n",
       "        <tr>\n",
       "            <td>549</td>\n",
       "            <td>BURNSIDE</td>\n",
       "        </tr>\n",
       "        <tr>\n",
       "            <td>1568</td>\n",
       "            <td>CALUMET HEIGHTS</td>\n",
       "        </tr>\n",
       "        <tr>\n",
       "            <td>5042</td>\n",
       "            <td>CHATHAM</td>\n",
       "        </tr>\n",
       "        <tr>\n",
       "            <td>7086</td>\n",
       "            <td>CHICAGO LAWN</td>\n",
       "        </tr>\n",
       "        <tr>\n",
       "            <td>2085</td>\n",
       "            <td>CLEARING</td>\n",
       "        </tr>\n",
       "        <tr>\n",
       "            <td>4670</td>\n",
       "            <td>DOUGLAS</td>\n",
       "        </tr>\n",
       "        <tr>\n",
       "            <td>4568</td>\n",
       "            <td>DUNNING</td>\n",
       "        </tr>\n",
       "        <tr>\n",
       "            <td>5337</td>\n",
       "            <td>EAST GARFIELD PARK</td>\n",
       "        </tr>\n",
       "        <tr>\n",
       "            <td>5305</td>\n",
       "            <td>EAST SIDE</td>\n",
       "        </tr>\n",
       "        <tr>\n",
       "            <td>4600</td>\n",
       "            <td>EDGEWATER</td>\n",
       "        </tr>\n",
       "        <tr>\n",
       "            <td>910</td>\n",
       "            <td>EDISON PARK</td>\n",
       "        </tr>\n",
       "        <tr>\n",
       "            <td>6832</td>\n",
       "            <td>ENGLEWOOD</td>\n",
       "        </tr>\n",
       "        <tr>\n",
       "            <td>1431</td>\n",
       "            <td>FOREST GLEN</td>\n",
       "        </tr>\n",
       "        <tr>\n",
       "            <td>531</td>\n",
       "            <td>FULLER PARK</td>\n",
       "        </tr>\n",
       "        <tr>\n",
       "            <td>9915</td>\n",
       "            <td>GAGE PARK</td>\n",
       "        </tr>\n",
       "        <tr>\n",
       "            <td>4552</td>\n",
       "            <td>GARFIELD RIDGE</td>\n",
       "        </tr>\n",
       "        <tr>\n",
       "            <td>2809</td>\n",
       "            <td>GRAND BOULEVARD</td>\n",
       "        </tr>\n",
       "        <tr>\n",
       "            <td>4051</td>\n",
       "            <td>GREATER GRAND CROSSING</td>\n",
       "        </tr>\n",
       "        <tr>\n",
       "            <td>963</td>\n",
       "            <td>HEGEWISCH</td>\n",
       "        </tr>\n",
       "        <tr>\n",
       "            <td>3975</td>\n",
       "            <td>HERMOSA</td>\n",
       "        </tr>\n",
       "        <tr>\n",
       "            <td>8620</td>\n",
       "            <td>HUMBOLDT PARK</td>\n",
       "        </tr>\n",
       "        <tr>\n",
       "            <td>1930</td>\n",
       "            <td>HYDE PARK</td>\n",
       "        </tr>\n",
       "        <tr>\n",
       "            <td>7764</td>\n",
       "            <td>IRVING PARK</td>\n",
       "        </tr>\n",
       "        <tr>\n",
       "            <td>1755</td>\n",
       "            <td>JEFFERSON PARK</td>\n",
       "        </tr>\n",
       "        <tr>\n",
       "            <td>4287</td>\n",
       "            <td>KENWOOD</td>\n",
       "        </tr>\n",
       "        <tr>\n",
       "            <td>7055</td>\n",
       "            <td>LAKE VIEW</td>\n",
       "        </tr>\n",
       "        <tr>\n",
       "            <td>5615</td>\n",
       "            <td>LINCOLN PARK</td>\n",
       "        </tr>\n",
       "        <tr>\n",
       "            <td>4132</td>\n",
       "            <td>LINCOLN SQUARE</td>\n",
       "        </tr>\n",
       "        <tr>\n",
       "            <td>7351</td>\n",
       "            <td>LOGAN SQUARE</td>\n",
       "        </tr>\n",
       "        <tr>\n",
       "            <td>871</td>\n",
       "            <td>LOOP</td>\n",
       "        </tr>\n",
       "        <tr>\n",
       "            <td>7257</td>\n",
       "            <td>LOWER WEST SIDE</td>\n",
       "        </tr>\n",
       "        <tr>\n",
       "            <td>1552</td>\n",
       "            <td>MCKINLEY PARK</td>\n",
       "        </tr>\n",
       "        <tr>\n",
       "            <td>1317</td>\n",
       "            <td>MONTCLARE</td>\n",
       "        </tr>\n",
       "        <tr>\n",
       "            <td>3271</td>\n",
       "            <td>MORGAN PARK</td>\n",
       "        </tr>\n",
       "        <tr>\n",
       "            <td>2091</td>\n",
       "            <td>MOUNT GREENWOOD</td>\n",
       "        </tr>\n",
       "        <tr>\n",
       "            <td>3362</td>\n",
       "            <td>NEAR NORTH SIDE</td>\n",
       "        </tr>\n",
       "        <tr>\n",
       "            <td>1378</td>\n",
       "            <td>NEAR SOUTH SIDE</td>\n",
       "        </tr>\n",
       "        <tr>\n",
       "            <td>7975</td>\n",
       "            <td>NEAR WEST SIDE</td>\n",
       "        </tr>\n",
       "        <tr>\n",
       "            <td>7922</td>\n",
       "            <td>NEW CITY</td>\n",
       "        </tr>\n",
       "        <tr>\n",
       "            <td>7541</td>\n",
       "            <td>NORTH CENTER</td>\n",
       "        </tr>\n",
       "        <tr>\n",
       "            <td>5146</td>\n",
       "            <td>NORTH LAWNDALE</td>\n",
       "        </tr>\n",
       "        <tr>\n",
       "            <td>4210</td>\n",
       "            <td>NORTH PARK</td>\n",
       "        </tr>\n",
       "        <tr>\n",
       "            <td>6469</td>\n",
       "            <td>NORWOOD PARK</td>\n",
       "        </tr>\n",
       "        <tr>\n",
       "            <td>140</td>\n",
       "            <td>OAKLAND</td>\n",
       "        </tr>\n",
       "        <tr>\n",
       "            <td>786</td>\n",
       "            <td>OHARE</td>\n",
       "        </tr>\n",
       "        <tr>\n",
       "            <td>6954</td>\n",
       "            <td>PORTAGE PARK</td>\n",
       "        </tr>\n",
       "        <tr>\n",
       "            <td>1620</td>\n",
       "            <td>PULLMAN</td>\n",
       "        </tr>\n",
       "        <tr>\n",
       "            <td>1547</td>\n",
       "            <td>RIVERDALE</td>\n",
       "        </tr>\n",
       "        <tr>\n",
       "            <td>4068</td>\n",
       "            <td>ROGERS PARK</td>\n",
       "        </tr>\n",
       "        <tr>\n",
       "            <td>7020</td>\n",
       "            <td>ROSELAND</td>\n",
       "        </tr>\n",
       "        <tr>\n",
       "            <td>4043</td>\n",
       "            <td>SOUTH CHICAGO</td>\n",
       "        </tr>\n",
       "        <tr>\n",
       "            <td>1859</td>\n",
       "            <td>SOUTH DEERING</td>\n",
       "        </tr>\n",
       "        <tr>\n",
       "            <td>14793</td>\n",
       "            <td>SOUTH LAWNDALE</td>\n",
       "        </tr>\n",
       "        <tr>\n",
       "            <td>4543</td>\n",
       "            <td>SOUTH SHORE</td>\n",
       "        </tr>\n",
       "        <tr>\n",
       "            <td>4388</td>\n",
       "            <td>UPTOWN</td>\n",
       "        </tr>\n",
       "        <tr>\n",
       "            <td>4006</td>\n",
       "            <td>WASHINGTON HEIGHTS</td>\n",
       "        </tr>\n",
       "        <tr>\n",
       "            <td>2648</td>\n",
       "            <td>WASHINGTON PARK</td>\n",
       "        </tr>\n",
       "        <tr>\n",
       "            <td>3700</td>\n",
       "            <td>WEST ELSDON</td>\n",
       "        </tr>\n",
       "        <tr>\n",
       "            <td>5946</td>\n",
       "            <td>WEST ENGLEWOOD</td>\n",
       "        </tr>\n",
       "        <tr>\n",
       "            <td>2622</td>\n",
       "            <td>WEST GARFIELD PARK</td>\n",
       "        </tr>\n",
       "        <tr>\n",
       "            <td>4207</td>\n",
       "            <td>WEST LAWN</td>\n",
       "        </tr>\n",
       "        <tr>\n",
       "            <td>3240</td>\n",
       "            <td>WEST PULLMAN</td>\n",
       "        </tr>\n",
       "        <tr>\n",
       "            <td>8197</td>\n",
       "            <td>WEST RIDGE</td>\n",
       "        </tr>\n",
       "        <tr>\n",
       "            <td>9429</td>\n",
       "            <td>WEST TOWN</td>\n",
       "        </tr>\n",
       "        <tr>\n",
       "            <td>4206</td>\n",
       "            <td>WOODLAWN</td>\n",
       "        </tr>\n",
       "    </tbody>\n",
       "</table>"
      ],
      "text/plain": [
       "[(6864, 'ALBANY PARK'),\n",
       " (4823, 'ARCHER HEIGHTS'),\n",
       " (1458, 'ARMOUR SQUARE'),\n",
       " (6483, 'ASHBURN'),\n",
       " (4175, 'AUBURN GRESHAM'),\n",
       " (10933, 'AUSTIN'),\n",
       " (1522, 'AVALON PARK'),\n",
       " (3640, 'AVONDALE'),\n",
       " (14386, 'BELMONT CRAGIN'),\n",
       " (1636, 'BEVERLY'),\n",
       " (3167, 'BRIDGEPORT'),\n",
       " (9647, 'BRIGHTON PARK'),\n",
       " (549, 'BURNSIDE'),\n",
       " (1568, 'CALUMET HEIGHTS'),\n",
       " (5042, 'CHATHAM'),\n",
       " (7086, 'CHICAGO LAWN'),\n",
       " (2085, 'CLEARING'),\n",
       " (4670, 'DOUGLAS'),\n",
       " (4568, 'DUNNING'),\n",
       " (5337, 'EAST GARFIELD PARK'),\n",
       " (5305, 'EAST SIDE'),\n",
       " (4600, 'EDGEWATER'),\n",
       " (910, 'EDISON PARK'),\n",
       " (6832, 'ENGLEWOOD'),\n",
       " (1431, 'FOREST GLEN'),\n",
       " (531, 'FULLER PARK'),\n",
       " (9915, 'GAGE PARK'),\n",
       " (4552, 'GARFIELD RIDGE'),\n",
       " (2809, 'GRAND BOULEVARD'),\n",
       " (4051, 'GREATER GRAND CROSSING'),\n",
       " (963, 'HEGEWISCH'),\n",
       " (3975, 'HERMOSA'),\n",
       " (8620, 'HUMBOLDT PARK'),\n",
       " (1930, 'HYDE PARK'),\n",
       " (7764, 'IRVING PARK'),\n",
       " (1755, 'JEFFERSON PARK'),\n",
       " (4287, 'KENWOOD'),\n",
       " (7055, 'LAKE VIEW'),\n",
       " (5615, 'LINCOLN PARK'),\n",
       " (4132, 'LINCOLN SQUARE'),\n",
       " (7351, 'LOGAN SQUARE'),\n",
       " (871, 'LOOP'),\n",
       " (7257, 'LOWER WEST SIDE'),\n",
       " (1552, 'MCKINLEY PARK'),\n",
       " (1317, 'MONTCLARE'),\n",
       " (3271, 'MORGAN PARK'),\n",
       " (2091, 'MOUNT GREENWOOD'),\n",
       " (3362, 'NEAR NORTH SIDE'),\n",
       " (1378, 'NEAR SOUTH SIDE'),\n",
       " (7975, 'NEAR WEST SIDE'),\n",
       " (7922, 'NEW CITY'),\n",
       " (7541, 'NORTH CENTER'),\n",
       " (5146, 'NORTH LAWNDALE'),\n",
       " (4210, 'NORTH PARK'),\n",
       " (6469, 'NORWOOD PARK'),\n",
       " (140, 'OAKLAND'),\n",
       " (786, 'OHARE'),\n",
       " (6954, 'PORTAGE PARK'),\n",
       " (1620, 'PULLMAN'),\n",
       " (1547, 'RIVERDALE'),\n",
       " (4068, 'ROGERS PARK'),\n",
       " (7020, 'ROSELAND'),\n",
       " (4043, 'SOUTH CHICAGO'),\n",
       " (1859, 'SOUTH DEERING'),\n",
       " (14793, 'SOUTH LAWNDALE'),\n",
       " (4543, 'SOUTH SHORE'),\n",
       " (4388, 'UPTOWN'),\n",
       " (4006, 'WASHINGTON HEIGHTS'),\n",
       " (2648, 'WASHINGTON PARK'),\n",
       " (3700, 'WEST ELSDON'),\n",
       " (5946, 'WEST ENGLEWOOD'),\n",
       " (2622, 'WEST GARFIELD PARK'),\n",
       " (4207, 'WEST LAWN'),\n",
       " (3240, 'WEST PULLMAN'),\n",
       " (8197, 'WEST RIDGE'),\n",
       " (9429, 'WEST TOWN'),\n",
       " (4206, 'WOODLAWN')]"
      ]
     },
     "execution_count": 22,
     "metadata": {},
     "output_type": "execute_result"
    }
   ],
   "source": [
    "%sql select sum(college_enrollment) as \"total enrollment\", community_area_name as \"Community Name\" from chicago_public_schools_data group by \"Community Name\";  "
   ]
  },
  {
   "cell_type": "markdown",
   "id": "b62b7f95",
   "metadata": {
    "papermill": {
     "duration": 0.017198,
     "end_time": "2024-05-26T20:38:05.212532",
     "exception": false,
     "start_time": "2024-05-26T20:38:05.195334",
     "status": "completed"
    },
    "tags": []
   },
   "source": [
    "### Q13 Get the 5 community areas with the least total college enrollment sorted in ascending order."
   ]
  },
  {
   "cell_type": "code",
   "execution_count": 23,
   "id": "8f238764",
   "metadata": {
    "execution": {
     "iopub.execute_input": "2024-05-26T20:38:05.248418Z",
     "iopub.status.busy": "2024-05-26T20:38:05.248045Z",
     "iopub.status.idle": "2024-05-26T20:38:05.258244Z",
     "shell.execute_reply": "2024-05-26T20:38:05.257144Z"
    },
    "papermill": {
     "duration": 0.030751,
     "end_time": "2024-05-26T20:38:05.260517",
     "exception": false,
     "start_time": "2024-05-26T20:38:05.229766",
     "status": "completed"
    },
    "tags": []
   },
   "outputs": [
    {
     "name": "stdout",
     "output_type": "stream",
     "text": [
      " * sqlite:///FinalDB.db\n",
      "Done.\n"
     ]
    },
    {
     "data": {
      "text/html": [
       "<table>\n",
       "    <thead>\n",
       "        <tr>\n",
       "            <th>COMMUNITY_AREA_NAME</th>\n",
       "            <th>TOTAL_ENROLLMENT</th>\n",
       "        </tr>\n",
       "    </thead>\n",
       "    <tbody>\n",
       "        <tr>\n",
       "            <td>OAKLAND</td>\n",
       "            <td>140</td>\n",
       "        </tr>\n",
       "        <tr>\n",
       "            <td>FULLER PARK</td>\n",
       "            <td>531</td>\n",
       "        </tr>\n",
       "        <tr>\n",
       "            <td>BURNSIDE</td>\n",
       "            <td>549</td>\n",
       "        </tr>\n",
       "        <tr>\n",
       "            <td>OHARE</td>\n",
       "            <td>786</td>\n",
       "        </tr>\n",
       "        <tr>\n",
       "            <td>LOOP</td>\n",
       "            <td>871</td>\n",
       "        </tr>\n",
       "    </tbody>\n",
       "</table>"
      ],
      "text/plain": [
       "[('OAKLAND', 140),\n",
       " ('FULLER PARK', 531),\n",
       " ('BURNSIDE', 549),\n",
       " ('OHARE', 786),\n",
       " ('LOOP', 871)]"
      ]
     },
     "execution_count": 23,
     "metadata": {},
     "output_type": "execute_result"
    }
   ],
   "source": [
    "%sql select Community_Area_Name, sum(College_Enrollment) AS TOTAL_ENROLLMENT \\\n",
    "   from CHICAGO_PUBLIC_SCHOOLS_DATA \\\n",
    "   group by Community_Area_Name \\\n",
    "   order by TOTAL_ENROLLMENT \\\n",
    "   Limit 5; "
   ]
  },
  {
   "cell_type": "markdown",
   "id": "821a78da",
   "metadata": {
    "papermill": {
     "duration": 0.017741,
     "end_time": "2024-05-26T20:38:05.296802",
     "exception": false,
     "start_time": "2024-05-26T20:38:05.279061",
     "status": "completed"
    },
    "tags": []
   },
   "source": [
    "### Q14 List the 5 schools with the lowest safety score"
   ]
  },
  {
   "cell_type": "code",
   "execution_count": 24,
   "id": "71bcf8e2",
   "metadata": {
    "execution": {
     "iopub.execute_input": "2024-05-26T20:38:05.334658Z",
     "iopub.status.busy": "2024-05-26T20:38:05.333978Z",
     "iopub.status.idle": "2024-05-26T20:38:05.344738Z",
     "shell.execute_reply": "2024-05-26T20:38:05.343807Z"
    },
    "papermill": {
     "duration": 0.032681,
     "end_time": "2024-05-26T20:38:05.347188",
     "exception": false,
     "start_time": "2024-05-26T20:38:05.314507",
     "status": "completed"
    },
    "tags": []
   },
   "outputs": [
    {
     "name": "stdout",
     "output_type": "stream",
     "text": [
      " * sqlite:///FinalDB.db\n",
      "Done.\n"
     ]
    },
    {
     "data": {
      "text/html": [
       "<table>\n",
       "    <thead>\n",
       "        <tr>\n",
       "            <th>NAME_OF_SCHOOL</th>\n",
       "            <th>SAFETY_SCORE</th>\n",
       "        </tr>\n",
       "    </thead>\n",
       "    <tbody>\n",
       "        <tr>\n",
       "            <td>Edmond Burke Elementary School</td>\n",
       "            <td>1.0</td>\n",
       "        </tr>\n",
       "        <tr>\n",
       "            <td>Luke O&#x27;Toole Elementary School</td>\n",
       "            <td>5.0</td>\n",
       "        </tr>\n",
       "        <tr>\n",
       "            <td>George W Tilton Elementary School</td>\n",
       "            <td>6.0</td>\n",
       "        </tr>\n",
       "        <tr>\n",
       "            <td>Foster Park Elementary School</td>\n",
       "            <td>11.0</td>\n",
       "        </tr>\n",
       "        <tr>\n",
       "            <td>Emil G Hirsch Metropolitan High School</td>\n",
       "            <td>13.0</td>\n",
       "        </tr>\n",
       "    </tbody>\n",
       "</table>"
      ],
      "text/plain": [
       "[('Edmond Burke Elementary School', 1.0),\n",
       " (\"Luke O'Toole Elementary School\", 5.0),\n",
       " ('George W Tilton Elementary School', 6.0),\n",
       " ('Foster Park Elementary School', 11.0),\n",
       " ('Emil G Hirsch Metropolitan High School', 13.0)]"
      ]
     },
     "execution_count": 24,
     "metadata": {},
     "output_type": "execute_result"
    }
   ],
   "source": [
    "%sql select Name_of_School, SAFETY_SCORE \\\n",
    "   from CHICAGO_PUBLIC_SCHOOLS_DATA where safety_score != 'None'\\\n",
    "   order by SAFETY_SCORE asc \\\n",
    "   LIMIT 5 "
   ]
  },
  {
   "cell_type": "markdown",
   "id": "af3ea924",
   "metadata": {
    "papermill": {
     "duration": 0.017205,
     "end_time": "2024-05-26T20:38:05.382456",
     "exception": false,
     "start_time": "2024-05-26T20:38:05.365251",
     "status": "completed"
    },
    "tags": []
   },
   "source": [
    "### Q15 Get the hardship index for the community area of the school which has a college enrollment of 4368"
   ]
  },
  {
   "cell_type": "code",
   "execution_count": 25,
   "id": "23b1a3f4",
   "metadata": {
    "execution": {
     "iopub.execute_input": "2024-05-26T20:38:05.418844Z",
     "iopub.status.busy": "2024-05-26T20:38:05.418444Z",
     "iopub.status.idle": "2024-05-26T20:38:05.428399Z",
     "shell.execute_reply": "2024-05-26T20:38:05.427435Z"
    },
    "papermill": {
     "duration": 0.030556,
     "end_time": "2024-05-26T20:38:05.430450",
     "exception": false,
     "start_time": "2024-05-26T20:38:05.399894",
     "status": "completed"
    },
    "tags": []
   },
   "outputs": [
    {
     "name": "stdout",
     "output_type": "stream",
     "text": [
      " * sqlite:///FinalDB.db\n",
      "Done.\n"
     ]
    },
    {
     "data": {
      "text/html": [
       "<table>\n",
       "    <thead>\n",
       "        <tr>\n",
       "            <th>HARDSHIP_INDEX</th>\n",
       "        </tr>\n",
       "    </thead>\n",
       "    <tbody>\n",
       "        <tr>\n",
       "            <td>6.0</td>\n",
       "        </tr>\n",
       "    </tbody>\n",
       "</table>"
      ],
      "text/plain": [
       "[(6.0,)]"
      ]
     },
     "execution_count": 25,
     "metadata": {},
     "output_type": "execute_result"
    }
   ],
   "source": [
    "%%sql \n",
    "select hardship_index from CENSUS_DATA CD, CHICAGO_PUBLIC_SCHOOLS_DATA CPS \n",
    "where CD.community_area_number = CPS.community_area_number \n",
    "and college_enrollment = 4368"
   ]
  },
  {
   "cell_type": "markdown",
   "id": "16b20b5b",
   "metadata": {
    "papermill": {
     "duration": 0.017221,
     "end_time": "2024-05-26T20:38:05.465303",
     "exception": false,
     "start_time": "2024-05-26T20:38:05.448082",
     "status": "completed"
    },
    "tags": []
   },
   "source": [
    "### Q16 Get the hardship index for the community area with the highest value for college enrollment. "
   ]
  },
  {
   "cell_type": "code",
   "execution_count": 26,
   "id": "d65c01bc",
   "metadata": {
    "execution": {
     "iopub.execute_input": "2024-05-26T20:38:05.501801Z",
     "iopub.status.busy": "2024-05-26T20:38:05.501411Z",
     "iopub.status.idle": "2024-05-26T20:38:05.512983Z",
     "shell.execute_reply": "2024-05-26T20:38:05.511984Z"
    },
    "papermill": {
     "duration": 0.032318,
     "end_time": "2024-05-26T20:38:05.515137",
     "exception": false,
     "start_time": "2024-05-26T20:38:05.482819",
     "status": "completed"
    },
    "tags": []
   },
   "outputs": [
    {
     "name": "stdout",
     "output_type": "stream",
     "text": [
      " * sqlite:///FinalDB.db\n",
      "Done.\n"
     ]
    },
    {
     "data": {
      "text/html": [
       "<table>\n",
       "    <thead>\n",
       "        <tr>\n",
       "            <th>community area number</th>\n",
       "            <th>community name</th>\n",
       "            <th>hardship index</th>\n",
       "        </tr>\n",
       "    </thead>\n",
       "    <tbody>\n",
       "        <tr>\n",
       "            <td>5.0</td>\n",
       "            <td>North Center</td>\n",
       "            <td>6.0</td>\n",
       "        </tr>\n",
       "    </tbody>\n",
       "</table>"
      ],
      "text/plain": [
       "[(5.0, 'North Center', 6.0)]"
      ]
     },
     "execution_count": 26,
     "metadata": {},
     "output_type": "execute_result"
    }
   ],
   "source": [
    "%sql select community_area_number as \"community area number\", community_area_name as \"community name\", hardship_index as \"hardship index\" from CENSUS_DATA \\\n",
    "   where community_area_number in \\\n",
    "   ( select community_area_number from CHICAGO_PUBLIC_SCHOOLS_DATA order by college_enrollment desc limit 1 )"
   ]
  },
  {
   "cell_type": "markdown",
   "id": "1a65026a",
   "metadata": {
    "papermill": {
     "duration": 0.018713,
     "end_time": "2024-05-26T20:38:05.552562",
     "exception": false,
     "start_time": "2024-05-26T20:38:05.533849",
     "status": "completed"
    },
    "tags": []
   },
   "source": [
    "### Q17 What is the total number of crimes recorded in the crime dataset?"
   ]
  },
  {
   "cell_type": "code",
   "execution_count": 27,
   "id": "a93c381f",
   "metadata": {
    "execution": {
     "iopub.execute_input": "2024-05-26T20:38:05.591312Z",
     "iopub.status.busy": "2024-05-26T20:38:05.590940Z",
     "iopub.status.idle": "2024-05-26T20:38:05.599786Z",
     "shell.execute_reply": "2024-05-26T20:38:05.598653Z"
    },
    "papermill": {
     "duration": 0.03104,
     "end_time": "2024-05-26T20:38:05.602275",
     "exception": false,
     "start_time": "2024-05-26T20:38:05.571235",
     "status": "completed"
    },
    "tags": []
   },
   "outputs": [
    {
     "name": "stdout",
     "output_type": "stream",
     "text": [
      " * sqlite:///FinalDB.db\n",
      "Done.\n"
     ]
    },
    {
     "data": {
      "text/html": [
       "<table>\n",
       "    <thead>\n",
       "        <tr>\n",
       "            <th>COUNT(CASE_NUMBER)</th>\n",
       "        </tr>\n",
       "    </thead>\n",
       "    <tbody>\n",
       "        <tr>\n",
       "            <td>533</td>\n",
       "        </tr>\n",
       "    </tbody>\n",
       "</table>"
      ],
      "text/plain": [
       "[(533,)]"
      ]
     },
     "execution_count": 27,
     "metadata": {},
     "output_type": "execute_result"
    }
   ],
   "source": [
    "%sql SELECT COUNT(CASE_NUMBER) FROM CHICAGO_CRIME_DATA"
   ]
  },
  {
   "cell_type": "markdown",
   "id": "d433f1da",
   "metadata": {
    "papermill": {
     "duration": 0.018337,
     "end_time": "2024-05-26T20:38:05.639394",
     "exception": false,
     "start_time": "2024-05-26T20:38:05.621057",
     "status": "completed"
    },
    "tags": []
   },
   "source": [
    "### Q17 List community area names and numbers with per capita income less than $11,000. "
   ]
  },
  {
   "cell_type": "code",
   "execution_count": 28,
   "id": "6a8a733c",
   "metadata": {
    "execution": {
     "iopub.execute_input": "2024-05-26T20:38:05.678399Z",
     "iopub.status.busy": "2024-05-26T20:38:05.678025Z",
     "iopub.status.idle": "2024-05-26T20:38:05.687884Z",
     "shell.execute_reply": "2024-05-26T20:38:05.686820Z"
    },
    "papermill": {
     "duration": 0.031606,
     "end_time": "2024-05-26T20:38:05.689997",
     "exception": false,
     "start_time": "2024-05-26T20:38:05.658391",
     "status": "completed"
    },
    "tags": []
   },
   "outputs": [
    {
     "name": "stdout",
     "output_type": "stream",
     "text": [
      " * sqlite:///FinalDB.db\n",
      "Done.\n"
     ]
    },
    {
     "data": {
      "text/html": [
       "<table>\n",
       "    <thead>\n",
       "        <tr>\n",
       "            <th>Income</th>\n",
       "            <th>Community Name</th>\n",
       "            <th>Communitu number</th>\n",
       "        </tr>\n",
       "    </thead>\n",
       "    <tbody>\n",
       "        <tr>\n",
       "            <td>10934</td>\n",
       "            <td>West Garfield Park</td>\n",
       "            <td>26.0</td>\n",
       "        </tr>\n",
       "        <tr>\n",
       "            <td>10402</td>\n",
       "            <td>South Lawndale</td>\n",
       "            <td>30.0</td>\n",
       "        </tr>\n",
       "        <tr>\n",
       "            <td>10432</td>\n",
       "            <td>Fuller Park</td>\n",
       "            <td>37.0</td>\n",
       "        </tr>\n",
       "        <tr>\n",
       "            <td>8201</td>\n",
       "            <td>Riverdale</td>\n",
       "            <td>54.0</td>\n",
       "        </tr>\n",
       "    </tbody>\n",
       "</table>"
      ],
      "text/plain": [
       "[(10934, 'West Garfield Park', 26.0),\n",
       " (10402, 'South Lawndale', 30.0),\n",
       " (10432, 'Fuller Park', 37.0),\n",
       " (8201, 'Riverdale', 54.0)]"
      ]
     },
     "execution_count": 28,
     "metadata": {},
     "output_type": "execute_result"
    }
   ],
   "source": [
    "%%sql\n",
    "SELECT PER_CAPITA_INCOME as \"Income\", COMMUNITY_AREA_NAME as \"Community Name\", COMMUNITY_AREA_NUMBER as \"Communitu number\" FROM CENSUS_DATA\n",
    "where PER_CAPITA_INCOME < 11000; "
   ]
  },
  {
   "cell_type": "markdown",
   "id": "c1e33e70",
   "metadata": {
    "papermill": {
     "duration": 0.017956,
     "end_time": "2024-05-26T20:38:05.726422",
     "exception": false,
     "start_time": "2024-05-26T20:38:05.708466",
     "status": "completed"
    },
    "tags": []
   },
   "source": [
    "### Q18 List all case numbers for crimes involving minors? (Excluding children)"
   ]
  },
  {
   "cell_type": "code",
   "execution_count": 29,
   "id": "76c5dd0b",
   "metadata": {
    "execution": {
     "iopub.execute_input": "2024-05-26T20:38:05.764367Z",
     "iopub.status.busy": "2024-05-26T20:38:05.764002Z",
     "iopub.status.idle": "2024-05-26T20:38:05.773107Z",
     "shell.execute_reply": "2024-05-26T20:38:05.772034Z"
    },
    "papermill": {
     "duration": 0.030417,
     "end_time": "2024-05-26T20:38:05.775148",
     "exception": false,
     "start_time": "2024-05-26T20:38:05.744731",
     "status": "completed"
    },
    "tags": []
   },
   "outputs": [
    {
     "name": "stdout",
     "output_type": "stream",
     "text": [
      " * sqlite:///FinalDB.db\n",
      "Done.\n"
     ]
    },
    {
     "data": {
      "text/html": [
       "<table>\n",
       "    <thead>\n",
       "        <tr>\n",
       "            <th>CASE_NUMBER</th>\n",
       "        </tr>\n",
       "    </thead>\n",
       "    <tbody>\n",
       "        <tr>\n",
       "            <td>HL266884</td>\n",
       "        </tr>\n",
       "        <tr>\n",
       "            <td>HK238408</td>\n",
       "        </tr>\n",
       "    </tbody>\n",
       "</table>"
      ],
      "text/plain": [
       "[('HL266884',), ('HK238408',)]"
      ]
     },
     "execution_count": 29,
     "metadata": {},
     "output_type": "execute_result"
    }
   ],
   "source": [
    "%sql SELECT CASE_NUMBER from CHICAGO_CRIME_DATA \\\n",
    "where DESCRIPTION LIKE '%MINOR%';"
   ]
  },
  {
   "cell_type": "markdown",
   "id": "75673972",
   "metadata": {
    "papermill": {
     "duration": 0.018035,
     "end_time": "2024-05-26T20:38:05.811760",
     "exception": false,
     "start_time": "2024-05-26T20:38:05.793725",
     "status": "completed"
    },
    "tags": []
   },
   "source": [
    "### Q19 List all kidnapping crimes involving a child"
   ]
  },
  {
   "cell_type": "code",
   "execution_count": 30,
   "id": "b7a465ef",
   "metadata": {
    "execution": {
     "iopub.execute_input": "2024-05-26T20:38:05.850963Z",
     "iopub.status.busy": "2024-05-26T20:38:05.850197Z",
     "iopub.status.idle": "2024-05-26T20:38:05.861288Z",
     "shell.execute_reply": "2024-05-26T20:38:05.860301Z"
    },
    "papermill": {
     "duration": 0.032948,
     "end_time": "2024-05-26T20:38:05.863398",
     "exception": false,
     "start_time": "2024-05-26T20:38:05.830450",
     "status": "completed"
    },
    "tags": []
   },
   "outputs": [
    {
     "name": "stdout",
     "output_type": "stream",
     "text": [
      " * sqlite:///FinalDB.db\n",
      "Done.\n"
     ]
    },
    {
     "data": {
      "text/html": [
       "<table>\n",
       "    <thead>\n",
       "        <tr>\n",
       "            <th>Case Number</th>\n",
       "            <th>Primary Type</th>\n",
       "            <th>Desription</th>\n",
       "        </tr>\n",
       "    </thead>\n",
       "    <tbody>\n",
       "        <tr>\n",
       "            <td>HN144152</td>\n",
       "            <td>KIDNAPPING</td>\n",
       "            <td>CHILD ABDUCTION/STRANGER</td>\n",
       "        </tr>\n",
       "    </tbody>\n",
       "</table>"
      ],
      "text/plain": [
       "[('HN144152', 'KIDNAPPING', 'CHILD ABDUCTION/STRANGER')]"
      ]
     },
     "execution_count": 30,
     "metadata": {},
     "output_type": "execute_result"
    }
   ],
   "source": [
    "%sql SELECT CASE_NUMBER as \"Case Number\", PRIMARY_TYPE as \"Primary Type\", DESCRIPTION as \"Desription\" FROM CHICAGO_CRIME_DATA \\\n",
    "WHERE PRIMARY_TYPE = \"KIDNAPPING\"\\\n",
    "and description like \"%child%\"; "
   ]
  },
  {
   "cell_type": "markdown",
   "id": "9d008770",
   "metadata": {
    "papermill": {
     "duration": 0.018651,
     "end_time": "2024-05-26T20:38:05.901310",
     "exception": false,
     "start_time": "2024-05-26T20:38:05.882659",
     "status": "completed"
    },
    "tags": []
   },
   "source": [
    "### Q20 List the kind of crimes that were recorded at schools without repititions. "
   ]
  },
  {
   "cell_type": "code",
   "execution_count": 31,
   "id": "40692e48",
   "metadata": {
    "execution": {
     "iopub.execute_input": "2024-05-26T20:38:05.940520Z",
     "iopub.status.busy": "2024-05-26T20:38:05.940160Z",
     "iopub.status.idle": "2024-05-26T20:38:05.951271Z",
     "shell.execute_reply": "2024-05-26T20:38:05.950320Z"
    },
    "papermill": {
     "duration": 0.033096,
     "end_time": "2024-05-26T20:38:05.953354",
     "exception": false,
     "start_time": "2024-05-26T20:38:05.920258",
     "status": "completed"
    },
    "tags": []
   },
   "outputs": [
    {
     "name": "stdout",
     "output_type": "stream",
     "text": [
      " * sqlite:///FinalDB.db\n",
      "Done.\n"
     ]
    },
    {
     "data": {
      "text/html": [
       "<table>\n",
       "    <thead>\n",
       "        <tr>\n",
       "            <th>Primary Type</th>\n",
       "        </tr>\n",
       "    </thead>\n",
       "    <tbody>\n",
       "        <tr>\n",
       "            <td>BATTERY</td>\n",
       "        </tr>\n",
       "        <tr>\n",
       "            <td>CRIMINAL DAMAGE</td>\n",
       "        </tr>\n",
       "        <tr>\n",
       "            <td>NARCOTICS</td>\n",
       "        </tr>\n",
       "        <tr>\n",
       "            <td>ASSAULT</td>\n",
       "        </tr>\n",
       "        <tr>\n",
       "            <td>CRIMINAL TRESPASS</td>\n",
       "        </tr>\n",
       "        <tr>\n",
       "            <td>PUBLIC PEACE VIOLATION</td>\n",
       "        </tr>\n",
       "    </tbody>\n",
       "</table>"
      ],
      "text/plain": [
       "[('BATTERY',),\n",
       " ('CRIMINAL DAMAGE',),\n",
       " ('NARCOTICS',),\n",
       " ('ASSAULT',),\n",
       " ('CRIMINAL TRESPASS',),\n",
       " ('PUBLIC PEACE VIOLATION',)]"
      ]
     },
     "execution_count": 31,
     "metadata": {},
     "output_type": "execute_result"
    }
   ],
   "source": [
    "%sql SELECT  DISTINCT PRIMARY_TYPE as \"Primary Type\" FROM CHICAGO_CRIME_DATA \\\n",
    "where LOCATION_DESCRIPTION like \"%school%\"; "
   ]
  },
  {
   "cell_type": "markdown",
   "id": "06c60261",
   "metadata": {
    "papermill": {
     "duration": 0.018974,
     "end_time": "2024-05-26T20:38:05.992014",
     "exception": false,
     "start_time": "2024-05-26T20:38:05.973040",
     "status": "completed"
    },
    "tags": []
   },
   "source": [
    "### Q21 List the type of schools along with the average dafety score for each type."
   ]
  },
  {
   "cell_type": "code",
   "execution_count": 32,
   "id": "68d8fe0d",
   "metadata": {
    "execution": {
     "iopub.execute_input": "2024-05-26T20:38:06.031915Z",
     "iopub.status.busy": "2024-05-26T20:38:06.031513Z",
     "iopub.status.idle": "2024-05-26T20:38:06.041861Z",
     "shell.execute_reply": "2024-05-26T20:38:06.040856Z"
    },
    "papermill": {
     "duration": 0.032992,
     "end_time": "2024-05-26T20:38:06.044202",
     "exception": false,
     "start_time": "2024-05-26T20:38:06.011210",
     "status": "completed"
    },
    "tags": []
   },
   "outputs": [
    {
     "name": "stdout",
     "output_type": "stream",
     "text": [
      " * sqlite:///FinalDB.db\n",
      "Done.\n"
     ]
    },
    {
     "data": {
      "text/html": [
       "<table>\n",
       "    <thead>\n",
       "        <tr>\n",
       "            <th>School Type</th>\n",
       "            <th>Average Safety Score</th>\n",
       "        </tr>\n",
       "    </thead>\n",
       "    <tbody>\n",
       "        <tr>\n",
       "            <td>ES</td>\n",
       "            <td>49.52038369304557</td>\n",
       "        </tr>\n",
       "        <tr>\n",
       "            <td>HS</td>\n",
       "            <td>49.62352941176471</td>\n",
       "        </tr>\n",
       "        <tr>\n",
       "            <td>MS</td>\n",
       "            <td>48.0</td>\n",
       "        </tr>\n",
       "    </tbody>\n",
       "</table>"
      ],
      "text/plain": [
       "[('ES', 49.52038369304557), ('HS', 49.62352941176471), ('MS', 48.0)]"
      ]
     },
     "execution_count": 32,
     "metadata": {},
     "output_type": "execute_result"
    }
   ],
   "source": [
    "%sql SELECT DISTINCT \"Elementary, Middle, or High School\" as \"School Type\", AVG(Safety_Score) as \"Average Safety Score\" FROM CHICAGO_PUBLIC_SCHOOLS_DATA Group by \"Elementary, Middle, or High School\" "
   ]
  },
  {
   "cell_type": "markdown",
   "id": "02b61acc",
   "metadata": {
    "papermill": {
     "duration": 0.019568,
     "end_time": "2024-05-26T20:38:06.084398",
     "exception": false,
     "start_time": "2024-05-26T20:38:06.064830",
     "status": "completed"
    },
    "tags": []
   },
   "source": [
    "### Q22 List 5 community areas with highest % of households below the poverty line."
   ]
  },
  {
   "cell_type": "code",
   "execution_count": 33,
   "id": "2a3c0e43",
   "metadata": {
    "execution": {
     "iopub.execute_input": "2024-05-26T20:38:06.125085Z",
     "iopub.status.busy": "2024-05-26T20:38:06.124715Z",
     "iopub.status.idle": "2024-05-26T20:38:06.134813Z",
     "shell.execute_reply": "2024-05-26T20:38:06.133885Z"
    },
    "papermill": {
     "duration": 0.032618,
     "end_time": "2024-05-26T20:38:06.136818",
     "exception": false,
     "start_time": "2024-05-26T20:38:06.104200",
     "status": "completed"
    },
    "tags": []
   },
   "outputs": [
    {
     "name": "stdout",
     "output_type": "stream",
     "text": [
      " * sqlite:///FinalDB.db\n",
      "Done.\n"
     ]
    },
    {
     "data": {
      "text/html": [
       "<table>\n",
       "    <thead>\n",
       "        <tr>\n",
       "            <th>Community Name</th>\n",
       "            <th>% Below Poverty</th>\n",
       "        </tr>\n",
       "    </thead>\n",
       "    <tbody>\n",
       "        <tr>\n",
       "            <td>Riverdale</td>\n",
       "            <td>56.5</td>\n",
       "        </tr>\n",
       "        <tr>\n",
       "            <td>Fuller Park</td>\n",
       "            <td>51.2</td>\n",
       "        </tr>\n",
       "        <tr>\n",
       "            <td>Englewood</td>\n",
       "            <td>46.6</td>\n",
       "        </tr>\n",
       "        <tr>\n",
       "            <td>North Lawndale</td>\n",
       "            <td>43.1</td>\n",
       "        </tr>\n",
       "        <tr>\n",
       "            <td>East Garfield Park</td>\n",
       "            <td>42.4</td>\n",
       "        </tr>\n",
       "    </tbody>\n",
       "</table>"
      ],
      "text/plain": [
       "[('Riverdale', 56.5),\n",
       " ('Fuller Park', 51.2),\n",
       " ('Englewood', 46.6),\n",
       " ('North Lawndale', 43.1),\n",
       " ('East Garfield Park', 42.4)]"
      ]
     },
     "execution_count": 33,
     "metadata": {},
     "output_type": "execute_result"
    }
   ],
   "source": [
    "%sql SELECT community_area_name as \"Community Name\", PERCENT_HOUSEHOLDS_BELOW_POVERTY \"% Below Poverty\" FROM CENSUS_DATA order by PERCENT_HOUSEHOLDS_BELOW_POVERTY desc limit 5"
   ]
  },
  {
   "cell_type": "markdown",
   "id": "5b0bc389",
   "metadata": {
    "papermill": {
     "duration": 0.01897,
     "end_time": "2024-05-26T20:38:06.175535",
     "exception": false,
     "start_time": "2024-05-26T20:38:06.156565",
     "status": "completed"
    },
    "tags": []
   },
   "source": [
    "### Q23 Which community area is most crime prone? "
   ]
  },
  {
   "cell_type": "code",
   "execution_count": 34,
   "id": "7db850b9",
   "metadata": {
    "execution": {
     "iopub.execute_input": "2024-05-26T20:38:06.216919Z",
     "iopub.status.busy": "2024-05-26T20:38:06.216526Z",
     "iopub.status.idle": "2024-05-26T20:38:06.226893Z",
     "shell.execute_reply": "2024-05-26T20:38:06.225908Z"
    },
    "papermill": {
     "duration": 0.032999,
     "end_time": "2024-05-26T20:38:06.229203",
     "exception": false,
     "start_time": "2024-05-26T20:38:06.196204",
     "status": "completed"
    },
    "tags": []
   },
   "outputs": [
    {
     "name": "stdout",
     "output_type": "stream",
     "text": [
      " * sqlite:///FinalDB.db\n",
      "Done.\n"
     ]
    },
    {
     "data": {
      "text/html": [
       "<table>\n",
       "    <thead>\n",
       "        <tr>\n",
       "            <th>Community Number</th>\n",
       "            <th>Crime_Count</th>\n",
       "        </tr>\n",
       "    </thead>\n",
       "    <tbody>\n",
       "        <tr>\n",
       "            <td>25.0</td>\n",
       "            <td>43</td>\n",
       "        </tr>\n",
       "    </tbody>\n",
       "</table>"
      ],
      "text/plain": [
       "[(25.0, 43)]"
      ]
     },
     "execution_count": 34,
     "metadata": {},
     "output_type": "execute_result"
    }
   ],
   "source": [
    "%sql select community_area_number as \"Community Number\", Count(*) as Crime_Count from chicago_crime_data group by community_area_number order by Crime_Count desc limit 1"
   ]
  },
  {
   "cell_type": "markdown",
   "id": "01347a66",
   "metadata": {
    "papermill": {
     "duration": 0.019541,
     "end_time": "2024-05-26T20:38:06.268328",
     "exception": false,
     "start_time": "2024-05-26T20:38:06.248787",
     "status": "completed"
    },
    "tags": []
   },
   "source": [
    "### Q24 Find the name of the community area with the highest hardship index. (Subquery)"
   ]
  },
  {
   "cell_type": "code",
   "execution_count": 35,
   "id": "f3201d9b",
   "metadata": {
    "execution": {
     "iopub.execute_input": "2024-05-26T20:38:06.309665Z",
     "iopub.status.busy": "2024-05-26T20:38:06.308784Z",
     "iopub.status.idle": "2024-05-26T20:38:06.318898Z",
     "shell.execute_reply": "2024-05-26T20:38:06.317726Z"
    },
    "papermill": {
     "duration": 0.033084,
     "end_time": "2024-05-26T20:38:06.321153",
     "exception": false,
     "start_time": "2024-05-26T20:38:06.288069",
     "status": "completed"
    },
    "tags": []
   },
   "outputs": [
    {
     "name": "stdout",
     "output_type": "stream",
     "text": [
      " * sqlite:///FinalDB.db\n",
      "Done.\n"
     ]
    },
    {
     "data": {
      "text/html": [
       "<table>\n",
       "    <thead>\n",
       "        <tr>\n",
       "            <th>Community Name</th>\n",
       "        </tr>\n",
       "    </thead>\n",
       "    <tbody>\n",
       "        <tr>\n",
       "            <td>Riverdale</td>\n",
       "        </tr>\n",
       "    </tbody>\n",
       "</table>"
      ],
      "text/plain": [
       "[('Riverdale',)]"
      ]
     },
     "execution_count": 35,
     "metadata": {},
     "output_type": "execute_result"
    }
   ],
   "source": [
    "%sql select community_area_name as \"Community Name\" from census_data where hardship_index = (select max(hardship_index) from census_data)"
   ]
  },
  {
   "cell_type": "markdown",
   "id": "436c0ee3",
   "metadata": {
    "papermill": {
     "duration": 0.019355,
     "end_time": "2024-05-26T20:38:06.360748",
     "exception": false,
     "start_time": "2024-05-26T20:38:06.341393",
     "status": "completed"
    },
    "tags": []
   },
   "source": [
    "### Q25 Determine the Community Area Name with most number of crimes? (Subquery)"
   ]
  },
  {
   "cell_type": "code",
   "execution_count": 36,
   "id": "b24e3c84",
   "metadata": {
    "execution": {
     "iopub.execute_input": "2024-05-26T20:38:06.401443Z",
     "iopub.status.busy": "2024-05-26T20:38:06.400742Z",
     "iopub.status.idle": "2024-05-26T20:38:06.411325Z",
     "shell.execute_reply": "2024-05-26T20:38:06.410356Z"
    },
    "papermill": {
     "duration": 0.033545,
     "end_time": "2024-05-26T20:38:06.413704",
     "exception": false,
     "start_time": "2024-05-26T20:38:06.380159",
     "status": "completed"
    },
    "tags": []
   },
   "outputs": [
    {
     "name": "stdout",
     "output_type": "stream",
     "text": [
      " * sqlite:///FinalDB.db\n",
      "Done.\n"
     ]
    },
    {
     "data": {
      "text/html": [
       "<table>\n",
       "    <thead>\n",
       "        <tr>\n",
       "            <th>Community Number</th>\n",
       "            <th>Community Name</th>\n",
       "        </tr>\n",
       "    </thead>\n",
       "    <tbody>\n",
       "        <tr>\n",
       "            <td>25.0</td>\n",
       "            <td>Austin</td>\n",
       "        </tr>\n",
       "    </tbody>\n",
       "</table>"
      ],
      "text/plain": [
       "[(25.0, 'Austin')]"
      ]
     },
     "execution_count": 36,
     "metadata": {},
     "output_type": "execute_result"
    }
   ],
   "source": [
    "%sql select community_area_number as \"Community Number\", community_area_name as \"Community Name\" from CENSUS_DATA \\\n",
    "   where community_area_number in \\\n",
    "   (select community_area_number from chicago_crime_data group by community_area_number order by Count(*) desc limit 1)"
   ]
  },
  {
   "cell_type": "code",
   "execution_count": null,
   "id": "7a345217",
   "metadata": {
    "papermill": {
     "duration": 0.020129,
     "end_time": "2024-05-26T20:38:06.454172",
     "exception": false,
     "start_time": "2024-05-26T20:38:06.434043",
     "status": "completed"
    },
    "tags": []
   },
   "outputs": [],
   "source": []
  }
 ],
 "metadata": {
  "kaggle": {
   "accelerator": "none",
   "dataSources": [
    {
     "datasetId": 63,
     "sourceId": 589,
     "sourceType": "datasetVersion"
    }
   ],
   "dockerImageVersionId": 30698,
   "isGpuEnabled": false,
   "isInternetEnabled": true,
   "language": "python",
   "sourceType": "notebook"
  },
  "kernelspec": {
   "display_name": "Python 3",
   "language": "python",
   "name": "python3"
  },
  "language_info": {
   "codemirror_mode": {
    "name": "ipython",
    "version": 3
   },
   "file_extension": ".py",
   "mimetype": "text/x-python",
   "name": "python",
   "nbconvert_exporter": "python",
   "pygments_lexer": "ipython3",
   "version": "3.10.13"
  },
  "papermill": {
   "default_parameters": {},
   "duration": 12.569751,
   "end_time": "2024-05-26T20:38:06.894695",
   "environment_variables": {},
   "exception": null,
   "input_path": "__notebook__.ipynb",
   "output_path": "__notebook__.ipynb",
   "parameters": {},
   "start_time": "2024-05-26T20:37:54.324944",
   "version": "2.5.0"
  }
 },
 "nbformat": 4,
 "nbformat_minor": 5
}
