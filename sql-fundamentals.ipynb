{
 "cells": [
  {
   "cell_type": "markdown",
   "id": "7b11eb02",
   "metadata": {
    "papermill": {
     "duration": 0.01925,
     "end_time": "2024-05-26T20:51:36.973799",
     "exception": false,
     "start_time": "2024-05-26T20:51:36.954549",
     "status": "completed"
    },
    "tags": []
   },
   "source": [
    "# SQL FUNDAMENTALS"
   ]
  },
  {
   "cell_type": "markdown",
   "id": "aafbbed2",
   "metadata": {
    "papermill": {
     "duration": 0.018078,
     "end_time": "2024-05-26T20:51:37.011276",
     "exception": false,
     "start_time": "2024-05-26T20:51:36.993198",
     "status": "completed"
    },
    "tags": []
   },
   "source": [
    "THIS NOTEBOOK WILL INVOLVE APPLYING BASIC SQL PRINCIPLES AND TECHNIQUES THAT I HAVE LEARNT SO FAR INCLUDING:\n",
    "\n",
    "* ORDER BY, GROUP BY, AND LIKE STRING PATTERNS\n",
    "* SUB QUERIES AND NESTED SELECTS\n",
    "* WORKING WITH MULTIPLE DATASETS\n",
    "\n",
    "TO STRUCTURE THE NOTEBOOK I AM GOING TO PROPOSE BASIC QUESTIONS DESIGNED TO TEST THESE TECHNIQUES."
   ]
  },
  {
   "cell_type": "markdown",
   "id": "e83da3a1",
   "metadata": {
    "papermill": {
     "duration": 0.019277,
     "end_time": "2024-05-26T20:51:37.049011",
     "exception": false,
     "start_time": "2024-05-26T20:51:37.029734",
     "status": "completed"
    },
    "tags": []
   },
   "source": [
    "# DATASETS \n",
    "\n",
    "CHICAGO CENSUS DATA \n",
    "\n",
    "https://cf-courses-data.s3.us.cloud-object-storage.appdomain.cloud/IBMDeveloperSkillsNetwork-DB0201EN-SkillsNetwork/labs/FinalModule_Coursera_V5/data/ChicagoCensusData.csv?utm_medium=Exinfluencer&utm_source=Exinfluencer&utm_content=000026UJ&utm_term=10006555&utm_id=NA-SkillsNetwork-Channel-SkillsNetworkCoursesIBMDeveloperSkillsNetworkDB0201ENSkillsNetwork20127838-2021-01-01\n",
    "\n",
    "CHICAGO PUBLIC SCHOOLS \n",
    "\n",
    "https://cf-courses-data.s3.us.cloud-object-storage.appdomain.cloud/IBMDeveloperSkillsNetwork-DB0201EN-SkillsNetwork/labs/FinalModule_Coursera_V5/data/ChicagoPublicSchools.csv?utm_medium=Exinfluencer&utm_source=Exinfluencer&utm_content=000026UJ&utm_term=10006555&utm_id=NA-SkillsNetwork-Channel-SkillsNetworkCoursesIBMDeveloperSkillsNetworkDB0201ENSkillsNetwork20127838-2021-01-01\n",
    "\n",
    "CHICAGO CRIME DATA \n",
    "\n",
    "https://cf-courses-data.s3.us.cloud-object-storage.appdomain.cloud/IBMDeveloperSkillsNetwork-DB0201EN-SkillsNetwork/labs/FinalModule_Coursera_V5/data/ChicagoCrimeData.csv?utm_medium=Exinfluencer&utm_source=Exinfluencer&utm_content=000026UJ&utm_term=10006555&utm_id=NA-SkillsNetwork-Channel-SkillsNetworkCoursesIBMDeveloperSkillsNetworkDB0201ENSkillsNetwork20127838-2021-01-01\n",
    "\n"
   ]
  },
  {
   "cell_type": "markdown",
   "id": "a0246d17",
   "metadata": {
    "papermill": {
     "duration": 0.018818,
     "end_time": "2024-05-26T20:51:37.086982",
     "exception": false,
     "start_time": "2024-05-26T20:51:37.068164",
     "status": "completed"
    },
    "tags": []
   },
   "source": [
    "LOAD ```pandas``` and `sqlite3` libraries"
   ]
  },
  {
   "cell_type": "code",
   "execution_count": 1,
   "id": "883ba33f",
   "metadata": {
    "execution": {
     "iopub.execute_input": "2024-05-26T20:51:37.125928Z",
     "iopub.status.busy": "2024-05-26T20:51:37.125507Z",
     "iopub.status.idle": "2024-05-26T20:51:38.158370Z",
     "shell.execute_reply": "2024-05-26T20:51:38.157023Z"
    },
    "papermill": {
     "duration": 1.055605,
     "end_time": "2024-05-26T20:51:38.161266",
     "exception": false,
     "start_time": "2024-05-26T20:51:37.105661",
     "status": "completed"
    },
    "tags": []
   },
   "outputs": [],
   "source": [
    "import pandas as pd \n",
    "import csv, sqlite3"
   ]
  },
  {
   "cell_type": "markdown",
   "id": "80f291b4",
   "metadata": {
    "papermill": {
     "duration": 0.018277,
     "end_time": "2024-05-26T20:51:38.198165",
     "exception": false,
     "start_time": "2024-05-26T20:51:38.179888",
     "status": "completed"
    },
    "tags": []
   },
   "source": [
    "ESTABLISH A CONNECTION TO DATABASE"
   ]
  },
  {
   "cell_type": "code",
   "execution_count": 2,
   "id": "52fec895",
   "metadata": {
    "execution": {
     "iopub.execute_input": "2024-05-26T20:51:38.237021Z",
     "iopub.status.busy": "2024-05-26T20:51:38.236482Z",
     "iopub.status.idle": "2024-05-26T20:51:38.242406Z",
     "shell.execute_reply": "2024-05-26T20:51:38.241121Z"
    },
    "papermill": {
     "duration": 0.02835,
     "end_time": "2024-05-26T20:51:38.244848",
     "exception": false,
     "start_time": "2024-05-26T20:51:38.216498",
     "status": "completed"
    },
    "tags": []
   },
   "outputs": [],
   "source": [
    "con = sqlite3.connect(\"FinalDB.db\")\n",
    "cur = con.cursor()"
   ]
  },
  {
   "cell_type": "markdown",
   "id": "88d22d2a",
   "metadata": {
    "papermill": {
     "duration": 0.018104,
     "end_time": "2024-05-26T20:51:38.281335",
     "exception": false,
     "start_time": "2024-05-26T20:51:38.263231",
     "status": "completed"
    },
    "tags": []
   },
   "source": [
    "SQL MAGIC MODULE "
   ]
  },
  {
   "cell_type": "code",
   "execution_count": 3,
   "id": "4001caec",
   "metadata": {
    "execution": {
     "iopub.execute_input": "2024-05-26T20:51:38.321970Z",
     "iopub.status.busy": "2024-05-26T20:51:38.321519Z",
     "iopub.status.idle": "2024-05-26T20:51:39.194807Z",
     "shell.execute_reply": "2024-05-26T20:51:39.193660Z"
    },
    "papermill": {
     "duration": 0.897914,
     "end_time": "2024-05-26T20:51:39.197652",
     "exception": false,
     "start_time": "2024-05-26T20:51:38.299738",
     "status": "completed"
    },
    "tags": []
   },
   "outputs": [],
   "source": [
    "%load_ext sql"
   ]
  },
  {
   "cell_type": "markdown",
   "id": "445654bf",
   "metadata": {
    "papermill": {
     "duration": 0.01777,
     "end_time": "2024-05-26T20:51:39.233786",
     "exception": false,
     "start_time": "2024-05-26T20:51:39.216016",
     "status": "completed"
    },
    "tags": []
   },
   "source": [
    "LOAD THE DATA TO DATAFRAMES AND LOAD DATA TO DATABASE"
   ]
  },
  {
   "cell_type": "code",
   "execution_count": 4,
   "id": "c58286d2",
   "metadata": {
    "execution": {
     "iopub.execute_input": "2024-05-26T20:51:39.271980Z",
     "iopub.status.busy": "2024-05-26T20:51:39.271583Z",
     "iopub.status.idle": "2024-05-26T20:51:41.449544Z",
     "shell.execute_reply": "2024-05-26T20:51:41.448135Z"
    },
    "papermill": {
     "duration": 2.200513,
     "end_time": "2024-05-26T20:51:41.452436",
     "exception": false,
     "start_time": "2024-05-26T20:51:39.251923",
     "status": "completed"
    },
    "tags": []
   },
   "outputs": [
    {
     "data": {
      "text/plain": [
       "533"
      ]
     },
     "execution_count": 4,
     "metadata": {},
     "output_type": "execute_result"
    }
   ],
   "source": [
    "df = pd.read_csv(\"https://cf-courses-data.s3.us.cloud-object-storage.appdomain.cloud/IBMDeveloperSkillsNetwork-DB0201EN-SkillsNetwork/labs/FinalModule_Coursera_V5/data/ChicagoCensusData.csv?utm_medium=Exinfluencer&utm_source=Exinfluencer&utm_content=000026UJ&utm_term=10006555&utm_id=NA-SkillsNetwork-Channel-SkillsNetworkCoursesIBMDeveloperSkillsNetworkDB0201ENSkillsNetwork20127838-2021-01-01\")\n",
    "df.to_sql(\"CENSUS_DATA\", con, if_exists='replace', index=False,method=\"multi\")\n",
    "\n",
    "df = pd.read_csv(\"https://cf-courses-data.s3.us.cloud-object-storage.appdomain.cloud/IBMDeveloperSkillsNetwork-DB0201EN-SkillsNetwork/labs/FinalModule_Coursera_V5/data/ChicagoPublicSchools.csv?utm_medium=Exinfluencer&utm_source=Exinfluencer&utm_content=000026UJ&utm_term=10006555&utm_id=NA-SkillsNetwork-Channel-SkillsNetworkCoursesIBMDeveloperSkillsNetworkDB0201ENSkillsNetwork20127838-2021-01-01\")\n",
    "df.to_sql(\"CHICAGO_PUBLIC_SCHOOLS_DATA\", con, if_exists='replace', index=False,method=\"multi\")\n",
    "\n",
    "df = pd.read_csv(\"https://cf-courses-data.s3.us.cloud-object-storage.appdomain.cloud/IBMDeveloperSkillsNetwork-DB0201EN-SkillsNetwork/labs/FinalModule_Coursera_V5/data/ChicagoCrimeData.csv?utm_medium=Exinfluencer&utm_source=Exinfluencer&utm_content=000026UJ&utm_term=10006555&utm_id=NA-SkillsNetwork-Channel-SkillsNetworkCoursesIBMDeveloperSkillsNetworkDB0201ENSkillsNetwork20127838-2021-01-01\")\n",
    "df.to_sql(\"CHICAGO_CRIME_DATA\", con, if_exists='replace', index=False,method=\"multi\")"
   ]
  },
  {
   "cell_type": "code",
   "execution_count": 5,
   "id": "95fedb0f",
   "metadata": {
    "execution": {
     "iopub.execute_input": "2024-05-26T20:51:41.491521Z",
     "iopub.status.busy": "2024-05-26T20:51:41.491116Z",
     "iopub.status.idle": "2024-05-26T20:51:41.539860Z",
     "shell.execute_reply": "2024-05-26T20:51:41.538575Z"
    },
    "papermill": {
     "duration": 0.071804,
     "end_time": "2024-05-26T20:51:41.542943",
     "exception": false,
     "start_time": "2024-05-26T20:51:41.471139",
     "status": "completed"
    },
    "tags": []
   },
   "outputs": [],
   "source": [
    "%sql sqlite:///FinalDB.db"
   ]
  },
  {
   "cell_type": "markdown",
   "id": "5c482b0b",
   "metadata": {
    "papermill": {
     "duration": 0.01813,
     "end_time": "2024-05-26T20:51:41.580019",
     "exception": false,
     "start_time": "2024-05-26T20:51:41.561889",
     "status": "completed"
    },
    "tags": []
   },
   "source": [
    "QUERY DATABASE TO CHECK IT WORKED "
   ]
  },
  {
   "cell_type": "code",
   "execution_count": 6,
   "id": "67e054c2",
   "metadata": {
    "execution": {
     "iopub.execute_input": "2024-05-26T20:51:41.619942Z",
     "iopub.status.busy": "2024-05-26T20:51:41.619511Z",
     "iopub.status.idle": "2024-05-26T20:51:41.641706Z",
     "shell.execute_reply": "2024-05-26T20:51:41.640342Z"
    },
    "papermill": {
     "duration": 0.045177,
     "end_time": "2024-05-26T20:51:41.644510",
     "exception": false,
     "start_time": "2024-05-26T20:51:41.599333",
     "status": "completed"
    },
    "tags": []
   },
   "outputs": [
    {
     "name": "stdout",
     "output_type": "stream",
     "text": [
      " * sqlite:///FinalDB.db\n",
      "Done.\n"
     ]
    },
    {
     "data": {
      "text/html": [
       "<table>\n",
       "    <thead>\n",
       "        <tr>\n",
       "            <th>name</th>\n",
       "        </tr>\n",
       "    </thead>\n",
       "    <tbody>\n",
       "        <tr>\n",
       "            <td>CENSUS_DATA</td>\n",
       "        </tr>\n",
       "        <tr>\n",
       "            <td>CHICAGO_PUBLIC_SCHOOLS_DATA</td>\n",
       "        </tr>\n",
       "        <tr>\n",
       "            <td>CHICAGO_CRIME_DATA</td>\n",
       "        </tr>\n",
       "    </tbody>\n",
       "</table>"
      ],
      "text/plain": [
       "[('CENSUS_DATA',), ('CHICAGO_PUBLIC_SCHOOLS_DATA',), ('CHICAGO_CRIME_DATA',)]"
      ]
     },
     "execution_count": 6,
     "metadata": {},
     "output_type": "execute_result"
    }
   ],
   "source": [
    "%sql SELECT name FROM sqlite_master WHERE type='table'"
   ]
  },
  {
   "cell_type": "markdown",
   "id": "c37d9192",
   "metadata": {
    "papermill": {
     "duration": 0.018598,
     "end_time": "2024-05-26T20:51:41.682299",
     "exception": false,
     "start_time": "2024-05-26T20:51:41.663701",
     "status": "completed"
    },
    "tags": []
   },
   "source": [
    "### Q1: HOW MANY ROWS ARE IN THE DATASETS? ###"
   ]
  },
  {
   "cell_type": "code",
   "execution_count": 7,
   "id": "4c80f70a",
   "metadata": {
    "execution": {
     "iopub.execute_input": "2024-05-26T20:51:41.723434Z",
     "iopub.status.busy": "2024-05-26T20:51:41.722991Z",
     "iopub.status.idle": "2024-05-26T20:51:41.732860Z",
     "shell.execute_reply": "2024-05-26T20:51:41.731703Z"
    },
    "papermill": {
     "duration": 0.03504,
     "end_time": "2024-05-26T20:51:41.736497",
     "exception": false,
     "start_time": "2024-05-26T20:51:41.701457",
     "status": "completed"
    },
    "tags": []
   },
   "outputs": [
    {
     "name": "stdout",
     "output_type": "stream",
     "text": [
      " * sqlite:///FinalDB.db\n",
      "Done.\n"
     ]
    },
    {
     "data": {
      "text/html": [
       "<table>\n",
       "    <thead>\n",
       "        <tr>\n",
       "            <th>COUNT(0)</th>\n",
       "        </tr>\n",
       "    </thead>\n",
       "    <tbody>\n",
       "        <tr>\n",
       "            <td>78</td>\n",
       "        </tr>\n",
       "    </tbody>\n",
       "</table>"
      ],
      "text/plain": [
       "[(78,)]"
      ]
     },
     "execution_count": 7,
     "metadata": {},
     "output_type": "execute_result"
    }
   ],
   "source": [
    "%sql SELECT COUNT(0) from CENSUS_DATA;"
   ]
  },
  {
   "cell_type": "code",
   "execution_count": 8,
   "id": "abb7f1e2",
   "metadata": {
    "execution": {
     "iopub.execute_input": "2024-05-26T20:51:41.783125Z",
     "iopub.status.busy": "2024-05-26T20:51:41.782687Z",
     "iopub.status.idle": "2024-05-26T20:51:41.796484Z",
     "shell.execute_reply": "2024-05-26T20:51:41.795116Z"
    },
    "papermill": {
     "duration": 0.041751,
     "end_time": "2024-05-26T20:51:41.800022",
     "exception": false,
     "start_time": "2024-05-26T20:51:41.758271",
     "status": "completed"
    },
    "tags": []
   },
   "outputs": [
    {
     "name": "stdout",
     "output_type": "stream",
     "text": [
      " * sqlite:///FinalDB.db\n",
      "Done.\n"
     ]
    },
    {
     "data": {
      "text/html": [
       "<table>\n",
       "    <thead>\n",
       "        <tr>\n",
       "            <th>COUNT(*)</th>\n",
       "        </tr>\n",
       "    </thead>\n",
       "    <tbody>\n",
       "        <tr>\n",
       "            <td>566</td>\n",
       "        </tr>\n",
       "    </tbody>\n",
       "</table>"
      ],
      "text/plain": [
       "[(566,)]"
      ]
     },
     "execution_count": 8,
     "metadata": {},
     "output_type": "execute_result"
    }
   ],
   "source": [
    "%sql SELECT COUNT(*) from CHICAGO_PUBLIC_SCHOOLS_DATA;"
   ]
  },
  {
   "cell_type": "code",
   "execution_count": 9,
   "id": "912ff6a5",
   "metadata": {
    "execution": {
     "iopub.execute_input": "2024-05-26T20:51:41.848319Z",
     "iopub.status.busy": "2024-05-26T20:51:41.847236Z",
     "iopub.status.idle": "2024-05-26T20:51:41.857978Z",
     "shell.execute_reply": "2024-05-26T20:51:41.856630Z"
    },
    "papermill": {
     "duration": 0.034622,
     "end_time": "2024-05-26T20:51:41.860572",
     "exception": false,
     "start_time": "2024-05-26T20:51:41.825950",
     "status": "completed"
    },
    "tags": []
   },
   "outputs": [
    {
     "name": "stdout",
     "output_type": "stream",
     "text": [
      " * sqlite:///FinalDB.db\n",
      "Done.\n"
     ]
    },
    {
     "data": {
      "text/html": [
       "<table>\n",
       "    <thead>\n",
       "        <tr>\n",
       "            <th>COUNT(*)</th>\n",
       "        </tr>\n",
       "    </thead>\n",
       "    <tbody>\n",
       "        <tr>\n",
       "            <td>533</td>\n",
       "        </tr>\n",
       "    </tbody>\n",
       "</table>"
      ],
      "text/plain": [
       "[(533,)]"
      ]
     },
     "execution_count": 9,
     "metadata": {},
     "output_type": "execute_result"
    }
   ],
   "source": [
    "%sql SELECT COUNT(*) from CHICAGO_CRIME_DATA; "
   ]
  },
  {
   "cell_type": "markdown",
   "id": "ad60a3b3",
   "metadata": {
    "papermill": {
     "duration": 0.019406,
     "end_time": "2024-05-26T20:51:41.899713",
     "exception": false,
     "start_time": "2024-05-26T20:51:41.880307",
     "status": "completed"
    },
    "tags": []
   },
   "source": [
    "### Q2 WHAT ARE THE COLUMNS, THEIR DATATYPE AND LENGTH?"
   ]
  },
  {
   "cell_type": "code",
   "execution_count": 10,
   "id": "7bf2e8f0",
   "metadata": {
    "execution": {
     "iopub.execute_input": "2024-05-26T20:51:41.954111Z",
     "iopub.status.busy": "2024-05-26T20:51:41.953676Z",
     "iopub.status.idle": "2024-05-26T20:51:41.968352Z",
     "shell.execute_reply": "2024-05-26T20:51:41.967501Z"
    },
    "papermill": {
     "duration": 0.045372,
     "end_time": "2024-05-26T20:51:41.971324",
     "exception": false,
     "start_time": "2024-05-26T20:51:41.925952",
     "status": "completed"
    },
    "tags": []
   },
   "outputs": [
    {
     "name": "stdout",
     "output_type": "stream",
     "text": [
      " * sqlite:///FinalDB.db\n",
      "Done.\n"
     ]
    },
    {
     "data": {
      "text/html": [
       "<table>\n",
       "    <thead>\n",
       "        <tr>\n",
       "            <th>name</th>\n",
       "            <th>type</th>\n",
       "            <th>length(type)</th>\n",
       "        </tr>\n",
       "    </thead>\n",
       "    <tbody>\n",
       "        <tr>\n",
       "            <td>COMMUNITY_AREA_NUMBER</td>\n",
       "            <td>REAL</td>\n",
       "            <td>4</td>\n",
       "        </tr>\n",
       "        <tr>\n",
       "            <td>COMMUNITY_AREA_NAME</td>\n",
       "            <td>TEXT</td>\n",
       "            <td>4</td>\n",
       "        </tr>\n",
       "        <tr>\n",
       "            <td>PERCENT_OF_HOUSING_CROWDED</td>\n",
       "            <td>REAL</td>\n",
       "            <td>4</td>\n",
       "        </tr>\n",
       "        <tr>\n",
       "            <td>PERCENT_HOUSEHOLDS_BELOW_POVERTY</td>\n",
       "            <td>REAL</td>\n",
       "            <td>4</td>\n",
       "        </tr>\n",
       "        <tr>\n",
       "            <td>PERCENT_AGED_16__UNEMPLOYED</td>\n",
       "            <td>REAL</td>\n",
       "            <td>4</td>\n",
       "        </tr>\n",
       "        <tr>\n",
       "            <td>PERCENT_AGED_25__WITHOUT_HIGH_SCHOOL_DIPLOMA</td>\n",
       "            <td>REAL</td>\n",
       "            <td>4</td>\n",
       "        </tr>\n",
       "        <tr>\n",
       "            <td>PERCENT_AGED_UNDER_18_OR_OVER_64</td>\n",
       "            <td>REAL</td>\n",
       "            <td>4</td>\n",
       "        </tr>\n",
       "        <tr>\n",
       "            <td>PER_CAPITA_INCOME</td>\n",
       "            <td>INTEGER</td>\n",
       "            <td>7</td>\n",
       "        </tr>\n",
       "        <tr>\n",
       "            <td>HARDSHIP_INDEX</td>\n",
       "            <td>REAL</td>\n",
       "            <td>4</td>\n",
       "        </tr>\n",
       "    </tbody>\n",
       "</table>"
      ],
      "text/plain": [
       "[('COMMUNITY_AREA_NUMBER', 'REAL', 4),\n",
       " ('COMMUNITY_AREA_NAME', 'TEXT', 4),\n",
       " ('PERCENT_OF_HOUSING_CROWDED', 'REAL', 4),\n",
       " ('PERCENT_HOUSEHOLDS_BELOW_POVERTY', 'REAL', 4),\n",
       " ('PERCENT_AGED_16__UNEMPLOYED', 'REAL', 4),\n",
       " ('PERCENT_AGED_25__WITHOUT_HIGH_SCHOOL_DIPLOMA', 'REAL', 4),\n",
       " ('PERCENT_AGED_UNDER_18_OR_OVER_64', 'REAL', 4),\n",
       " ('PER_CAPITA_INCOME', 'INTEGER', 7),\n",
       " ('HARDSHIP_INDEX', 'REAL', 4)]"
      ]
     },
     "execution_count": 10,
     "metadata": {},
     "output_type": "execute_result"
    }
   ],
   "source": [
    "%sql SELECT name,type,length(type) FROM PRAGMA_TABLE_INFO('CENSUS_DATA');"
   ]
  },
  {
   "cell_type": "code",
   "execution_count": 11,
   "id": "26c413ec",
   "metadata": {
    "execution": {
     "iopub.execute_input": "2024-05-26T20:51:42.033092Z",
     "iopub.status.busy": "2024-05-26T20:51:42.031848Z",
     "iopub.status.idle": "2024-05-26T20:51:42.052390Z",
     "shell.execute_reply": "2024-05-26T20:51:42.051113Z"
    },
    "papermill": {
     "duration": 0.051938,
     "end_time": "2024-05-26T20:51:42.055670",
     "exception": false,
     "start_time": "2024-05-26T20:51:42.003732",
     "status": "completed"
    },
    "tags": []
   },
   "outputs": [
    {
     "name": "stdout",
     "output_type": "stream",
     "text": [
      " * sqlite:///FinalDB.db\n",
      "Done.\n"
     ]
    },
    {
     "data": {
      "text/html": [
       "<table>\n",
       "    <thead>\n",
       "        <tr>\n",
       "            <th>name</th>\n",
       "            <th>type</th>\n",
       "            <th>length(type)</th>\n",
       "        </tr>\n",
       "    </thead>\n",
       "    <tbody>\n",
       "        <tr>\n",
       "            <td>School_ID</td>\n",
       "            <td>INTEGER</td>\n",
       "            <td>7</td>\n",
       "        </tr>\n",
       "        <tr>\n",
       "            <td>NAME_OF_SCHOOL</td>\n",
       "            <td>TEXT</td>\n",
       "            <td>4</td>\n",
       "        </tr>\n",
       "        <tr>\n",
       "            <td>Elementary, Middle, or High School</td>\n",
       "            <td>TEXT</td>\n",
       "            <td>4</td>\n",
       "        </tr>\n",
       "        <tr>\n",
       "            <td>Street_Address</td>\n",
       "            <td>TEXT</td>\n",
       "            <td>4</td>\n",
       "        </tr>\n",
       "        <tr>\n",
       "            <td>City</td>\n",
       "            <td>TEXT</td>\n",
       "            <td>4</td>\n",
       "        </tr>\n",
       "        <tr>\n",
       "            <td>State</td>\n",
       "            <td>TEXT</td>\n",
       "            <td>4</td>\n",
       "        </tr>\n",
       "        <tr>\n",
       "            <td>ZIP_Code</td>\n",
       "            <td>INTEGER</td>\n",
       "            <td>7</td>\n",
       "        </tr>\n",
       "        <tr>\n",
       "            <td>Phone_Number</td>\n",
       "            <td>TEXT</td>\n",
       "            <td>4</td>\n",
       "        </tr>\n",
       "        <tr>\n",
       "            <td>Link</td>\n",
       "            <td>TEXT</td>\n",
       "            <td>4</td>\n",
       "        </tr>\n",
       "        <tr>\n",
       "            <td>Network_Manager</td>\n",
       "            <td>TEXT</td>\n",
       "            <td>4</td>\n",
       "        </tr>\n",
       "        <tr>\n",
       "            <td>Collaborative_Name</td>\n",
       "            <td>TEXT</td>\n",
       "            <td>4</td>\n",
       "        </tr>\n",
       "        <tr>\n",
       "            <td>Adequate_Yearly_Progress_Made_</td>\n",
       "            <td>TEXT</td>\n",
       "            <td>4</td>\n",
       "        </tr>\n",
       "        <tr>\n",
       "            <td>Track_Schedule</td>\n",
       "            <td>TEXT</td>\n",
       "            <td>4</td>\n",
       "        </tr>\n",
       "        <tr>\n",
       "            <td>CPS_Performance_Policy_Status</td>\n",
       "            <td>TEXT</td>\n",
       "            <td>4</td>\n",
       "        </tr>\n",
       "        <tr>\n",
       "            <td>CPS_Performance_Policy_Level</td>\n",
       "            <td>TEXT</td>\n",
       "            <td>4</td>\n",
       "        </tr>\n",
       "        <tr>\n",
       "            <td>HEALTHY_SCHOOL_CERTIFIED</td>\n",
       "            <td>TEXT</td>\n",
       "            <td>4</td>\n",
       "        </tr>\n",
       "        <tr>\n",
       "            <td>Safety_Icon</td>\n",
       "            <td>TEXT</td>\n",
       "            <td>4</td>\n",
       "        </tr>\n",
       "        <tr>\n",
       "            <td>SAFETY_SCORE</td>\n",
       "            <td>REAL</td>\n",
       "            <td>4</td>\n",
       "        </tr>\n",
       "        <tr>\n",
       "            <td>Family_Involvement_Icon</td>\n",
       "            <td>TEXT</td>\n",
       "            <td>4</td>\n",
       "        </tr>\n",
       "        <tr>\n",
       "            <td>Family_Involvement_Score</td>\n",
       "            <td>TEXT</td>\n",
       "            <td>4</td>\n",
       "        </tr>\n",
       "        <tr>\n",
       "            <td>Environment_Icon</td>\n",
       "            <td>TEXT</td>\n",
       "            <td>4</td>\n",
       "        </tr>\n",
       "        <tr>\n",
       "            <td>Environment_Score</td>\n",
       "            <td>REAL</td>\n",
       "            <td>4</td>\n",
       "        </tr>\n",
       "        <tr>\n",
       "            <td>Instruction_Icon</td>\n",
       "            <td>TEXT</td>\n",
       "            <td>4</td>\n",
       "        </tr>\n",
       "        <tr>\n",
       "            <td>Instruction_Score</td>\n",
       "            <td>REAL</td>\n",
       "            <td>4</td>\n",
       "        </tr>\n",
       "        <tr>\n",
       "            <td>Leaders_Icon</td>\n",
       "            <td>TEXT</td>\n",
       "            <td>4</td>\n",
       "        </tr>\n",
       "        <tr>\n",
       "            <td>Leaders_Score</td>\n",
       "            <td>TEXT</td>\n",
       "            <td>4</td>\n",
       "        </tr>\n",
       "        <tr>\n",
       "            <td>Teachers_Icon</td>\n",
       "            <td>TEXT</td>\n",
       "            <td>4</td>\n",
       "        </tr>\n",
       "        <tr>\n",
       "            <td>Teachers_Score</td>\n",
       "            <td>TEXT</td>\n",
       "            <td>4</td>\n",
       "        </tr>\n",
       "        <tr>\n",
       "            <td>Parent_Engagement_Icon</td>\n",
       "            <td>TEXT</td>\n",
       "            <td>4</td>\n",
       "        </tr>\n",
       "        <tr>\n",
       "            <td>Parent_Engagement_Score</td>\n",
       "            <td>TEXT</td>\n",
       "            <td>4</td>\n",
       "        </tr>\n",
       "        <tr>\n",
       "            <td>Parent_Environment_Icon</td>\n",
       "            <td>TEXT</td>\n",
       "            <td>4</td>\n",
       "        </tr>\n",
       "        <tr>\n",
       "            <td>Parent_Environment_Score</td>\n",
       "            <td>TEXT</td>\n",
       "            <td>4</td>\n",
       "        </tr>\n",
       "        <tr>\n",
       "            <td>AVERAGE_STUDENT_ATTENDANCE</td>\n",
       "            <td>TEXT</td>\n",
       "            <td>4</td>\n",
       "        </tr>\n",
       "        <tr>\n",
       "            <td>Rate_of_Misconducts__per_100_students_</td>\n",
       "            <td>REAL</td>\n",
       "            <td>4</td>\n",
       "        </tr>\n",
       "        <tr>\n",
       "            <td>Average_Teacher_Attendance</td>\n",
       "            <td>TEXT</td>\n",
       "            <td>4</td>\n",
       "        </tr>\n",
       "        <tr>\n",
       "            <td>Individualized_Education_Program_Compliance_Rate</td>\n",
       "            <td>TEXT</td>\n",
       "            <td>4</td>\n",
       "        </tr>\n",
       "        <tr>\n",
       "            <td>Pk_2_Literacy__</td>\n",
       "            <td>TEXT</td>\n",
       "            <td>4</td>\n",
       "        </tr>\n",
       "        <tr>\n",
       "            <td>Pk_2_Math__</td>\n",
       "            <td>TEXT</td>\n",
       "            <td>4</td>\n",
       "        </tr>\n",
       "        <tr>\n",
       "            <td>Gr3_5_Grade_Level_Math__</td>\n",
       "            <td>TEXT</td>\n",
       "            <td>4</td>\n",
       "        </tr>\n",
       "        <tr>\n",
       "            <td>Gr3_5_Grade_Level_Read__</td>\n",
       "            <td>TEXT</td>\n",
       "            <td>4</td>\n",
       "        </tr>\n",
       "        <tr>\n",
       "            <td>Gr3_5_Keep_Pace_Read__</td>\n",
       "            <td>TEXT</td>\n",
       "            <td>4</td>\n",
       "        </tr>\n",
       "        <tr>\n",
       "            <td>Gr3_5_Keep_Pace_Math__</td>\n",
       "            <td>TEXT</td>\n",
       "            <td>4</td>\n",
       "        </tr>\n",
       "        <tr>\n",
       "            <td>Gr6_8_Grade_Level_Math__</td>\n",
       "            <td>TEXT</td>\n",
       "            <td>4</td>\n",
       "        </tr>\n",
       "        <tr>\n",
       "            <td>Gr6_8_Grade_Level_Read__</td>\n",
       "            <td>TEXT</td>\n",
       "            <td>4</td>\n",
       "        </tr>\n",
       "        <tr>\n",
       "            <td>Gr6_8_Keep_Pace_Math_</td>\n",
       "            <td>TEXT</td>\n",
       "            <td>4</td>\n",
       "        </tr>\n",
       "        <tr>\n",
       "            <td>Gr6_8_Keep_Pace_Read__</td>\n",
       "            <td>TEXT</td>\n",
       "            <td>4</td>\n",
       "        </tr>\n",
       "        <tr>\n",
       "            <td>Gr_8_Explore_Math__</td>\n",
       "            <td>TEXT</td>\n",
       "            <td>4</td>\n",
       "        </tr>\n",
       "        <tr>\n",
       "            <td>Gr_8_Explore_Read__</td>\n",
       "            <td>TEXT</td>\n",
       "            <td>4</td>\n",
       "        </tr>\n",
       "        <tr>\n",
       "            <td>ISAT_Exceeding_Math__</td>\n",
       "            <td>REAL</td>\n",
       "            <td>4</td>\n",
       "        </tr>\n",
       "        <tr>\n",
       "            <td>ISAT_Exceeding_Reading__</td>\n",
       "            <td>REAL</td>\n",
       "            <td>4</td>\n",
       "        </tr>\n",
       "        <tr>\n",
       "            <td>ISAT_Value_Add_Math</td>\n",
       "            <td>REAL</td>\n",
       "            <td>4</td>\n",
       "        </tr>\n",
       "        <tr>\n",
       "            <td>ISAT_Value_Add_Read</td>\n",
       "            <td>REAL</td>\n",
       "            <td>4</td>\n",
       "        </tr>\n",
       "        <tr>\n",
       "            <td>ISAT_Value_Add_Color_Math</td>\n",
       "            <td>TEXT</td>\n",
       "            <td>4</td>\n",
       "        </tr>\n",
       "        <tr>\n",
       "            <td>ISAT_Value_Add_Color_Read</td>\n",
       "            <td>TEXT</td>\n",
       "            <td>4</td>\n",
       "        </tr>\n",
       "        <tr>\n",
       "            <td>Students_Taking__Algebra__</td>\n",
       "            <td>TEXT</td>\n",
       "            <td>4</td>\n",
       "        </tr>\n",
       "        <tr>\n",
       "            <td>Students_Passing__Algebra__</td>\n",
       "            <td>TEXT</td>\n",
       "            <td>4</td>\n",
       "        </tr>\n",
       "        <tr>\n",
       "            <td>9th Grade EXPLORE (2009)</td>\n",
       "            <td>TEXT</td>\n",
       "            <td>4</td>\n",
       "        </tr>\n",
       "        <tr>\n",
       "            <td>9th Grade EXPLORE (2010)</td>\n",
       "            <td>TEXT</td>\n",
       "            <td>4</td>\n",
       "        </tr>\n",
       "        <tr>\n",
       "            <td>10th Grade PLAN (2009)</td>\n",
       "            <td>TEXT</td>\n",
       "            <td>4</td>\n",
       "        </tr>\n",
       "        <tr>\n",
       "            <td>10th Grade PLAN (2010)</td>\n",
       "            <td>TEXT</td>\n",
       "            <td>4</td>\n",
       "        </tr>\n",
       "        <tr>\n",
       "            <td>Net_Change_EXPLORE_and_PLAN</td>\n",
       "            <td>TEXT</td>\n",
       "            <td>4</td>\n",
       "        </tr>\n",
       "        <tr>\n",
       "            <td>11th Grade Average ACT (2011)</td>\n",
       "            <td>TEXT</td>\n",
       "            <td>4</td>\n",
       "        </tr>\n",
       "        <tr>\n",
       "            <td>Net_Change_PLAN_and_ACT</td>\n",
       "            <td>TEXT</td>\n",
       "            <td>4</td>\n",
       "        </tr>\n",
       "        <tr>\n",
       "            <td>College_Eligibility__</td>\n",
       "            <td>TEXT</td>\n",
       "            <td>4</td>\n",
       "        </tr>\n",
       "        <tr>\n",
       "            <td>Graduation_Rate__</td>\n",
       "            <td>TEXT</td>\n",
       "            <td>4</td>\n",
       "        </tr>\n",
       "        <tr>\n",
       "            <td>College_Enrollment_Rate__</td>\n",
       "            <td>TEXT</td>\n",
       "            <td>4</td>\n",
       "        </tr>\n",
       "        <tr>\n",
       "            <td>COLLEGE_ENROLLMENT</td>\n",
       "            <td>INTEGER</td>\n",
       "            <td>7</td>\n",
       "        </tr>\n",
       "        <tr>\n",
       "            <td>General_Services_Route</td>\n",
       "            <td>INTEGER</td>\n",
       "            <td>7</td>\n",
       "        </tr>\n",
       "        <tr>\n",
       "            <td>Freshman_on_Track_Rate__</td>\n",
       "            <td>TEXT</td>\n",
       "            <td>4</td>\n",
       "        </tr>\n",
       "        <tr>\n",
       "            <td>X_COORDINATE</td>\n",
       "            <td>REAL</td>\n",
       "            <td>4</td>\n",
       "        </tr>\n",
       "        <tr>\n",
       "            <td>Y_COORDINATE</td>\n",
       "            <td>REAL</td>\n",
       "            <td>4</td>\n",
       "        </tr>\n",
       "        <tr>\n",
       "            <td>Latitude</td>\n",
       "            <td>REAL</td>\n",
       "            <td>4</td>\n",
       "        </tr>\n",
       "        <tr>\n",
       "            <td>Longitude</td>\n",
       "            <td>REAL</td>\n",
       "            <td>4</td>\n",
       "        </tr>\n",
       "        <tr>\n",
       "            <td>COMMUNITY_AREA_NUMBER</td>\n",
       "            <td>INTEGER</td>\n",
       "            <td>7</td>\n",
       "        </tr>\n",
       "        <tr>\n",
       "            <td>COMMUNITY_AREA_NAME</td>\n",
       "            <td>TEXT</td>\n",
       "            <td>4</td>\n",
       "        </tr>\n",
       "        <tr>\n",
       "            <td>Ward</td>\n",
       "            <td>INTEGER</td>\n",
       "            <td>7</td>\n",
       "        </tr>\n",
       "        <tr>\n",
       "            <td>Police_District</td>\n",
       "            <td>INTEGER</td>\n",
       "            <td>7</td>\n",
       "        </tr>\n",
       "        <tr>\n",
       "            <td>Location</td>\n",
       "            <td>TEXT</td>\n",
       "            <td>4</td>\n",
       "        </tr>\n",
       "    </tbody>\n",
       "</table>"
      ],
      "text/plain": [
       "[('School_ID', 'INTEGER', 7),\n",
       " ('NAME_OF_SCHOOL', 'TEXT', 4),\n",
       " ('Elementary, Middle, or High School', 'TEXT', 4),\n",
       " ('Street_Address', 'TEXT', 4),\n",
       " ('City', 'TEXT', 4),\n",
       " ('State', 'TEXT', 4),\n",
       " ('ZIP_Code', 'INTEGER', 7),\n",
       " ('Phone_Number', 'TEXT', 4),\n",
       " ('Link', 'TEXT', 4),\n",
       " ('Network_Manager', 'TEXT', 4),\n",
       " ('Collaborative_Name', 'TEXT', 4),\n",
       " ('Adequate_Yearly_Progress_Made_', 'TEXT', 4),\n",
       " ('Track_Schedule', 'TEXT', 4),\n",
       " ('CPS_Performance_Policy_Status', 'TEXT', 4),\n",
       " ('CPS_Performance_Policy_Level', 'TEXT', 4),\n",
       " ('HEALTHY_SCHOOL_CERTIFIED', 'TEXT', 4),\n",
       " ('Safety_Icon', 'TEXT', 4),\n",
       " ('SAFETY_SCORE', 'REAL', 4),\n",
       " ('Family_Involvement_Icon', 'TEXT', 4),\n",
       " ('Family_Involvement_Score', 'TEXT', 4),\n",
       " ('Environment_Icon', 'TEXT', 4),\n",
       " ('Environment_Score', 'REAL', 4),\n",
       " ('Instruction_Icon', 'TEXT', 4),\n",
       " ('Instruction_Score', 'REAL', 4),\n",
       " ('Leaders_Icon', 'TEXT', 4),\n",
       " ('Leaders_Score', 'TEXT', 4),\n",
       " ('Teachers_Icon', 'TEXT', 4),\n",
       " ('Teachers_Score', 'TEXT', 4),\n",
       " ('Parent_Engagement_Icon', 'TEXT', 4),\n",
       " ('Parent_Engagement_Score', 'TEXT', 4),\n",
       " ('Parent_Environment_Icon', 'TEXT', 4),\n",
       " ('Parent_Environment_Score', 'TEXT', 4),\n",
       " ('AVERAGE_STUDENT_ATTENDANCE', 'TEXT', 4),\n",
       " ('Rate_of_Misconducts__per_100_students_', 'REAL', 4),\n",
       " ('Average_Teacher_Attendance', 'TEXT', 4),\n",
       " ('Individualized_Education_Program_Compliance_Rate', 'TEXT', 4),\n",
       " ('Pk_2_Literacy__', 'TEXT', 4),\n",
       " ('Pk_2_Math__', 'TEXT', 4),\n",
       " ('Gr3_5_Grade_Level_Math__', 'TEXT', 4),\n",
       " ('Gr3_5_Grade_Level_Read__', 'TEXT', 4),\n",
       " ('Gr3_5_Keep_Pace_Read__', 'TEXT', 4),\n",
       " ('Gr3_5_Keep_Pace_Math__', 'TEXT', 4),\n",
       " ('Gr6_8_Grade_Level_Math__', 'TEXT', 4),\n",
       " ('Gr6_8_Grade_Level_Read__', 'TEXT', 4),\n",
       " ('Gr6_8_Keep_Pace_Math_', 'TEXT', 4),\n",
       " ('Gr6_8_Keep_Pace_Read__', 'TEXT', 4),\n",
       " ('Gr_8_Explore_Math__', 'TEXT', 4),\n",
       " ('Gr_8_Explore_Read__', 'TEXT', 4),\n",
       " ('ISAT_Exceeding_Math__', 'REAL', 4),\n",
       " ('ISAT_Exceeding_Reading__', 'REAL', 4),\n",
       " ('ISAT_Value_Add_Math', 'REAL', 4),\n",
       " ('ISAT_Value_Add_Read', 'REAL', 4),\n",
       " ('ISAT_Value_Add_Color_Math', 'TEXT', 4),\n",
       " ('ISAT_Value_Add_Color_Read', 'TEXT', 4),\n",
       " ('Students_Taking__Algebra__', 'TEXT', 4),\n",
       " ('Students_Passing__Algebra__', 'TEXT', 4),\n",
       " ('9th Grade EXPLORE (2009)', 'TEXT', 4),\n",
       " ('9th Grade EXPLORE (2010)', 'TEXT', 4),\n",
       " ('10th Grade PLAN (2009)', 'TEXT', 4),\n",
       " ('10th Grade PLAN (2010)', 'TEXT', 4),\n",
       " ('Net_Change_EXPLORE_and_PLAN', 'TEXT', 4),\n",
       " ('11th Grade Average ACT (2011)', 'TEXT', 4),\n",
       " ('Net_Change_PLAN_and_ACT', 'TEXT', 4),\n",
       " ('College_Eligibility__', 'TEXT', 4),\n",
       " ('Graduation_Rate__', 'TEXT', 4),\n",
       " ('College_Enrollment_Rate__', 'TEXT', 4),\n",
       " ('COLLEGE_ENROLLMENT', 'INTEGER', 7),\n",
       " ('General_Services_Route', 'INTEGER', 7),\n",
       " ('Freshman_on_Track_Rate__', 'TEXT', 4),\n",
       " ('X_COORDINATE', 'REAL', 4),\n",
       " ('Y_COORDINATE', 'REAL', 4),\n",
       " ('Latitude', 'REAL', 4),\n",
       " ('Longitude', 'REAL', 4),\n",
       " ('COMMUNITY_AREA_NUMBER', 'INTEGER', 7),\n",
       " ('COMMUNITY_AREA_NAME', 'TEXT', 4),\n",
       " ('Ward', 'INTEGER', 7),\n",
       " ('Police_District', 'INTEGER', 7),\n",
       " ('Location', 'TEXT', 4)]"
      ]
     },
     "execution_count": 11,
     "metadata": {},
     "output_type": "execute_result"
    }
   ],
   "source": [
    "%sql SELECT name,type,length(type) FROM PRAGMA_TABLE_INFO('CHICAGO_PUBLIC_SCHOOLS_DATA');"
   ]
  },
  {
   "cell_type": "code",
   "execution_count": 12,
   "id": "00461f83",
   "metadata": {
    "execution": {
     "iopub.execute_input": "2024-05-26T20:51:42.162578Z",
     "iopub.status.busy": "2024-05-26T20:51:42.162116Z",
     "iopub.status.idle": "2024-05-26T20:51:42.178368Z",
     "shell.execute_reply": "2024-05-26T20:51:42.176885Z"
    },
    "papermill": {
     "duration": 0.042262,
     "end_time": "2024-05-26T20:51:42.181790",
     "exception": false,
     "start_time": "2024-05-26T20:51:42.139528",
     "status": "completed"
    },
    "tags": []
   },
   "outputs": [
    {
     "name": "stdout",
     "output_type": "stream",
     "text": [
      " * sqlite:///FinalDB.db\n",
      "Done.\n"
     ]
    },
    {
     "data": {
      "text/html": [
       "<table>\n",
       "    <thead>\n",
       "        <tr>\n",
       "            <th>name</th>\n",
       "            <th>type</th>\n",
       "            <th>length(type)</th>\n",
       "        </tr>\n",
       "    </thead>\n",
       "    <tbody>\n",
       "        <tr>\n",
       "            <td>ID</td>\n",
       "            <td>INTEGER</td>\n",
       "            <td>7</td>\n",
       "        </tr>\n",
       "        <tr>\n",
       "            <td>CASE_NUMBER</td>\n",
       "            <td>TEXT</td>\n",
       "            <td>4</td>\n",
       "        </tr>\n",
       "        <tr>\n",
       "            <td>DATE</td>\n",
       "            <td>TEXT</td>\n",
       "            <td>4</td>\n",
       "        </tr>\n",
       "        <tr>\n",
       "            <td>BLOCK</td>\n",
       "            <td>TEXT</td>\n",
       "            <td>4</td>\n",
       "        </tr>\n",
       "        <tr>\n",
       "            <td>IUCR</td>\n",
       "            <td>TEXT</td>\n",
       "            <td>4</td>\n",
       "        </tr>\n",
       "        <tr>\n",
       "            <td>PRIMARY_TYPE</td>\n",
       "            <td>TEXT</td>\n",
       "            <td>4</td>\n",
       "        </tr>\n",
       "        <tr>\n",
       "            <td>DESCRIPTION</td>\n",
       "            <td>TEXT</td>\n",
       "            <td>4</td>\n",
       "        </tr>\n",
       "        <tr>\n",
       "            <td>LOCATION_DESCRIPTION</td>\n",
       "            <td>TEXT</td>\n",
       "            <td>4</td>\n",
       "        </tr>\n",
       "        <tr>\n",
       "            <td>ARREST</td>\n",
       "            <td>INTEGER</td>\n",
       "            <td>7</td>\n",
       "        </tr>\n",
       "        <tr>\n",
       "            <td>DOMESTIC</td>\n",
       "            <td>INTEGER</td>\n",
       "            <td>7</td>\n",
       "        </tr>\n",
       "        <tr>\n",
       "            <td>BEAT</td>\n",
       "            <td>INTEGER</td>\n",
       "            <td>7</td>\n",
       "        </tr>\n",
       "        <tr>\n",
       "            <td>DISTRICT</td>\n",
       "            <td>INTEGER</td>\n",
       "            <td>7</td>\n",
       "        </tr>\n",
       "        <tr>\n",
       "            <td>WARD</td>\n",
       "            <td>REAL</td>\n",
       "            <td>4</td>\n",
       "        </tr>\n",
       "        <tr>\n",
       "            <td>COMMUNITY_AREA_NUMBER</td>\n",
       "            <td>REAL</td>\n",
       "            <td>4</td>\n",
       "        </tr>\n",
       "        <tr>\n",
       "            <td>FBICODE</td>\n",
       "            <td>TEXT</td>\n",
       "            <td>4</td>\n",
       "        </tr>\n",
       "        <tr>\n",
       "            <td>X_COORDINATE</td>\n",
       "            <td>REAL</td>\n",
       "            <td>4</td>\n",
       "        </tr>\n",
       "        <tr>\n",
       "            <td>Y_COORDINATE</td>\n",
       "            <td>REAL</td>\n",
       "            <td>4</td>\n",
       "        </tr>\n",
       "        <tr>\n",
       "            <td>YEAR</td>\n",
       "            <td>INTEGER</td>\n",
       "            <td>7</td>\n",
       "        </tr>\n",
       "        <tr>\n",
       "            <td>LATITUDE</td>\n",
       "            <td>REAL</td>\n",
       "            <td>4</td>\n",
       "        </tr>\n",
       "        <tr>\n",
       "            <td>LONGITUDE</td>\n",
       "            <td>REAL</td>\n",
       "            <td>4</td>\n",
       "        </tr>\n",
       "        <tr>\n",
       "            <td>LOCATION</td>\n",
       "            <td>TEXT</td>\n",
       "            <td>4</td>\n",
       "        </tr>\n",
       "    </tbody>\n",
       "</table>"
      ],
      "text/plain": [
       "[('ID', 'INTEGER', 7),\n",
       " ('CASE_NUMBER', 'TEXT', 4),\n",
       " ('DATE', 'TEXT', 4),\n",
       " ('BLOCK', 'TEXT', 4),\n",
       " ('IUCR', 'TEXT', 4),\n",
       " ('PRIMARY_TYPE', 'TEXT', 4),\n",
       " ('DESCRIPTION', 'TEXT', 4),\n",
       " ('LOCATION_DESCRIPTION', 'TEXT', 4),\n",
       " ('ARREST', 'INTEGER', 7),\n",
       " ('DOMESTIC', 'INTEGER', 7),\n",
       " ('BEAT', 'INTEGER', 7),\n",
       " ('DISTRICT', 'INTEGER', 7),\n",
       " ('WARD', 'REAL', 4),\n",
       " ('COMMUNITY_AREA_NUMBER', 'REAL', 4),\n",
       " ('FBICODE', 'TEXT', 4),\n",
       " ('X_COORDINATE', 'REAL', 4),\n",
       " ('Y_COORDINATE', 'REAL', 4),\n",
       " ('YEAR', 'INTEGER', 7),\n",
       " ('LATITUDE', 'REAL', 4),\n",
       " ('LONGITUDE', 'REAL', 4),\n",
       " ('LOCATION', 'TEXT', 4)]"
      ]
     },
     "execution_count": 12,
     "metadata": {},
     "output_type": "execute_result"
    }
   ],
   "source": [
    "%sql SELECT name,type,length(type) FROM PRAGMA_TABLE_INFO('CHICAGO_CRIME_DATA');"
   ]
  },
  {
   "cell_type": "markdown",
   "id": "01c67fad",
   "metadata": {
    "papermill": {
     "duration": 0.021613,
     "end_time": "2024-05-26T20:51:42.228587",
     "exception": false,
     "start_time": "2024-05-26T20:51:42.206974",
     "status": "completed"
    },
    "tags": []
   },
   "source": [
    "### Q3 HOW MANY COMMUNITY AREAS IN CHICAGO HAVE A HARDSHIP INDEX GREATER THAN 50?"
   ]
  },
  {
   "cell_type": "code",
   "execution_count": 13,
   "id": "41860bc0",
   "metadata": {
    "execution": {
     "iopub.execute_input": "2024-05-26T20:51:42.277929Z",
     "iopub.status.busy": "2024-05-26T20:51:42.277469Z",
     "iopub.status.idle": "2024-05-26T20:51:42.288510Z",
     "shell.execute_reply": "2024-05-26T20:51:42.287415Z"
    },
    "papermill": {
     "duration": 0.037117,
     "end_time": "2024-05-26T20:51:42.291237",
     "exception": false,
     "start_time": "2024-05-26T20:51:42.254120",
     "status": "completed"
    },
    "tags": []
   },
   "outputs": [
    {
     "name": "stdout",
     "output_type": "stream",
     "text": [
      " * sqlite:///FinalDB.db\n",
      "Done.\n"
     ]
    },
    {
     "data": {
      "text/html": [
       "<table>\n",
       "    <thead>\n",
       "        <tr>\n",
       "            <th>count(*)</th>\n",
       "        </tr>\n",
       "    </thead>\n",
       "    <tbody>\n",
       "        <tr>\n",
       "            <td>38</td>\n",
       "        </tr>\n",
       "    </tbody>\n",
       "</table>"
      ],
      "text/plain": [
       "[(38,)]"
      ]
     },
     "execution_count": 13,
     "metadata": {},
     "output_type": "execute_result"
    }
   ],
   "source": [
    "%sql select count(*) from census_data \\\n",
    "where hardship_index > 50;"
   ]
  },
  {
   "cell_type": "markdown",
   "id": "520ac1da",
   "metadata": {
    "papermill": {
     "duration": 0.021687,
     "end_time": "2024-05-26T20:51:42.335099",
     "exception": false,
     "start_time": "2024-05-26T20:51:42.313412",
     "status": "completed"
    },
    "tags": []
   },
   "source": [
    "### Q4 WHAT IS THE MAXIMUM VALUE OF HARDSHIP INDEX IN CENSUS DATA?"
   ]
  },
  {
   "cell_type": "code",
   "execution_count": 14,
   "id": "b26a45bf",
   "metadata": {
    "execution": {
     "iopub.execute_input": "2024-05-26T20:51:42.383051Z",
     "iopub.status.busy": "2024-05-26T20:51:42.382631Z",
     "iopub.status.idle": "2024-05-26T20:51:42.393903Z",
     "shell.execute_reply": "2024-05-26T20:51:42.392574Z"
    },
    "papermill": {
     "duration": 0.039816,
     "end_time": "2024-05-26T20:51:42.397619",
     "exception": false,
     "start_time": "2024-05-26T20:51:42.357803",
     "status": "completed"
    },
    "tags": []
   },
   "outputs": [
    {
     "name": "stdout",
     "output_type": "stream",
     "text": [
      " * sqlite:///FinalDB.db\n",
      "Done.\n"
     ]
    },
    {
     "data": {
      "text/html": [
       "<table>\n",
       "    <thead>\n",
       "        <tr>\n",
       "            <th>Max Hardship</th>\n",
       "        </tr>\n",
       "    </thead>\n",
       "    <tbody>\n",
       "        <tr>\n",
       "            <td>98.0</td>\n",
       "        </tr>\n",
       "    </tbody>\n",
       "</table>"
      ],
      "text/plain": [
       "[(98.0,)]"
      ]
     },
     "execution_count": 14,
     "metadata": {},
     "output_type": "execute_result"
    }
   ],
   "source": [
    "%sql select max(hardship_index) as \"Max Hardship\" from census_data;"
   ]
  },
  {
   "cell_type": "markdown",
   "id": "c22df264",
   "metadata": {
    "papermill": {
     "duration": 0.023338,
     "end_time": "2024-05-26T20:51:42.443138",
     "exception": false,
     "start_time": "2024-05-26T20:51:42.419800",
     "status": "completed"
    },
    "tags": []
   },
   "source": [
    "### Q5 WHICH COMMUNITY AREA HAS THE HIGHEST HARDSHIP INDEX?"
   ]
  },
  {
   "cell_type": "code",
   "execution_count": 15,
   "id": "4789d5a7",
   "metadata": {
    "execution": {
     "iopub.execute_input": "2024-05-26T20:51:42.489843Z",
     "iopub.status.busy": "2024-05-26T20:51:42.489004Z",
     "iopub.status.idle": "2024-05-26T20:51:42.499758Z",
     "shell.execute_reply": "2024-05-26T20:51:42.498552Z"
    },
    "papermill": {
     "duration": 0.03681,
     "end_time": "2024-05-26T20:51:42.502224",
     "exception": false,
     "start_time": "2024-05-26T20:51:42.465414",
     "status": "completed"
    },
    "tags": []
   },
   "outputs": [
    {
     "name": "stdout",
     "output_type": "stream",
     "text": [
      " * sqlite:///FinalDB.db\n",
      "Done.\n"
     ]
    },
    {
     "data": {
      "text/html": [
       "<table>\n",
       "    <thead>\n",
       "        <tr>\n",
       "            <th>COMMUNITY_AREA_NAME</th>\n",
       "        </tr>\n",
       "    </thead>\n",
       "    <tbody>\n",
       "        <tr>\n",
       "            <td>Riverdale</td>\n",
       "        </tr>\n",
       "    </tbody>\n",
       "</table>"
      ],
      "text/plain": [
       "[('Riverdale',)]"
      ]
     },
     "execution_count": 15,
     "metadata": {},
     "output_type": "execute_result"
    }
   ],
   "source": [
    "%sql SELECT community_area_name FROM census_data where hardship_index=98.0"
   ]
  },
  {
   "cell_type": "markdown",
   "id": "9d44fe3b",
   "metadata": {
    "papermill": {
     "duration": 0.022001,
     "end_time": "2024-05-26T20:51:42.546301",
     "exception": false,
     "start_time": "2024-05-26T20:51:42.524300",
     "status": "completed"
    },
    "tags": []
   },
   "source": [
    "### Q6 WHICH COMMUNITY AREAS HAVE PER CAPITA INCOMES GREATER THAN $60,000?"
   ]
  },
  {
   "cell_type": "code",
   "execution_count": 16,
   "id": "ac15dd48",
   "metadata": {
    "execution": {
     "iopub.execute_input": "2024-05-26T20:51:42.592573Z",
     "iopub.status.busy": "2024-05-26T20:51:42.592174Z",
     "iopub.status.idle": "2024-05-26T20:51:42.602664Z",
     "shell.execute_reply": "2024-05-26T20:51:42.601551Z"
    },
    "papermill": {
     "duration": 0.036559,
     "end_time": "2024-05-26T20:51:42.605098",
     "exception": false,
     "start_time": "2024-05-26T20:51:42.568539",
     "status": "completed"
    },
    "tags": []
   },
   "outputs": [
    {
     "name": "stdout",
     "output_type": "stream",
     "text": [
      " * sqlite:///FinalDB.db\n",
      "Done.\n"
     ]
    },
    {
     "data": {
      "text/html": [
       "<table>\n",
       "    <thead>\n",
       "        <tr>\n",
       "            <th>COMMUNITY_AREA_NAME</th>\n",
       "        </tr>\n",
       "    </thead>\n",
       "    <tbody>\n",
       "        <tr>\n",
       "            <td>Lake View</td>\n",
       "        </tr>\n",
       "        <tr>\n",
       "            <td>Lincoln Park</td>\n",
       "        </tr>\n",
       "        <tr>\n",
       "            <td>Near North Side</td>\n",
       "        </tr>\n",
       "        <tr>\n",
       "            <td>Loop</td>\n",
       "        </tr>\n",
       "    </tbody>\n",
       "</table>"
      ],
      "text/plain": [
       "[('Lake View',), ('Lincoln Park',), ('Near North Side',), ('Loop',)]"
      ]
     },
     "execution_count": 16,
     "metadata": {},
     "output_type": "execute_result"
    }
   ],
   "source": [
    "%sql SELECT community_area_name FROM census_data WHERE per_capita_income > 60000;"
   ]
  },
  {
   "cell_type": "markdown",
   "id": "5ff2cb7b",
   "metadata": {
    "papermill": {
     "duration": 0.022247,
     "end_time": "2024-05-26T20:51:42.649951",
     "exception": false,
     "start_time": "2024-05-26T20:51:42.627704",
     "status": "completed"
    },
    "tags": []
   },
   "source": [
    "### Q7 WHICH SCHOOLS HAVE THE HIGHEST SAFETY SCORE?"
   ]
  },
  {
   "cell_type": "code",
   "execution_count": 17,
   "id": "20cff59e",
   "metadata": {
    "execution": {
     "iopub.execute_input": "2024-05-26T20:51:42.697006Z",
     "iopub.status.busy": "2024-05-26T20:51:42.696620Z",
     "iopub.status.idle": "2024-05-26T20:51:42.709703Z",
     "shell.execute_reply": "2024-05-26T20:51:42.708510Z"
    },
    "papermill": {
     "duration": 0.039856,
     "end_time": "2024-05-26T20:51:42.712469",
     "exception": false,
     "start_time": "2024-05-26T20:51:42.672613",
     "status": "completed"
    },
    "tags": []
   },
   "outputs": [
    {
     "name": "stdout",
     "output_type": "stream",
     "text": [
      " * sqlite:///FinalDB.db\n",
      "Done.\n"
     ]
    },
    {
     "data": {
      "text/html": [
       "<table>\n",
       "    <thead>\n",
       "        <tr>\n",
       "            <th>NAME_OF_SCHOOL</th>\n",
       "            <th>SAFETY_SCORE</th>\n",
       "        </tr>\n",
       "    </thead>\n",
       "    <tbody>\n",
       "        <tr>\n",
       "            <td>Abraham Lincoln Elementary School</td>\n",
       "            <td>99.0</td>\n",
       "        </tr>\n",
       "        <tr>\n",
       "            <td>Alexander Graham Bell Elementary School</td>\n",
       "            <td>99.0</td>\n",
       "        </tr>\n",
       "        <tr>\n",
       "            <td>Annie Keller Elementary Gifted Magnet School</td>\n",
       "            <td>99.0</td>\n",
       "        </tr>\n",
       "        <tr>\n",
       "            <td>Augustus H Burley Elementary School</td>\n",
       "            <td>99.0</td>\n",
       "        </tr>\n",
       "        <tr>\n",
       "            <td>Edgar Allan Poe Elementary Classical School</td>\n",
       "            <td>99.0</td>\n",
       "        </tr>\n",
       "        <tr>\n",
       "            <td>Edgebrook Elementary School</td>\n",
       "            <td>99.0</td>\n",
       "        </tr>\n",
       "        <tr>\n",
       "            <td>Ellen Mitchell Elementary School</td>\n",
       "            <td>99.0</td>\n",
       "        </tr>\n",
       "        <tr>\n",
       "            <td>James E McDade Elementary Classical School</td>\n",
       "            <td>99.0</td>\n",
       "        </tr>\n",
       "        <tr>\n",
       "            <td>James G Blaine Elementary School</td>\n",
       "            <td>99.0</td>\n",
       "        </tr>\n",
       "        <tr>\n",
       "            <td>LaSalle Elementary Language Academy</td>\n",
       "            <td>99.0</td>\n",
       "        </tr>\n",
       "        <tr>\n",
       "            <td>Mary E Courtenay Elementary Language Arts Center</td>\n",
       "            <td>99.0</td>\n",
       "        </tr>\n",
       "        <tr>\n",
       "            <td>Northside College Preparatory High School</td>\n",
       "            <td>99.0</td>\n",
       "        </tr>\n",
       "        <tr>\n",
       "            <td>Northside Learning Center High School</td>\n",
       "            <td>99.0</td>\n",
       "        </tr>\n",
       "        <tr>\n",
       "            <td>Norwood Park Elementary School</td>\n",
       "            <td>99.0</td>\n",
       "        </tr>\n",
       "        <tr>\n",
       "            <td>Oriole Park Elementary School</td>\n",
       "            <td>99.0</td>\n",
       "        </tr>\n",
       "        <tr>\n",
       "            <td>Sauganash Elementary School</td>\n",
       "            <td>99.0</td>\n",
       "        </tr>\n",
       "        <tr>\n",
       "            <td>Stephen Decatur Classical Elementary School</td>\n",
       "            <td>99.0</td>\n",
       "        </tr>\n",
       "        <tr>\n",
       "            <td>Talman Elementary School</td>\n",
       "            <td>99.0</td>\n",
       "        </tr>\n",
       "        <tr>\n",
       "            <td>Wildwood Elementary School</td>\n",
       "            <td>99.0</td>\n",
       "        </tr>\n",
       "    </tbody>\n",
       "</table>"
      ],
      "text/plain": [
       "[('Abraham Lincoln Elementary School', 99.0),\n",
       " ('Alexander Graham Bell Elementary School', 99.0),\n",
       " ('Annie Keller Elementary Gifted Magnet School', 99.0),\n",
       " ('Augustus H Burley Elementary School', 99.0),\n",
       " ('Edgar Allan Poe Elementary Classical School', 99.0),\n",
       " ('Edgebrook Elementary School', 99.0),\n",
       " ('Ellen Mitchell Elementary School', 99.0),\n",
       " ('James E McDade Elementary Classical School', 99.0),\n",
       " ('James G Blaine Elementary School', 99.0),\n",
       " ('LaSalle Elementary Language Academy', 99.0),\n",
       " ('Mary E Courtenay Elementary Language Arts Center', 99.0),\n",
       " ('Northside College Preparatory High School', 99.0),\n",
       " ('Northside Learning Center High School', 99.0),\n",
       " ('Norwood Park Elementary School', 99.0),\n",
       " ('Oriole Park Elementary School', 99.0),\n",
       " ('Sauganash Elementary School', 99.0),\n",
       " ('Stephen Decatur Classical Elementary School', 99.0),\n",
       " ('Talman Elementary School', 99.0),\n",
       " ('Wildwood Elementary School', 99.0)]"
      ]
     },
     "execution_count": 17,
     "metadata": {},
     "output_type": "execute_result"
    }
   ],
   "source": [
    "%sql select Name_of_School, Safety_Score from CHICAGO_PUBLIC_SCHOOLS_DATA where \\\n",
    "  Safety_Score= (select MAX(Safety_Score) from CHICAGO_PUBLIC_SCHOOLS_DATA)"
   ]
  },
  {
   "cell_type": "markdown",
   "id": "9d759edf",
   "metadata": {
    "papermill": {
     "duration": 0.023089,
     "end_time": "2024-05-26T20:51:42.759258",
     "exception": false,
     "start_time": "2024-05-26T20:51:42.736169",
     "status": "completed"
    },
    "tags": []
   },
   "source": [
    "### Q8 WHAT ARE THE TOP 10 SCHOOLS WITH THE HIGHEST AVERAGE ATTENDANCE?"
   ]
  },
  {
   "cell_type": "code",
   "execution_count": 18,
   "id": "884009e5",
   "metadata": {
    "execution": {
     "iopub.execute_input": "2024-05-26T20:51:42.808305Z",
     "iopub.status.busy": "2024-05-26T20:51:42.807227Z",
     "iopub.status.idle": "2024-05-26T20:51:42.820990Z",
     "shell.execute_reply": "2024-05-26T20:51:42.819864Z"
    },
    "papermill": {
     "duration": 0.041315,
     "end_time": "2024-05-26T20:51:42.823539",
     "exception": false,
     "start_time": "2024-05-26T20:51:42.782224",
     "status": "completed"
    },
    "tags": []
   },
   "outputs": [
    {
     "name": "stdout",
     "output_type": "stream",
     "text": [
      " * sqlite:///FinalDB.db\n",
      "Done.\n"
     ]
    },
    {
     "data": {
      "text/html": [
       "<table>\n",
       "    <thead>\n",
       "        <tr>\n",
       "            <th>School Name</th>\n",
       "            <th>Average Attendance</th>\n",
       "        </tr>\n",
       "    </thead>\n",
       "    <tbody>\n",
       "        <tr>\n",
       "            <td>John Charles Haines Elementary School</td>\n",
       "            <td>98.40%</td>\n",
       "        </tr>\n",
       "        <tr>\n",
       "            <td>James Ward Elementary School</td>\n",
       "            <td>97.80%</td>\n",
       "        </tr>\n",
       "        <tr>\n",
       "            <td>Edgar Allan Poe Elementary Classical School</td>\n",
       "            <td>97.60%</td>\n",
       "        </tr>\n",
       "        <tr>\n",
       "            <td>Orozco Fine Arts &amp; Sciences Elementary School</td>\n",
       "            <td>97.60%</td>\n",
       "        </tr>\n",
       "        <tr>\n",
       "            <td>Rachel Carson Elementary School</td>\n",
       "            <td>97.60%</td>\n",
       "        </tr>\n",
       "        <tr>\n",
       "            <td>Annie Keller Elementary Gifted Magnet School</td>\n",
       "            <td>97.50%</td>\n",
       "        </tr>\n",
       "        <tr>\n",
       "            <td>Andrew Jackson Elementary Language Academy</td>\n",
       "            <td>97.40%</td>\n",
       "        </tr>\n",
       "        <tr>\n",
       "            <td>Lenart Elementary Regional Gifted Center</td>\n",
       "            <td>97.40%</td>\n",
       "        </tr>\n",
       "        <tr>\n",
       "            <td>Disney II Magnet School</td>\n",
       "            <td>97.30%</td>\n",
       "        </tr>\n",
       "        <tr>\n",
       "            <td>John H Vanderpoel Elementary Magnet School</td>\n",
       "            <td>97.20%</td>\n",
       "        </tr>\n",
       "    </tbody>\n",
       "</table>"
      ],
      "text/plain": [
       "[('John Charles Haines Elementary School', '98.40%'),\n",
       " ('James Ward Elementary School', '97.80%'),\n",
       " ('Edgar Allan Poe Elementary Classical School', '97.60%'),\n",
       " ('Orozco Fine Arts & Sciences Elementary School', '97.60%'),\n",
       " ('Rachel Carson Elementary School', '97.60%'),\n",
       " ('Annie Keller Elementary Gifted Magnet School', '97.50%'),\n",
       " ('Andrew Jackson Elementary Language Academy', '97.40%'),\n",
       " ('Lenart Elementary Regional Gifted Center', '97.40%'),\n",
       " ('Disney II Magnet School', '97.30%'),\n",
       " ('John H Vanderpoel Elementary Magnet School', '97.20%')]"
      ]
     },
     "execution_count": 18,
     "metadata": {},
     "output_type": "execute_result"
    }
   ],
   "source": [
    "%sql select Name_of_School as \"School Name\", Average_Student_Attendance as \"Average Attendance\" from CHICAGO_PUBLIC_SCHOOLS_DATA order by Average_Student_Attendance desc nulls last Limit 10; "
   ]
  },
  {
   "cell_type": "markdown",
   "id": "7a0deafc",
   "metadata": {
    "papermill": {
     "duration": 0.022979,
     "end_time": "2024-05-26T20:51:42.869657",
     "exception": false,
     "start_time": "2024-05-26T20:51:42.846678",
     "status": "completed"
    },
    "tags": []
   },
   "source": [
    "### Q9 In ascending order, what are the 5 schools with the lowest average attendance?"
   ]
  },
  {
   "cell_type": "code",
   "execution_count": 19,
   "id": "c6e9f1f0",
   "metadata": {
    "execution": {
     "iopub.execute_input": "2024-05-26T20:51:42.918952Z",
     "iopub.status.busy": "2024-05-26T20:51:42.918583Z",
     "iopub.status.idle": "2024-05-26T20:51:42.930627Z",
     "shell.execute_reply": "2024-05-26T20:51:42.929496Z"
    },
    "papermill": {
     "duration": 0.039412,
     "end_time": "2024-05-26T20:51:42.932872",
     "exception": false,
     "start_time": "2024-05-26T20:51:42.893460",
     "status": "completed"
    },
    "tags": []
   },
   "outputs": [
    {
     "name": "stdout",
     "output_type": "stream",
     "text": [
      " * sqlite:///FinalDB.db\n",
      "Done.\n"
     ]
    },
    {
     "data": {
      "text/html": [
       "<table>\n",
       "    <thead>\n",
       "        <tr>\n",
       "            <th>School Name</th>\n",
       "            <th>Average Attendance</th>\n",
       "        </tr>\n",
       "    </thead>\n",
       "    <tbody>\n",
       "        <tr>\n",
       "            <td>Velma F Thomas Early Childhood Center</td>\n",
       "            <td>None</td>\n",
       "        </tr>\n",
       "        <tr>\n",
       "            <td>Richard T Crane Technical Preparatory High School</td>\n",
       "            <td>57.90%</td>\n",
       "        </tr>\n",
       "        <tr>\n",
       "            <td>Barbara Vick Early Childhood &amp; Family Center</td>\n",
       "            <td>60.90%</td>\n",
       "        </tr>\n",
       "        <tr>\n",
       "            <td>Dyett High School</td>\n",
       "            <td>62.50%</td>\n",
       "        </tr>\n",
       "        <tr>\n",
       "            <td>Wendell Phillips Academy High School</td>\n",
       "            <td>63.00%</td>\n",
       "        </tr>\n",
       "    </tbody>\n",
       "</table>"
      ],
      "text/plain": [
       "[('Velma F Thomas Early Childhood Center', None),\n",
       " ('Richard T Crane Technical Preparatory High School', '57.90%'),\n",
       " ('Barbara Vick Early Childhood & Family Center', '60.90%'),\n",
       " ('Dyett High School', '62.50%'),\n",
       " ('Wendell Phillips Academy High School', '63.00%')]"
      ]
     },
     "execution_count": 19,
     "metadata": {},
     "output_type": "execute_result"
    }
   ],
   "source": [
    "%sql select Name_of_School as \"School Name\", Average_Student_Attendance as \"Average Attendance\" from CHICAGO_PUBLIC_SCHOOLS_DATA order by \"Average Attendance\" Limit 5"
   ]
  },
  {
   "cell_type": "markdown",
   "id": "fd77bb55",
   "metadata": {
    "papermill": {
     "duration": 0.023362,
     "end_time": "2024-05-26T20:51:42.980250",
     "exception": false,
     "start_time": "2024-05-26T20:51:42.956888",
     "status": "completed"
    },
    "tags": []
   },
   "source": [
    "### Q10 Remove the % from the Average Attendance column."
   ]
  },
  {
   "cell_type": "code",
   "execution_count": 20,
   "id": "474a28e5",
   "metadata": {
    "execution": {
     "iopub.execute_input": "2024-05-26T20:51:43.030677Z",
     "iopub.status.busy": "2024-05-26T20:51:43.030233Z",
     "iopub.status.idle": "2024-05-26T20:51:43.043377Z",
     "shell.execute_reply": "2024-05-26T20:51:43.042276Z"
    },
    "papermill": {
     "duration": 0.041395,
     "end_time": "2024-05-26T20:51:43.045826",
     "exception": false,
     "start_time": "2024-05-26T20:51:43.004431",
     "status": "completed"
    },
    "tags": []
   },
   "outputs": [
    {
     "name": "stdout",
     "output_type": "stream",
     "text": [
      " * sqlite:///FinalDB.db\n",
      "Done.\n"
     ]
    },
    {
     "data": {
      "text/html": [
       "<table>\n",
       "    <thead>\n",
       "        <tr>\n",
       "            <th>NAME_OF_SCHOOL</th>\n",
       "            <th>Average Attendance</th>\n",
       "        </tr>\n",
       "    </thead>\n",
       "    <tbody>\n",
       "        <tr>\n",
       "            <td>Velma F Thomas Early Childhood Center</td>\n",
       "            <td>None</td>\n",
       "        </tr>\n",
       "        <tr>\n",
       "            <td>Richard T Crane Technical Preparatory High School</td>\n",
       "            <td>57.90</td>\n",
       "        </tr>\n",
       "        <tr>\n",
       "            <td>Barbara Vick Early Childhood &amp; Family Center</td>\n",
       "            <td>60.90</td>\n",
       "        </tr>\n",
       "        <tr>\n",
       "            <td>Dyett High School</td>\n",
       "            <td>62.50</td>\n",
       "        </tr>\n",
       "        <tr>\n",
       "            <td>Wendell Phillips Academy High School</td>\n",
       "            <td>63.00</td>\n",
       "        </tr>\n",
       "    </tbody>\n",
       "</table>"
      ],
      "text/plain": [
       "[('Velma F Thomas Early Childhood Center', None),\n",
       " ('Richard T Crane Technical Preparatory High School', '57.90'),\n",
       " ('Barbara Vick Early Childhood & Family Center', '60.90'),\n",
       " ('Dyett High School', '62.50'),\n",
       " ('Wendell Phillips Academy High School', '63.00')]"
      ]
     },
     "execution_count": 20,
     "metadata": {},
     "output_type": "execute_result"
    }
   ],
   "source": [
    "%sql SELECT Name_of_School, REPLACE(AVERAGE_STUDENT_ATTENDANCE, '%', '' ) as \"Average Attendance\" from CHICAGO_PUBLIC_SCHOOLS_DATA order by \"Average Attendance\" Limit 5;"
   ]
  },
  {
   "cell_type": "markdown",
   "id": "83ef3bcb",
   "metadata": {
    "papermill": {
     "duration": 0.02362,
     "end_time": "2024-05-26T20:51:43.093412",
     "exception": false,
     "start_time": "2024-05-26T20:51:43.069792",
     "status": "completed"
    },
    "tags": []
   },
   "source": [
    "### Q11 Which schools have Average Attendance lower than 70%?"
   ]
  },
  {
   "cell_type": "code",
   "execution_count": 21,
   "id": "fa5a9c36",
   "metadata": {
    "execution": {
     "iopub.execute_input": "2024-05-26T20:51:43.143923Z",
     "iopub.status.busy": "2024-05-26T20:51:43.143065Z",
     "iopub.status.idle": "2024-05-26T20:51:43.157759Z",
     "shell.execute_reply": "2024-05-26T20:51:43.156354Z"
    },
    "papermill": {
     "duration": 0.042991,
     "end_time": "2024-05-26T20:51:43.160600",
     "exception": false,
     "start_time": "2024-05-26T20:51:43.117609",
     "status": "completed"
    },
    "tags": []
   },
   "outputs": [
    {
     "name": "stdout",
     "output_type": "stream",
     "text": [
      " * sqlite:///FinalDB.db\n",
      "Done.\n"
     ]
    },
    {
     "data": {
      "text/html": [
       "<table>\n",
       "    <thead>\n",
       "        <tr>\n",
       "            <th>NAME_OF_SCHOOL</th>\n",
       "            <th>AVERAGE_STUDENT_ATTENDANCE</th>\n",
       "        </tr>\n",
       "    </thead>\n",
       "    <tbody>\n",
       "        <tr>\n",
       "            <td>Richard T Crane Technical Preparatory High School</td>\n",
       "            <td>57.90%</td>\n",
       "        </tr>\n",
       "        <tr>\n",
       "            <td>Barbara Vick Early Childhood &amp; Family Center</td>\n",
       "            <td>60.90%</td>\n",
       "        </tr>\n",
       "        <tr>\n",
       "            <td>Dyett High School</td>\n",
       "            <td>62.50%</td>\n",
       "        </tr>\n",
       "        <tr>\n",
       "            <td>Wendell Phillips Academy High School</td>\n",
       "            <td>63.00%</td>\n",
       "        </tr>\n",
       "        <tr>\n",
       "            <td>Orr Academy High School</td>\n",
       "            <td>66.30%</td>\n",
       "        </tr>\n",
       "        <tr>\n",
       "            <td>Manley Career Academy High School</td>\n",
       "            <td>66.80%</td>\n",
       "        </tr>\n",
       "        <tr>\n",
       "            <td>Chicago Vocational Career Academy High School</td>\n",
       "            <td>68.80%</td>\n",
       "        </tr>\n",
       "        <tr>\n",
       "            <td>Roberto Clemente Community Academy High School</td>\n",
       "            <td>69.60%</td>\n",
       "        </tr>\n",
       "    </tbody>\n",
       "</table>"
      ],
      "text/plain": [
       "[('Richard T Crane Technical Preparatory High School', '57.90%'),\n",
       " ('Barbara Vick Early Childhood & Family Center', '60.90%'),\n",
       " ('Dyett High School', '62.50%'),\n",
       " ('Wendell Phillips Academy High School', '63.00%'),\n",
       " ('Orr Academy High School', '66.30%'),\n",
       " ('Manley Career Academy High School', '66.80%'),\n",
       " ('Chicago Vocational Career Academy High School', '68.80%'),\n",
       " ('Roberto Clemente Community Academy High School', '69.60%')]"
      ]
     },
     "execution_count": 21,
     "metadata": {},
     "output_type": "execute_result"
    }
   ],
   "source": [
    "%sql SELECT Name_of_School, Average_Student_Attendance  \\\n",
    "     from CHICAGO_PUBLIC_SCHOOLS_DATA \\\n",
    "     where CAST (Average_Student_Attendance AS DOUBLE ) < 70 \\\n",
    "     order by Average_Student_Attendance "
   ]
  },
  {
   "cell_type": "markdown",
   "id": "d52a172a",
   "metadata": {
    "papermill": {
     "duration": 0.024323,
     "end_time": "2024-05-26T20:51:43.209331",
     "exception": false,
     "start_time": "2024-05-26T20:51:43.185008",
     "status": "completed"
    },
    "tags": []
   },
   "source": [
    "### Q12 What is the College Enrollment for each Community Area? "
   ]
  },
  {
   "cell_type": "code",
   "execution_count": 22,
   "id": "1cb24b26",
   "metadata": {
    "execution": {
     "iopub.execute_input": "2024-05-26T20:51:43.260120Z",
     "iopub.status.busy": "2024-05-26T20:51:43.259692Z",
     "iopub.status.idle": "2024-05-26T20:51:43.275387Z",
     "shell.execute_reply": "2024-05-26T20:51:43.274112Z"
    },
    "papermill": {
     "duration": 0.044282,
     "end_time": "2024-05-26T20:51:43.278011",
     "exception": false,
     "start_time": "2024-05-26T20:51:43.233729",
     "status": "completed"
    },
    "tags": []
   },
   "outputs": [
    {
     "name": "stdout",
     "output_type": "stream",
     "text": [
      " * sqlite:///FinalDB.db\n",
      "Done.\n"
     ]
    },
    {
     "data": {
      "text/html": [
       "<table>\n",
       "    <thead>\n",
       "        <tr>\n",
       "            <th>total enrollment</th>\n",
       "            <th>Community Name</th>\n",
       "        </tr>\n",
       "    </thead>\n",
       "    <tbody>\n",
       "        <tr>\n",
       "            <td>6864</td>\n",
       "            <td>ALBANY PARK</td>\n",
       "        </tr>\n",
       "        <tr>\n",
       "            <td>4823</td>\n",
       "            <td>ARCHER HEIGHTS</td>\n",
       "        </tr>\n",
       "        <tr>\n",
       "            <td>1458</td>\n",
       "            <td>ARMOUR SQUARE</td>\n",
       "        </tr>\n",
       "        <tr>\n",
       "            <td>6483</td>\n",
       "            <td>ASHBURN</td>\n",
       "        </tr>\n",
       "        <tr>\n",
       "            <td>4175</td>\n",
       "            <td>AUBURN GRESHAM</td>\n",
       "        </tr>\n",
       "        <tr>\n",
       "            <td>10933</td>\n",
       "            <td>AUSTIN</td>\n",
       "        </tr>\n",
       "        <tr>\n",
       "            <td>1522</td>\n",
       "            <td>AVALON PARK</td>\n",
       "        </tr>\n",
       "        <tr>\n",
       "            <td>3640</td>\n",
       "            <td>AVONDALE</td>\n",
       "        </tr>\n",
       "        <tr>\n",
       "            <td>14386</td>\n",
       "            <td>BELMONT CRAGIN</td>\n",
       "        </tr>\n",
       "        <tr>\n",
       "            <td>1636</td>\n",
       "            <td>BEVERLY</td>\n",
       "        </tr>\n",
       "        <tr>\n",
       "            <td>3167</td>\n",
       "            <td>BRIDGEPORT</td>\n",
       "        </tr>\n",
       "        <tr>\n",
       "            <td>9647</td>\n",
       "            <td>BRIGHTON PARK</td>\n",
       "        </tr>\n",
       "        <tr>\n",
       "            <td>549</td>\n",
       "            <td>BURNSIDE</td>\n",
       "        </tr>\n",
       "        <tr>\n",
       "            <td>1568</td>\n",
       "            <td>CALUMET HEIGHTS</td>\n",
       "        </tr>\n",
       "        <tr>\n",
       "            <td>5042</td>\n",
       "            <td>CHATHAM</td>\n",
       "        </tr>\n",
       "        <tr>\n",
       "            <td>7086</td>\n",
       "            <td>CHICAGO LAWN</td>\n",
       "        </tr>\n",
       "        <tr>\n",
       "            <td>2085</td>\n",
       "            <td>CLEARING</td>\n",
       "        </tr>\n",
       "        <tr>\n",
       "            <td>4670</td>\n",
       "            <td>DOUGLAS</td>\n",
       "        </tr>\n",
       "        <tr>\n",
       "            <td>4568</td>\n",
       "            <td>DUNNING</td>\n",
       "        </tr>\n",
       "        <tr>\n",
       "            <td>5337</td>\n",
       "            <td>EAST GARFIELD PARK</td>\n",
       "        </tr>\n",
       "        <tr>\n",
       "            <td>5305</td>\n",
       "            <td>EAST SIDE</td>\n",
       "        </tr>\n",
       "        <tr>\n",
       "            <td>4600</td>\n",
       "            <td>EDGEWATER</td>\n",
       "        </tr>\n",
       "        <tr>\n",
       "            <td>910</td>\n",
       "            <td>EDISON PARK</td>\n",
       "        </tr>\n",
       "        <tr>\n",
       "            <td>6832</td>\n",
       "            <td>ENGLEWOOD</td>\n",
       "        </tr>\n",
       "        <tr>\n",
       "            <td>1431</td>\n",
       "            <td>FOREST GLEN</td>\n",
       "        </tr>\n",
       "        <tr>\n",
       "            <td>531</td>\n",
       "            <td>FULLER PARK</td>\n",
       "        </tr>\n",
       "        <tr>\n",
       "            <td>9915</td>\n",
       "            <td>GAGE PARK</td>\n",
       "        </tr>\n",
       "        <tr>\n",
       "            <td>4552</td>\n",
       "            <td>GARFIELD RIDGE</td>\n",
       "        </tr>\n",
       "        <tr>\n",
       "            <td>2809</td>\n",
       "            <td>GRAND BOULEVARD</td>\n",
       "        </tr>\n",
       "        <tr>\n",
       "            <td>4051</td>\n",
       "            <td>GREATER GRAND CROSSING</td>\n",
       "        </tr>\n",
       "        <tr>\n",
       "            <td>963</td>\n",
       "            <td>HEGEWISCH</td>\n",
       "        </tr>\n",
       "        <tr>\n",
       "            <td>3975</td>\n",
       "            <td>HERMOSA</td>\n",
       "        </tr>\n",
       "        <tr>\n",
       "            <td>8620</td>\n",
       "            <td>HUMBOLDT PARK</td>\n",
       "        </tr>\n",
       "        <tr>\n",
       "            <td>1930</td>\n",
       "            <td>HYDE PARK</td>\n",
       "        </tr>\n",
       "        <tr>\n",
       "            <td>7764</td>\n",
       "            <td>IRVING PARK</td>\n",
       "        </tr>\n",
       "        <tr>\n",
       "            <td>1755</td>\n",
       "            <td>JEFFERSON PARK</td>\n",
       "        </tr>\n",
       "        <tr>\n",
       "            <td>4287</td>\n",
       "            <td>KENWOOD</td>\n",
       "        </tr>\n",
       "        <tr>\n",
       "            <td>7055</td>\n",
       "            <td>LAKE VIEW</td>\n",
       "        </tr>\n",
       "        <tr>\n",
       "            <td>5615</td>\n",
       "            <td>LINCOLN PARK</td>\n",
       "        </tr>\n",
       "        <tr>\n",
       "            <td>4132</td>\n",
       "            <td>LINCOLN SQUARE</td>\n",
       "        </tr>\n",
       "        <tr>\n",
       "            <td>7351</td>\n",
       "            <td>LOGAN SQUARE</td>\n",
       "        </tr>\n",
       "        <tr>\n",
       "            <td>871</td>\n",
       "            <td>LOOP</td>\n",
       "        </tr>\n",
       "        <tr>\n",
       "            <td>7257</td>\n",
       "            <td>LOWER WEST SIDE</td>\n",
       "        </tr>\n",
       "        <tr>\n",
       "            <td>1552</td>\n",
       "            <td>MCKINLEY PARK</td>\n",
       "        </tr>\n",
       "        <tr>\n",
       "            <td>1317</td>\n",
       "            <td>MONTCLARE</td>\n",
       "        </tr>\n",
       "        <tr>\n",
       "            <td>3271</td>\n",
       "            <td>MORGAN PARK</td>\n",
       "        </tr>\n",
       "        <tr>\n",
       "            <td>2091</td>\n",
       "            <td>MOUNT GREENWOOD</td>\n",
       "        </tr>\n",
       "        <tr>\n",
       "            <td>3362</td>\n",
       "            <td>NEAR NORTH SIDE</td>\n",
       "        </tr>\n",
       "        <tr>\n",
       "            <td>1378</td>\n",
       "            <td>NEAR SOUTH SIDE</td>\n",
       "        </tr>\n",
       "        <tr>\n",
       "            <td>7975</td>\n",
       "            <td>NEAR WEST SIDE</td>\n",
       "        </tr>\n",
       "        <tr>\n",
       "            <td>7922</td>\n",
       "            <td>NEW CITY</td>\n",
       "        </tr>\n",
       "        <tr>\n",
       "            <td>7541</td>\n",
       "            <td>NORTH CENTER</td>\n",
       "        </tr>\n",
       "        <tr>\n",
       "            <td>5146</td>\n",
       "            <td>NORTH LAWNDALE</td>\n",
       "        </tr>\n",
       "        <tr>\n",
       "            <td>4210</td>\n",
       "            <td>NORTH PARK</td>\n",
       "        </tr>\n",
       "        <tr>\n",
       "            <td>6469</td>\n",
       "            <td>NORWOOD PARK</td>\n",
       "        </tr>\n",
       "        <tr>\n",
       "            <td>140</td>\n",
       "            <td>OAKLAND</td>\n",
       "        </tr>\n",
       "        <tr>\n",
       "            <td>786</td>\n",
       "            <td>OHARE</td>\n",
       "        </tr>\n",
       "        <tr>\n",
       "            <td>6954</td>\n",
       "            <td>PORTAGE PARK</td>\n",
       "        </tr>\n",
       "        <tr>\n",
       "            <td>1620</td>\n",
       "            <td>PULLMAN</td>\n",
       "        </tr>\n",
       "        <tr>\n",
       "            <td>1547</td>\n",
       "            <td>RIVERDALE</td>\n",
       "        </tr>\n",
       "        <tr>\n",
       "            <td>4068</td>\n",
       "            <td>ROGERS PARK</td>\n",
       "        </tr>\n",
       "        <tr>\n",
       "            <td>7020</td>\n",
       "            <td>ROSELAND</td>\n",
       "        </tr>\n",
       "        <tr>\n",
       "            <td>4043</td>\n",
       "            <td>SOUTH CHICAGO</td>\n",
       "        </tr>\n",
       "        <tr>\n",
       "            <td>1859</td>\n",
       "            <td>SOUTH DEERING</td>\n",
       "        </tr>\n",
       "        <tr>\n",
       "            <td>14793</td>\n",
       "            <td>SOUTH LAWNDALE</td>\n",
       "        </tr>\n",
       "        <tr>\n",
       "            <td>4543</td>\n",
       "            <td>SOUTH SHORE</td>\n",
       "        </tr>\n",
       "        <tr>\n",
       "            <td>4388</td>\n",
       "            <td>UPTOWN</td>\n",
       "        </tr>\n",
       "        <tr>\n",
       "            <td>4006</td>\n",
       "            <td>WASHINGTON HEIGHTS</td>\n",
       "        </tr>\n",
       "        <tr>\n",
       "            <td>2648</td>\n",
       "            <td>WASHINGTON PARK</td>\n",
       "        </tr>\n",
       "        <tr>\n",
       "            <td>3700</td>\n",
       "            <td>WEST ELSDON</td>\n",
       "        </tr>\n",
       "        <tr>\n",
       "            <td>5946</td>\n",
       "            <td>WEST ENGLEWOOD</td>\n",
       "        </tr>\n",
       "        <tr>\n",
       "            <td>2622</td>\n",
       "            <td>WEST GARFIELD PARK</td>\n",
       "        </tr>\n",
       "        <tr>\n",
       "            <td>4207</td>\n",
       "            <td>WEST LAWN</td>\n",
       "        </tr>\n",
       "        <tr>\n",
       "            <td>3240</td>\n",
       "            <td>WEST PULLMAN</td>\n",
       "        </tr>\n",
       "        <tr>\n",
       "            <td>8197</td>\n",
       "            <td>WEST RIDGE</td>\n",
       "        </tr>\n",
       "        <tr>\n",
       "            <td>9429</td>\n",
       "            <td>WEST TOWN</td>\n",
       "        </tr>\n",
       "        <tr>\n",
       "            <td>4206</td>\n",
       "            <td>WOODLAWN</td>\n",
       "        </tr>\n",
       "    </tbody>\n",
       "</table>"
      ],
      "text/plain": [
       "[(6864, 'ALBANY PARK'),\n",
       " (4823, 'ARCHER HEIGHTS'),\n",
       " (1458, 'ARMOUR SQUARE'),\n",
       " (6483, 'ASHBURN'),\n",
       " (4175, 'AUBURN GRESHAM'),\n",
       " (10933, 'AUSTIN'),\n",
       " (1522, 'AVALON PARK'),\n",
       " (3640, 'AVONDALE'),\n",
       " (14386, 'BELMONT CRAGIN'),\n",
       " (1636, 'BEVERLY'),\n",
       " (3167, 'BRIDGEPORT'),\n",
       " (9647, 'BRIGHTON PARK'),\n",
       " (549, 'BURNSIDE'),\n",
       " (1568, 'CALUMET HEIGHTS'),\n",
       " (5042, 'CHATHAM'),\n",
       " (7086, 'CHICAGO LAWN'),\n",
       " (2085, 'CLEARING'),\n",
       " (4670, 'DOUGLAS'),\n",
       " (4568, 'DUNNING'),\n",
       " (5337, 'EAST GARFIELD PARK'),\n",
       " (5305, 'EAST SIDE'),\n",
       " (4600, 'EDGEWATER'),\n",
       " (910, 'EDISON PARK'),\n",
       " (6832, 'ENGLEWOOD'),\n",
       " (1431, 'FOREST GLEN'),\n",
       " (531, 'FULLER PARK'),\n",
       " (9915, 'GAGE PARK'),\n",
       " (4552, 'GARFIELD RIDGE'),\n",
       " (2809, 'GRAND BOULEVARD'),\n",
       " (4051, 'GREATER GRAND CROSSING'),\n",
       " (963, 'HEGEWISCH'),\n",
       " (3975, 'HERMOSA'),\n",
       " (8620, 'HUMBOLDT PARK'),\n",
       " (1930, 'HYDE PARK'),\n",
       " (7764, 'IRVING PARK'),\n",
       " (1755, 'JEFFERSON PARK'),\n",
       " (4287, 'KENWOOD'),\n",
       " (7055, 'LAKE VIEW'),\n",
       " (5615, 'LINCOLN PARK'),\n",
       " (4132, 'LINCOLN SQUARE'),\n",
       " (7351, 'LOGAN SQUARE'),\n",
       " (871, 'LOOP'),\n",
       " (7257, 'LOWER WEST SIDE'),\n",
       " (1552, 'MCKINLEY PARK'),\n",
       " (1317, 'MONTCLARE'),\n",
       " (3271, 'MORGAN PARK'),\n",
       " (2091, 'MOUNT GREENWOOD'),\n",
       " (3362, 'NEAR NORTH SIDE'),\n",
       " (1378, 'NEAR SOUTH SIDE'),\n",
       " (7975, 'NEAR WEST SIDE'),\n",
       " (7922, 'NEW CITY'),\n",
       " (7541, 'NORTH CENTER'),\n",
       " (5146, 'NORTH LAWNDALE'),\n",
       " (4210, 'NORTH PARK'),\n",
       " (6469, 'NORWOOD PARK'),\n",
       " (140, 'OAKLAND'),\n",
       " (786, 'OHARE'),\n",
       " (6954, 'PORTAGE PARK'),\n",
       " (1620, 'PULLMAN'),\n",
       " (1547, 'RIVERDALE'),\n",
       " (4068, 'ROGERS PARK'),\n",
       " (7020, 'ROSELAND'),\n",
       " (4043, 'SOUTH CHICAGO'),\n",
       " (1859, 'SOUTH DEERING'),\n",
       " (14793, 'SOUTH LAWNDALE'),\n",
       " (4543, 'SOUTH SHORE'),\n",
       " (4388, 'UPTOWN'),\n",
       " (4006, 'WASHINGTON HEIGHTS'),\n",
       " (2648, 'WASHINGTON PARK'),\n",
       " (3700, 'WEST ELSDON'),\n",
       " (5946, 'WEST ENGLEWOOD'),\n",
       " (2622, 'WEST GARFIELD PARK'),\n",
       " (4207, 'WEST LAWN'),\n",
       " (3240, 'WEST PULLMAN'),\n",
       " (8197, 'WEST RIDGE'),\n",
       " (9429, 'WEST TOWN'),\n",
       " (4206, 'WOODLAWN')]"
      ]
     },
     "execution_count": 22,
     "metadata": {},
     "output_type": "execute_result"
    }
   ],
   "source": [
    "%sql select sum(college_enrollment) as \"total enrollment\", community_area_name as \"Community Name\" from chicago_public_schools_data group by \"Community Name\";  "
   ]
  },
  {
   "cell_type": "markdown",
   "id": "0b10357c",
   "metadata": {
    "papermill": {
     "duration": 0.024749,
     "end_time": "2024-05-26T20:51:43.328409",
     "exception": false,
     "start_time": "2024-05-26T20:51:43.303660",
     "status": "completed"
    },
    "tags": []
   },
   "source": [
    "### Q13 Get the 5 community areas with the least total college enrollment sorted in ascending order."
   ]
  },
  {
   "cell_type": "code",
   "execution_count": 23,
   "id": "4925718d",
   "metadata": {
    "execution": {
     "iopub.execute_input": "2024-05-26T20:51:43.381832Z",
     "iopub.status.busy": "2024-05-26T20:51:43.381439Z",
     "iopub.status.idle": "2024-05-26T20:51:43.393822Z",
     "shell.execute_reply": "2024-05-26T20:51:43.392451Z"
    },
    "papermill": {
     "duration": 0.041894,
     "end_time": "2024-05-26T20:51:43.396545",
     "exception": false,
     "start_time": "2024-05-26T20:51:43.354651",
     "status": "completed"
    },
    "tags": []
   },
   "outputs": [
    {
     "name": "stdout",
     "output_type": "stream",
     "text": [
      " * sqlite:///FinalDB.db\n",
      "Done.\n"
     ]
    },
    {
     "data": {
      "text/html": [
       "<table>\n",
       "    <thead>\n",
       "        <tr>\n",
       "            <th>COMMUNITY_AREA_NAME</th>\n",
       "            <th>TOTAL_ENROLLMENT</th>\n",
       "        </tr>\n",
       "    </thead>\n",
       "    <tbody>\n",
       "        <tr>\n",
       "            <td>OAKLAND</td>\n",
       "            <td>140</td>\n",
       "        </tr>\n",
       "        <tr>\n",
       "            <td>FULLER PARK</td>\n",
       "            <td>531</td>\n",
       "        </tr>\n",
       "        <tr>\n",
       "            <td>BURNSIDE</td>\n",
       "            <td>549</td>\n",
       "        </tr>\n",
       "        <tr>\n",
       "            <td>OHARE</td>\n",
       "            <td>786</td>\n",
       "        </tr>\n",
       "        <tr>\n",
       "            <td>LOOP</td>\n",
       "            <td>871</td>\n",
       "        </tr>\n",
       "    </tbody>\n",
       "</table>"
      ],
      "text/plain": [
       "[('OAKLAND', 140),\n",
       " ('FULLER PARK', 531),\n",
       " ('BURNSIDE', 549),\n",
       " ('OHARE', 786),\n",
       " ('LOOP', 871)]"
      ]
     },
     "execution_count": 23,
     "metadata": {},
     "output_type": "execute_result"
    }
   ],
   "source": [
    "%sql select Community_Area_Name, sum(College_Enrollment) AS TOTAL_ENROLLMENT \\\n",
    "   from CHICAGO_PUBLIC_SCHOOLS_DATA \\\n",
    "   group by Community_Area_Name \\\n",
    "   order by TOTAL_ENROLLMENT \\\n",
    "   Limit 5; "
   ]
  },
  {
   "cell_type": "markdown",
   "id": "3456cd7a",
   "metadata": {
    "papermill": {
     "duration": 0.025112,
     "end_time": "2024-05-26T20:51:43.448477",
     "exception": false,
     "start_time": "2024-05-26T20:51:43.423365",
     "status": "completed"
    },
    "tags": []
   },
   "source": [
    "### Q14 List the 5 schools with the lowest safety score"
   ]
  },
  {
   "cell_type": "code",
   "execution_count": 24,
   "id": "03770961",
   "metadata": {
    "execution": {
     "iopub.execute_input": "2024-05-26T20:51:43.501673Z",
     "iopub.status.busy": "2024-05-26T20:51:43.501262Z",
     "iopub.status.idle": "2024-05-26T20:51:43.514390Z",
     "shell.execute_reply": "2024-05-26T20:51:43.513057Z"
    },
    "papermill": {
     "duration": 0.042811,
     "end_time": "2024-05-26T20:51:43.516965",
     "exception": false,
     "start_time": "2024-05-26T20:51:43.474154",
     "status": "completed"
    },
    "tags": []
   },
   "outputs": [
    {
     "name": "stdout",
     "output_type": "stream",
     "text": [
      " * sqlite:///FinalDB.db\n",
      "Done.\n"
     ]
    },
    {
     "data": {
      "text/html": [
       "<table>\n",
       "    <thead>\n",
       "        <tr>\n",
       "            <th>NAME_OF_SCHOOL</th>\n",
       "            <th>SAFETY_SCORE</th>\n",
       "        </tr>\n",
       "    </thead>\n",
       "    <tbody>\n",
       "        <tr>\n",
       "            <td>Edmond Burke Elementary School</td>\n",
       "            <td>1.0</td>\n",
       "        </tr>\n",
       "        <tr>\n",
       "            <td>Luke O&#x27;Toole Elementary School</td>\n",
       "            <td>5.0</td>\n",
       "        </tr>\n",
       "        <tr>\n",
       "            <td>George W Tilton Elementary School</td>\n",
       "            <td>6.0</td>\n",
       "        </tr>\n",
       "        <tr>\n",
       "            <td>Foster Park Elementary School</td>\n",
       "            <td>11.0</td>\n",
       "        </tr>\n",
       "        <tr>\n",
       "            <td>Emil G Hirsch Metropolitan High School</td>\n",
       "            <td>13.0</td>\n",
       "        </tr>\n",
       "    </tbody>\n",
       "</table>"
      ],
      "text/plain": [
       "[('Edmond Burke Elementary School', 1.0),\n",
       " (\"Luke O'Toole Elementary School\", 5.0),\n",
       " ('George W Tilton Elementary School', 6.0),\n",
       " ('Foster Park Elementary School', 11.0),\n",
       " ('Emil G Hirsch Metropolitan High School', 13.0)]"
      ]
     },
     "execution_count": 24,
     "metadata": {},
     "output_type": "execute_result"
    }
   ],
   "source": [
    "%sql select Name_of_School, SAFETY_SCORE \\\n",
    "   from CHICAGO_PUBLIC_SCHOOLS_DATA where safety_score != 'None'\\\n",
    "   order by SAFETY_SCORE asc \\\n",
    "   LIMIT 5 "
   ]
  },
  {
   "cell_type": "markdown",
   "id": "6898ef99",
   "metadata": {
    "papermill": {
     "duration": 0.025212,
     "end_time": "2024-05-26T20:51:43.567728",
     "exception": false,
     "start_time": "2024-05-26T20:51:43.542516",
     "status": "completed"
    },
    "tags": []
   },
   "source": [
    "### Q15 Get the hardship index for the community area of the school which has a college enrollment of 4368"
   ]
  },
  {
   "cell_type": "code",
   "execution_count": 25,
   "id": "604be0ae",
   "metadata": {
    "execution": {
     "iopub.execute_input": "2024-05-26T20:51:43.620467Z",
     "iopub.status.busy": "2024-05-26T20:51:43.620018Z",
     "iopub.status.idle": "2024-05-26T20:51:43.630768Z",
     "shell.execute_reply": "2024-05-26T20:51:43.629893Z"
    },
    "papermill": {
     "duration": 0.040191,
     "end_time": "2024-05-26T20:51:43.633341",
     "exception": false,
     "start_time": "2024-05-26T20:51:43.593150",
     "status": "completed"
    },
    "tags": []
   },
   "outputs": [
    {
     "name": "stdout",
     "output_type": "stream",
     "text": [
      " * sqlite:///FinalDB.db\n",
      "Done.\n"
     ]
    },
    {
     "data": {
      "text/html": [
       "<table>\n",
       "    <thead>\n",
       "        <tr>\n",
       "            <th>HARDSHIP_INDEX</th>\n",
       "        </tr>\n",
       "    </thead>\n",
       "    <tbody>\n",
       "        <tr>\n",
       "            <td>6.0</td>\n",
       "        </tr>\n",
       "    </tbody>\n",
       "</table>"
      ],
      "text/plain": [
       "[(6.0,)]"
      ]
     },
     "execution_count": 25,
     "metadata": {},
     "output_type": "execute_result"
    }
   ],
   "source": [
    "%%sql \n",
    "select hardship_index from CENSUS_DATA CD, CHICAGO_PUBLIC_SCHOOLS_DATA CPS \n",
    "where CD.community_area_number = CPS.community_area_number \n",
    "and college_enrollment = 4368"
   ]
  },
  {
   "cell_type": "markdown",
   "id": "12933a71",
   "metadata": {
    "papermill": {
     "duration": 0.025606,
     "end_time": "2024-05-26T20:51:43.684632",
     "exception": false,
     "start_time": "2024-05-26T20:51:43.659026",
     "status": "completed"
    },
    "tags": []
   },
   "source": [
    "### Q16 Get the hardship index for the community area with the highest value for college enrollment. "
   ]
  },
  {
   "cell_type": "code",
   "execution_count": 26,
   "id": "d744d40a",
   "metadata": {
    "execution": {
     "iopub.execute_input": "2024-05-26T20:51:43.738736Z",
     "iopub.status.busy": "2024-05-26T20:51:43.737913Z",
     "iopub.status.idle": "2024-05-26T20:51:43.753572Z",
     "shell.execute_reply": "2024-05-26T20:51:43.752495Z"
    },
    "papermill": {
     "duration": 0.045486,
     "end_time": "2024-05-26T20:51:43.755999",
     "exception": false,
     "start_time": "2024-05-26T20:51:43.710513",
     "status": "completed"
    },
    "tags": []
   },
   "outputs": [
    {
     "name": "stdout",
     "output_type": "stream",
     "text": [
      " * sqlite:///FinalDB.db\n",
      "Done.\n"
     ]
    },
    {
     "data": {
      "text/html": [
       "<table>\n",
       "    <thead>\n",
       "        <tr>\n",
       "            <th>community area number</th>\n",
       "            <th>community name</th>\n",
       "            <th>hardship index</th>\n",
       "        </tr>\n",
       "    </thead>\n",
       "    <tbody>\n",
       "        <tr>\n",
       "            <td>5.0</td>\n",
       "            <td>North Center</td>\n",
       "            <td>6.0</td>\n",
       "        </tr>\n",
       "    </tbody>\n",
       "</table>"
      ],
      "text/plain": [
       "[(5.0, 'North Center', 6.0)]"
      ]
     },
     "execution_count": 26,
     "metadata": {},
     "output_type": "execute_result"
    }
   ],
   "source": [
    "%sql select community_area_number as \"community area number\", community_area_name as \"community name\", hardship_index as \"hardship index\" from CENSUS_DATA \\\n",
    "   where community_area_number in \\\n",
    "   ( select community_area_number from CHICAGO_PUBLIC_SCHOOLS_DATA order by college_enrollment desc limit 1 )"
   ]
  },
  {
   "cell_type": "markdown",
   "id": "26aea630",
   "metadata": {
    "papermill": {
     "duration": 0.025674,
     "end_time": "2024-05-26T20:51:43.807758",
     "exception": false,
     "start_time": "2024-05-26T20:51:43.782084",
     "status": "completed"
    },
    "tags": []
   },
   "source": [
    "### Q17 What is the total number of crimes recorded in the crime dataset?"
   ]
  },
  {
   "cell_type": "code",
   "execution_count": 27,
   "id": "9f436b94",
   "metadata": {
    "execution": {
     "iopub.execute_input": "2024-05-26T20:51:43.866301Z",
     "iopub.status.busy": "2024-05-26T20:51:43.865350Z",
     "iopub.status.idle": "2024-05-26T20:51:43.876610Z",
     "shell.execute_reply": "2024-05-26T20:51:43.875524Z"
    },
    "papermill": {
     "duration": 0.042516,
     "end_time": "2024-05-26T20:51:43.879081",
     "exception": false,
     "start_time": "2024-05-26T20:51:43.836565",
     "status": "completed"
    },
    "tags": []
   },
   "outputs": [
    {
     "name": "stdout",
     "output_type": "stream",
     "text": [
      " * sqlite:///FinalDB.db\n",
      "Done.\n"
     ]
    },
    {
     "data": {
      "text/html": [
       "<table>\n",
       "    <thead>\n",
       "        <tr>\n",
       "            <th>COUNT(CASE_NUMBER)</th>\n",
       "        </tr>\n",
       "    </thead>\n",
       "    <tbody>\n",
       "        <tr>\n",
       "            <td>533</td>\n",
       "        </tr>\n",
       "    </tbody>\n",
       "</table>"
      ],
      "text/plain": [
       "[(533,)]"
      ]
     },
     "execution_count": 27,
     "metadata": {},
     "output_type": "execute_result"
    }
   ],
   "source": [
    "%sql SELECT COUNT(CASE_NUMBER) FROM CHICAGO_CRIME_DATA"
   ]
  },
  {
   "cell_type": "markdown",
   "id": "d371d1d0",
   "metadata": {
    "papermill": {
     "duration": 0.026167,
     "end_time": "2024-05-26T20:51:43.931958",
     "exception": false,
     "start_time": "2024-05-26T20:51:43.905791",
     "status": "completed"
    },
    "tags": []
   },
   "source": [
    "### Q17 List community area names and numbers with per capita income less than $11,000. "
   ]
  },
  {
   "cell_type": "code",
   "execution_count": 28,
   "id": "b5d6225e",
   "metadata": {
    "execution": {
     "iopub.execute_input": "2024-05-26T20:51:43.989261Z",
     "iopub.status.busy": "2024-05-26T20:51:43.987890Z",
     "iopub.status.idle": "2024-05-26T20:51:43.999764Z",
     "shell.execute_reply": "2024-05-26T20:51:43.998452Z"
    },
    "papermill": {
     "duration": 0.042662,
     "end_time": "2024-05-26T20:51:44.002359",
     "exception": false,
     "start_time": "2024-05-26T20:51:43.959697",
     "status": "completed"
    },
    "tags": []
   },
   "outputs": [
    {
     "name": "stdout",
     "output_type": "stream",
     "text": [
      " * sqlite:///FinalDB.db\n",
      "Done.\n"
     ]
    },
    {
     "data": {
      "text/html": [
       "<table>\n",
       "    <thead>\n",
       "        <tr>\n",
       "            <th>Income</th>\n",
       "            <th>Community Name</th>\n",
       "            <th>Communitu number</th>\n",
       "        </tr>\n",
       "    </thead>\n",
       "    <tbody>\n",
       "        <tr>\n",
       "            <td>10934</td>\n",
       "            <td>West Garfield Park</td>\n",
       "            <td>26.0</td>\n",
       "        </tr>\n",
       "        <tr>\n",
       "            <td>10402</td>\n",
       "            <td>South Lawndale</td>\n",
       "            <td>30.0</td>\n",
       "        </tr>\n",
       "        <tr>\n",
       "            <td>10432</td>\n",
       "            <td>Fuller Park</td>\n",
       "            <td>37.0</td>\n",
       "        </tr>\n",
       "        <tr>\n",
       "            <td>8201</td>\n",
       "            <td>Riverdale</td>\n",
       "            <td>54.0</td>\n",
       "        </tr>\n",
       "    </tbody>\n",
       "</table>"
      ],
      "text/plain": [
       "[(10934, 'West Garfield Park', 26.0),\n",
       " (10402, 'South Lawndale', 30.0),\n",
       " (10432, 'Fuller Park', 37.0),\n",
       " (8201, 'Riverdale', 54.0)]"
      ]
     },
     "execution_count": 28,
     "metadata": {},
     "output_type": "execute_result"
    }
   ],
   "source": [
    "%%sql\n",
    "SELECT PER_CAPITA_INCOME as \"Income\", COMMUNITY_AREA_NAME as \"Community Name\", COMMUNITY_AREA_NUMBER as \"Communitu number\" FROM CENSUS_DATA\n",
    "where PER_CAPITA_INCOME < 11000; "
   ]
  },
  {
   "cell_type": "markdown",
   "id": "18f123c6",
   "metadata": {
    "papermill": {
     "duration": 0.026395,
     "end_time": "2024-05-26T20:51:44.055963",
     "exception": false,
     "start_time": "2024-05-26T20:51:44.029568",
     "status": "completed"
    },
    "tags": []
   },
   "source": [
    "### Q18 List all case numbers for crimes involving minors? (Excluding children)"
   ]
  },
  {
   "cell_type": "code",
   "execution_count": 29,
   "id": "c2cd289e",
   "metadata": {
    "execution": {
     "iopub.execute_input": "2024-05-26T20:51:44.112164Z",
     "iopub.status.busy": "2024-05-26T20:51:44.111703Z",
     "iopub.status.idle": "2024-05-26T20:51:44.123311Z",
     "shell.execute_reply": "2024-05-26T20:51:44.121706Z"
    },
    "papermill": {
     "duration": 0.043532,
     "end_time": "2024-05-26T20:51:44.126457",
     "exception": false,
     "start_time": "2024-05-26T20:51:44.082925",
     "status": "completed"
    },
    "tags": []
   },
   "outputs": [
    {
     "name": "stdout",
     "output_type": "stream",
     "text": [
      " * sqlite:///FinalDB.db\n",
      "Done.\n"
     ]
    },
    {
     "data": {
      "text/html": [
       "<table>\n",
       "    <thead>\n",
       "        <tr>\n",
       "            <th>CASE_NUMBER</th>\n",
       "        </tr>\n",
       "    </thead>\n",
       "    <tbody>\n",
       "        <tr>\n",
       "            <td>HL266884</td>\n",
       "        </tr>\n",
       "        <tr>\n",
       "            <td>HK238408</td>\n",
       "        </tr>\n",
       "    </tbody>\n",
       "</table>"
      ],
      "text/plain": [
       "[('HL266884',), ('HK238408',)]"
      ]
     },
     "execution_count": 29,
     "metadata": {},
     "output_type": "execute_result"
    }
   ],
   "source": [
    "%sql SELECT CASE_NUMBER from CHICAGO_CRIME_DATA \\\n",
    "where DESCRIPTION LIKE '%MINOR%';"
   ]
  },
  {
   "cell_type": "markdown",
   "id": "4e93be19",
   "metadata": {
    "papermill": {
     "duration": 0.026625,
     "end_time": "2024-05-26T20:51:44.180357",
     "exception": false,
     "start_time": "2024-05-26T20:51:44.153732",
     "status": "completed"
    },
    "tags": []
   },
   "source": [
    "### Q19 List all kidnapping crimes involving a child"
   ]
  },
  {
   "cell_type": "code",
   "execution_count": 30,
   "id": "1f33361a",
   "metadata": {
    "execution": {
     "iopub.execute_input": "2024-05-26T20:51:44.237472Z",
     "iopub.status.busy": "2024-05-26T20:51:44.237006Z",
     "iopub.status.idle": "2024-05-26T20:51:44.250082Z",
     "shell.execute_reply": "2024-05-26T20:51:44.248641Z"
    },
    "papermill": {
     "duration": 0.045038,
     "end_time": "2024-05-26T20:51:44.253668",
     "exception": false,
     "start_time": "2024-05-26T20:51:44.208630",
     "status": "completed"
    },
    "tags": []
   },
   "outputs": [
    {
     "name": "stdout",
     "output_type": "stream",
     "text": [
      " * sqlite:///FinalDB.db\n",
      "Done.\n"
     ]
    },
    {
     "data": {
      "text/html": [
       "<table>\n",
       "    <thead>\n",
       "        <tr>\n",
       "            <th>Case Number</th>\n",
       "            <th>Primary Type</th>\n",
       "            <th>Desription</th>\n",
       "        </tr>\n",
       "    </thead>\n",
       "    <tbody>\n",
       "        <tr>\n",
       "            <td>HN144152</td>\n",
       "            <td>KIDNAPPING</td>\n",
       "            <td>CHILD ABDUCTION/STRANGER</td>\n",
       "        </tr>\n",
       "    </tbody>\n",
       "</table>"
      ],
      "text/plain": [
       "[('HN144152', 'KIDNAPPING', 'CHILD ABDUCTION/STRANGER')]"
      ]
     },
     "execution_count": 30,
     "metadata": {},
     "output_type": "execute_result"
    }
   ],
   "source": [
    "%sql SELECT CASE_NUMBER as \"Case Number\", PRIMARY_TYPE as \"Primary Type\", DESCRIPTION as \"Desription\" FROM CHICAGO_CRIME_DATA \\\n",
    "WHERE PRIMARY_TYPE = \"KIDNAPPING\"\\\n",
    "and description like \"%child%\"; "
   ]
  },
  {
   "cell_type": "markdown",
   "id": "e7cbb757",
   "metadata": {
    "papermill": {
     "duration": 0.026981,
     "end_time": "2024-05-26T20:51:44.307882",
     "exception": false,
     "start_time": "2024-05-26T20:51:44.280901",
     "status": "completed"
    },
    "tags": []
   },
   "source": [
    "### Q20 List the kind of crimes that were recorded at schools without repititions. "
   ]
  },
  {
   "cell_type": "code",
   "execution_count": 31,
   "id": "062be2f8",
   "metadata": {
    "execution": {
     "iopub.execute_input": "2024-05-26T20:51:44.365874Z",
     "iopub.status.busy": "2024-05-26T20:51:44.365433Z",
     "iopub.status.idle": "2024-05-26T20:51:44.378230Z",
     "shell.execute_reply": "2024-05-26T20:51:44.377072Z"
    },
    "papermill": {
     "duration": 0.044811,
     "end_time": "2024-05-26T20:51:44.381160",
     "exception": false,
     "start_time": "2024-05-26T20:51:44.336349",
     "status": "completed"
    },
    "tags": []
   },
   "outputs": [
    {
     "name": "stdout",
     "output_type": "stream",
     "text": [
      " * sqlite:///FinalDB.db\n",
      "Done.\n"
     ]
    },
    {
     "data": {
      "text/html": [
       "<table>\n",
       "    <thead>\n",
       "        <tr>\n",
       "            <th>Primary Type</th>\n",
       "        </tr>\n",
       "    </thead>\n",
       "    <tbody>\n",
       "        <tr>\n",
       "            <td>BATTERY</td>\n",
       "        </tr>\n",
       "        <tr>\n",
       "            <td>CRIMINAL DAMAGE</td>\n",
       "        </tr>\n",
       "        <tr>\n",
       "            <td>NARCOTICS</td>\n",
       "        </tr>\n",
       "        <tr>\n",
       "            <td>ASSAULT</td>\n",
       "        </tr>\n",
       "        <tr>\n",
       "            <td>CRIMINAL TRESPASS</td>\n",
       "        </tr>\n",
       "        <tr>\n",
       "            <td>PUBLIC PEACE VIOLATION</td>\n",
       "        </tr>\n",
       "    </tbody>\n",
       "</table>"
      ],
      "text/plain": [
       "[('BATTERY',),\n",
       " ('CRIMINAL DAMAGE',),\n",
       " ('NARCOTICS',),\n",
       " ('ASSAULT',),\n",
       " ('CRIMINAL TRESPASS',),\n",
       " ('PUBLIC PEACE VIOLATION',)]"
      ]
     },
     "execution_count": 31,
     "metadata": {},
     "output_type": "execute_result"
    }
   ],
   "source": [
    "%sql SELECT  DISTINCT PRIMARY_TYPE as \"Primary Type\" FROM CHICAGO_CRIME_DATA \\\n",
    "where LOCATION_DESCRIPTION like \"%school%\"; "
   ]
  },
  {
   "cell_type": "markdown",
   "id": "d7848b12",
   "metadata": {
    "papermill": {
     "duration": 0.02741,
     "end_time": "2024-05-26T20:51:44.437713",
     "exception": false,
     "start_time": "2024-05-26T20:51:44.410303",
     "status": "completed"
    },
    "tags": []
   },
   "source": [
    "### Q21 List the type of schools along with the average dafety score for each type."
   ]
  },
  {
   "cell_type": "code",
   "execution_count": 32,
   "id": "dd40859a",
   "metadata": {
    "execution": {
     "iopub.execute_input": "2024-05-26T20:51:44.495193Z",
     "iopub.status.busy": "2024-05-26T20:51:44.494761Z",
     "iopub.status.idle": "2024-05-26T20:51:44.507291Z",
     "shell.execute_reply": "2024-05-26T20:51:44.506086Z"
    },
    "papermill": {
     "duration": 0.044176,
     "end_time": "2024-05-26T20:51:44.509822",
     "exception": false,
     "start_time": "2024-05-26T20:51:44.465646",
     "status": "completed"
    },
    "tags": []
   },
   "outputs": [
    {
     "name": "stdout",
     "output_type": "stream",
     "text": [
      " * sqlite:///FinalDB.db\n",
      "Done.\n"
     ]
    },
    {
     "data": {
      "text/html": [
       "<table>\n",
       "    <thead>\n",
       "        <tr>\n",
       "            <th>School Type</th>\n",
       "            <th>Average Safety Score</th>\n",
       "        </tr>\n",
       "    </thead>\n",
       "    <tbody>\n",
       "        <tr>\n",
       "            <td>ES</td>\n",
       "            <td>49.52038369304557</td>\n",
       "        </tr>\n",
       "        <tr>\n",
       "            <td>HS</td>\n",
       "            <td>49.62352941176471</td>\n",
       "        </tr>\n",
       "        <tr>\n",
       "            <td>MS</td>\n",
       "            <td>48.0</td>\n",
       "        </tr>\n",
       "    </tbody>\n",
       "</table>"
      ],
      "text/plain": [
       "[('ES', 49.52038369304557), ('HS', 49.62352941176471), ('MS', 48.0)]"
      ]
     },
     "execution_count": 32,
     "metadata": {},
     "output_type": "execute_result"
    }
   ],
   "source": [
    "%sql SELECT DISTINCT \"Elementary, Middle, or High School\" as \"School Type\", AVG(Safety_Score) as \"Average Safety Score\" FROM CHICAGO_PUBLIC_SCHOOLS_DATA Group by \"Elementary, Middle, or High School\" "
   ]
  },
  {
   "cell_type": "markdown",
   "id": "f9fec964",
   "metadata": {
    "papermill": {
     "duration": 0.028224,
     "end_time": "2024-05-26T20:51:44.566133",
     "exception": false,
     "start_time": "2024-05-26T20:51:44.537909",
     "status": "completed"
    },
    "tags": []
   },
   "source": [
    "### Q22 List 5 community areas with highest % of households below the poverty line."
   ]
  },
  {
   "cell_type": "code",
   "execution_count": 33,
   "id": "a12b9abf",
   "metadata": {
    "execution": {
     "iopub.execute_input": "2024-05-26T20:51:44.624466Z",
     "iopub.status.busy": "2024-05-26T20:51:44.624029Z",
     "iopub.status.idle": "2024-05-26T20:51:44.637557Z",
     "shell.execute_reply": "2024-05-26T20:51:44.636124Z"
    },
    "papermill": {
     "duration": 0.045683,
     "end_time": "2024-05-26T20:51:44.639984",
     "exception": false,
     "start_time": "2024-05-26T20:51:44.594301",
     "status": "completed"
    },
    "tags": []
   },
   "outputs": [
    {
     "name": "stdout",
     "output_type": "stream",
     "text": [
      " * sqlite:///FinalDB.db\n",
      "Done.\n"
     ]
    },
    {
     "data": {
      "text/html": [
       "<table>\n",
       "    <thead>\n",
       "        <tr>\n",
       "            <th>Community Name</th>\n",
       "            <th>% Below Poverty</th>\n",
       "        </tr>\n",
       "    </thead>\n",
       "    <tbody>\n",
       "        <tr>\n",
       "            <td>Riverdale</td>\n",
       "            <td>56.5</td>\n",
       "        </tr>\n",
       "        <tr>\n",
       "            <td>Fuller Park</td>\n",
       "            <td>51.2</td>\n",
       "        </tr>\n",
       "        <tr>\n",
       "            <td>Englewood</td>\n",
       "            <td>46.6</td>\n",
       "        </tr>\n",
       "        <tr>\n",
       "            <td>North Lawndale</td>\n",
       "            <td>43.1</td>\n",
       "        </tr>\n",
       "        <tr>\n",
       "            <td>East Garfield Park</td>\n",
       "            <td>42.4</td>\n",
       "        </tr>\n",
       "    </tbody>\n",
       "</table>"
      ],
      "text/plain": [
       "[('Riverdale', 56.5),\n",
       " ('Fuller Park', 51.2),\n",
       " ('Englewood', 46.6),\n",
       " ('North Lawndale', 43.1),\n",
       " ('East Garfield Park', 42.4)]"
      ]
     },
     "execution_count": 33,
     "metadata": {},
     "output_type": "execute_result"
    }
   ],
   "source": [
    "%sql SELECT community_area_name as \"Community Name\", PERCENT_HOUSEHOLDS_BELOW_POVERTY \"% Below Poverty\" FROM CENSUS_DATA order by PERCENT_HOUSEHOLDS_BELOW_POVERTY desc limit 5"
   ]
  },
  {
   "cell_type": "markdown",
   "id": "b88eb81f",
   "metadata": {
    "papermill": {
     "duration": 0.028306,
     "end_time": "2024-05-26T20:51:44.696566",
     "exception": false,
     "start_time": "2024-05-26T20:51:44.668260",
     "status": "completed"
    },
    "tags": []
   },
   "source": [
    "### Q23 Which community area is most crime prone? "
   ]
  },
  {
   "cell_type": "code",
   "execution_count": 34,
   "id": "c5a3bda4",
   "metadata": {
    "execution": {
     "iopub.execute_input": "2024-05-26T20:51:44.755671Z",
     "iopub.status.busy": "2024-05-26T20:51:44.755216Z",
     "iopub.status.idle": "2024-05-26T20:51:44.769103Z",
     "shell.execute_reply": "2024-05-26T20:51:44.767924Z"
    },
    "papermill": {
     "duration": 0.04646,
     "end_time": "2024-05-26T20:51:44.771805",
     "exception": false,
     "start_time": "2024-05-26T20:51:44.725345",
     "status": "completed"
    },
    "tags": []
   },
   "outputs": [
    {
     "name": "stdout",
     "output_type": "stream",
     "text": [
      " * sqlite:///FinalDB.db\n",
      "Done.\n"
     ]
    },
    {
     "data": {
      "text/html": [
       "<table>\n",
       "    <thead>\n",
       "        <tr>\n",
       "            <th>Community Number</th>\n",
       "            <th>Crime_Count</th>\n",
       "        </tr>\n",
       "    </thead>\n",
       "    <tbody>\n",
       "        <tr>\n",
       "            <td>25.0</td>\n",
       "            <td>43</td>\n",
       "        </tr>\n",
       "    </tbody>\n",
       "</table>"
      ],
      "text/plain": [
       "[(25.0, 43)]"
      ]
     },
     "execution_count": 34,
     "metadata": {},
     "output_type": "execute_result"
    }
   ],
   "source": [
    "%sql select community_area_number as \"Community Number\", Count(*) as Crime_Count from chicago_crime_data group by community_area_number order by Crime_Count desc limit 1"
   ]
  },
  {
   "cell_type": "markdown",
   "id": "bfdc2820",
   "metadata": {
    "papermill": {
     "duration": 0.029614,
     "end_time": "2024-05-26T20:51:44.829881",
     "exception": false,
     "start_time": "2024-05-26T20:51:44.800267",
     "status": "completed"
    },
    "tags": []
   },
   "source": [
    "### Q24 Find the name of the community area with the highest hardship index. (Subquery)"
   ]
  },
  {
   "cell_type": "code",
   "execution_count": 35,
   "id": "91c1301c",
   "metadata": {
    "execution": {
     "iopub.execute_input": "2024-05-26T20:51:44.889128Z",
     "iopub.status.busy": "2024-05-26T20:51:44.888725Z",
     "iopub.status.idle": "2024-05-26T20:51:44.900241Z",
     "shell.execute_reply": "2024-05-26T20:51:44.899091Z"
    },
    "papermill": {
     "duration": 0.044432,
     "end_time": "2024-05-26T20:51:44.902915",
     "exception": false,
     "start_time": "2024-05-26T20:51:44.858483",
     "status": "completed"
    },
    "tags": []
   },
   "outputs": [
    {
     "name": "stdout",
     "output_type": "stream",
     "text": [
      " * sqlite:///FinalDB.db\n",
      "Done.\n"
     ]
    },
    {
     "data": {
      "text/html": [
       "<table>\n",
       "    <thead>\n",
       "        <tr>\n",
       "            <th>Community Name</th>\n",
       "        </tr>\n",
       "    </thead>\n",
       "    <tbody>\n",
       "        <tr>\n",
       "            <td>Riverdale</td>\n",
       "        </tr>\n",
       "    </tbody>\n",
       "</table>"
      ],
      "text/plain": [
       "[('Riverdale',)]"
      ]
     },
     "execution_count": 35,
     "metadata": {},
     "output_type": "execute_result"
    }
   ],
   "source": [
    "%sql select community_area_name as \"Community Name\" from census_data where hardship_index = (select max(hardship_index) from census_data)"
   ]
  },
  {
   "cell_type": "markdown",
   "id": "b697cf81",
   "metadata": {
    "papermill": {
     "duration": 0.030107,
     "end_time": "2024-05-26T20:51:44.961988",
     "exception": false,
     "start_time": "2024-05-26T20:51:44.931881",
     "status": "completed"
    },
    "tags": []
   },
   "source": [
    "### Q25 Determine the Community Area Name with most number of crimes? (Subquery)"
   ]
  },
  {
   "cell_type": "code",
   "execution_count": 36,
   "id": "1b6e59ca",
   "metadata": {
    "execution": {
     "iopub.execute_input": "2024-05-26T20:51:45.021696Z",
     "iopub.status.busy": "2024-05-26T20:51:45.021289Z",
     "iopub.status.idle": "2024-05-26T20:51:45.037049Z",
     "shell.execute_reply": "2024-05-26T20:51:45.035834Z"
    },
    "papermill": {
     "duration": 0.049626,
     "end_time": "2024-05-26T20:51:45.040506",
     "exception": false,
     "start_time": "2024-05-26T20:51:44.990880",
     "status": "completed"
    },
    "tags": []
   },
   "outputs": [
    {
     "name": "stdout",
     "output_type": "stream",
     "text": [
      " * sqlite:///FinalDB.db\n",
      "Done.\n"
     ]
    },
    {
     "data": {
      "text/html": [
       "<table>\n",
       "    <thead>\n",
       "        <tr>\n",
       "            <th>Community Number</th>\n",
       "            <th>Community Name</th>\n",
       "        </tr>\n",
       "    </thead>\n",
       "    <tbody>\n",
       "        <tr>\n",
       "            <td>25.0</td>\n",
       "            <td>Austin</td>\n",
       "        </tr>\n",
       "    </tbody>\n",
       "</table>"
      ],
      "text/plain": [
       "[(25.0, 'Austin')]"
      ]
     },
     "execution_count": 36,
     "metadata": {},
     "output_type": "execute_result"
    }
   ],
   "source": [
    "%sql select community_area_number as \"Community Number\", community_area_name as \"Community Name\" from CENSUS_DATA \\\n",
    "   where community_area_number in \\\n",
    "   (select community_area_number from chicago_crime_data group by community_area_number order by Count(*) desc limit 1)"
   ]
  },
  {
   "cell_type": "code",
   "execution_count": null,
   "id": "ba6f2a77",
   "metadata": {
    "papermill": {
     "duration": 0.029095,
     "end_time": "2024-05-26T20:51:45.100351",
     "exception": false,
     "start_time": "2024-05-26T20:51:45.071256",
     "status": "completed"
    },
    "tags": []
   },
   "outputs": [],
   "source": []
  }
 ],
 "metadata": {
  "kaggle": {
   "accelerator": "none",
   "dataSources": [
    {
     "datasetId": 63,
     "sourceId": 589,
     "sourceType": "datasetVersion"
    }
   ],
   "dockerImageVersionId": 30698,
   "isGpuEnabled": false,
   "isInternetEnabled": true,
   "language": "python",
   "sourceType": "notebook"
  },
  "kernelspec": {
   "display_name": "Python 3",
   "language": "python",
   "name": "python3"
  },
  "language_info": {
   "codemirror_mode": {
    "name": "ipython",
    "version": 3
   },
   "file_extension": ".py",
   "mimetype": "text/x-python",
   "name": "python",
   "nbconvert_exporter": "python",
   "pygments_lexer": "ipython3",
   "version": "3.10.13"
  },
  "papermill": {
   "default_parameters": {},
   "duration": 12.052612,
   "end_time": "2024-05-26T20:51:45.752448",
   "environment_variables": {},
   "exception": null,
   "input_path": "__notebook__.ipynb",
   "output_path": "__notebook__.ipynb",
   "parameters": {},
   "start_time": "2024-05-26T20:51:33.699836",
   "version": "2.5.0"
  }
 },
 "nbformat": 4,
 "nbformat_minor": 5
}
